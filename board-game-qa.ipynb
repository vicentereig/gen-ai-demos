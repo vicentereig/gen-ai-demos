{
 "cells": [
  {
   "cell_type": "code",
   "execution_count": 6,
   "id": "a1fdefcf-62a6-42ea-a9f8-92856afe46e3",
   "metadata": {},
   "outputs": [
    {
     "data": {
      "text/plain": [
       "True"
      ]
     },
     "execution_count": 6,
     "metadata": {},
     "output_type": "execute_result"
    }
   ],
   "source": [
    "import dspy\n",
    "import os\n",
    "from dotenv import load_dotenv\n",
    "load_dotenv()\n",
    "load_dotenv('.secrets')"
   ]
  },
  {
   "cell_type": "code",
   "execution_count": 11,
   "id": "1b87cf4c-8d81-4a45-99dd-32eab6d4bfd1",
   "metadata": {},
   "outputs": [],
   "source": [
    "\n",
    "class BoardGameResearchPlanner(dspy.Signature):\n",
    "    question = dspy.InputField(desc=\"The user's initial query about board games\")\n",
    "    subquestions: list[str] = dspy.OutputField(desc=\"A list of subquestions that get deeper into the theme the user is making research\")\n",
    "\n",
    "class BoardGameResearcher(dspy.Signature):\n",
    "    question = dspy.InputField(desc=\"The user's initial query about board games\")\n",
    "    subquestion: str = dspy.InputField(desc=\"The subquestion you are doing deep research on\")\n",
    "    context = dspy.OutputField(desc=\"The context learned by answering the subquestion while relevant to the initial question\")\n",
    "\n",
    "class BoardGameQuestionAnswer(dspy.Signature):\n",
    "    question = dspy.InputField(desc=\"The user's initial query about board games\")\n",
    "    answer = dspy.OutputField(desc=\"The final answer including all the context researched about board games.\")\n",
    "\n",
    "class BoardGameResearchSummarizer(dspy.Signature):\n",
    "    \"\"\"Condense retrieved information into a focused summary.\"\"\"\n",
    "    question = dspy.InputField(desc=\"The user's initial query about board games\")\n",
    "    context: list[str] = dspy.InputField(desc=\"Research context discovered about the board games you are about to recommend\")\n",
    "    summary = dspy.OutputField(desc=\"Condense retrieved information into a focused summary relevant to the provided context and user question.\")\n",
    "\n",
    "\n",
    "class BoardGameAssistant(dspy.Module):\n",
    "    def __init__(self, **kwargs):\n",
    "        super().__init__(**kwargs)\n",
    "        self.plan_research = dspy.ChainOfThought(BoardGameResearchPlanner)\n",
    "        self.research = dspy.ChainOfThought(BoardGameResearcher)\n",
    "        self.summarize = dspy.ChainOfThought(BoardGameResearchSummarizer)\n",
    "        self.answer = dspy.ChainOfThought(BoardGameQuestionAnswer)\n",
    "\n",
    "    def forward(self, question):\n",
    "        subquestions = self.plan_research(question=question).subquestions\n",
    "        research_context = []\n",
    "        print(f\"Question: {question} research tasks: {len(subquestions)}\")\n",
    "        for subquestion in subquestions:\n",
    "            print(f\" - Researching: {subquestion}\")\n",
    "            research = self.research(subquestion=subquestion, question=question)\n",
    "            research_context = research_context + [research.context]\n",
    "\n",
    "        final_research = self.summarize(context=research_context, question=question)\n",
    "\n",
    "        return dspy.Prediction(answer=final_research.summary)"
   ]
  },
  {
   "cell_type": "code",
   "execution_count": 12,
   "id": "69833045-86a6-4693-8782-1c384c12c01d",
   "metadata": {},
   "outputs": [],
   "source": [
    "lm = dspy.LM('openai/gpt-4o', api_key=os.getenv(\"OPENAI_API_KEY\"))\n",
    "dspy.configure(lm=lm)"
   ]
  },
  {
   "cell_type": "code",
   "execution_count": 14,
   "id": "8ea9f265-140d-4c78-9122-f69f87b69fcf",
   "metadata": {},
   "outputs": [],
   "source": [
    "assistant = BoardGameAssistant()\n",
    "recommendation = assistant(question=\"What is the best opening move in Catan?\")"
   ]
  },
  {
   "cell_type": "code",
   "execution_count": 15,
   "id": "478000b7-e952-4bf8-aebf-22090ddfc995",
   "metadata": {},
   "outputs": [
    {
     "data": {
      "text/plain": [
       "Prediction(\n",
       "    answer='The best opening move in Catan involves placing initial settlements on intersections with high-frequency numbers like 6 and 8 to ensure consistent resource production. Players should prioritize access to wood, brick, wheat, and sheep for early expansion. The strategy should adapt to the number of players, with more selectivity in a 3-player game and a balanced approach in a 4-player game. Avoiding common mistakes, such as neglecting resource balance and future growth, is crucial. Strategic placement should also consider long-term trading potential and expansion opportunities.'\n",
       ")"
      ]
     },
     "execution_count": 15,
     "metadata": {},
     "output_type": "execute_result"
    }
   ],
   "source": [
    "recommendation\n"
   ]
  },
  {
   "cell_type": "code",
   "execution_count": null,
   "id": "1019f06a-2ada-4059-a1f4-dd1776a7913b",
   "metadata": {},
   "outputs": [],
   "source": []
  }
 ],
 "metadata": {
  "kernelspec": {
   "display_name": "Python 3 (ipykernel)",
   "language": "python",
   "name": "python3"
  },
  "language_info": {
   "codemirror_mode": {
    "name": "ipython",
    "version": 3
   },
   "file_extension": ".py",
   "mimetype": "text/x-python",
   "name": "python",
   "nbconvert_exporter": "python",
   "pygments_lexer": "ipython3",
   "version": "3.12.1"
  }
 },
 "nbformat": 4,
 "nbformat_minor": 5
}
