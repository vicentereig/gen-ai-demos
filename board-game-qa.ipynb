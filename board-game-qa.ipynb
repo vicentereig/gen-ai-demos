{
 "cells": [
  {
   "cell_type": "code",
   "id": "a1fdefcf-62a6-42ea-a9f8-92856afe46e3",
   "metadata": {
    "ExecuteTime": {
     "end_time": "2025-02-26T12:45:01.748636Z",
     "start_time": "2025-02-26T12:44:59.714577Z"
    }
   },
   "source": [
    "import dspy\n",
    "import os\n",
    "from dotenv import load_dotenv\n",
    "load_dotenv()\n",
    "load_dotenv('.secrets')"
   ],
   "outputs": [
    {
     "name": "stderr",
     "output_type": "stream",
     "text": [
      "/Users/vicente/Library/Caches/pypoetry/virtualenvs/gen-ai-demos-umKuaqgj-py3.12/lib/python3.12/site-packages/pydantic/_internal/_config.py:345: UserWarning: Valid config keys have changed in V2:\n",
      "* 'fields' has been removed\n",
      "  warnings.warn(message, UserWarning)\n"
     ]
    },
    {
     "data": {
      "text/plain": [
       "True"
      ]
     },
     "execution_count": 4,
     "metadata": {},
     "output_type": "execute_result"
    }
   ],
   "execution_count": 4
  },
  {
   "cell_type": "code",
   "id": "1b87cf4c-8d81-4a45-99dd-32eab6d4bfd1",
   "metadata": {
    "ExecuteTime": {
     "end_time": "2025-02-26T12:45:01.755349Z",
     "start_time": "2025-02-26T12:45:01.749745Z"
    }
   },
   "source": [
    "class BoardGameResearchPlanner(dspy.Signature):\n",
    "    \"\"\"Takes the user query and plans deep research by figuring out subquestions that relate to the theme the user is interested in knowing more\"\"\"\n",
    "    question = dspy.InputField(desc=\"The user's initial query when researching board games\")\n",
    "    subquestions: list[str] = dspy.OutputField(desc=\"A list of 5 or more subquestions that dive deeper in the theme the user is researching.\")\n",
    "\n",
    "class BoardGameResearcher(dspy.Signature):\n",
    "    \"\"\"Takes the original question and the related question and finds an answer to the subquestion that is related to the original question\"\"\"\n",
    "    question = dspy.InputField(desc=\"The user's initial query about board games\")\n",
    "    subquestion: str = dspy.InputField(desc=\"The subquestion you are doing deep research on\")\n",
    "    context = dspy.OutputField(desc=\"The context learned by answering the subquestion while relevant to the initial question\")\n",
    "\n",
    "class BoardGameResearchSummarizer(dspy.Signature):\n",
    "    \"\"\"Condense the retrieved information provided in the context into a focused summary that answers the original question.\"\"\"\n",
    "    question = dspy.InputField(desc=\"The user's initial query about board games\")\n",
    "    context: list[str] = dspy.InputField(desc=\"Research context discovered about the board games you are about to recommend\")\n",
    "    summary = dspy.OutputField(desc=\"Condense retrieved information into a focused summary relevant to the provided context and user question. Provide specific details supporting the answer to the question.\")\n",
    "\n",
    "\n",
    "class BoardGameAssistant(dspy.Module):\n",
    "    def __init__(self, **kwargs):\n",
    "        super().__init__(**kwargs)\n",
    "        self.plan_research = dspy.ChainOfThought(BoardGameResearchPlanner)\n",
    "        self.research = dspy.ChainOfThought(BoardGameResearcher)\n",
    "        self.summarize = dspy.ChainOfThought(BoardGameResearchSummarizer)\n",
    "\n",
    "    def forward(self, question):\n",
    "        subquestions = self.plan_research(question=question).subquestions\n",
    "        research_context = []\n",
    "        print(f\"Question: {question} research tasks: {len(subquestions)}\")\n",
    "        for subquestion in subquestions:\n",
    "            print(f\" - Researching: {subquestion}\")\n",
    "            research = self.research(subquestion=subquestion, question=question)\n",
    "            research_context = research_context + [research]\n",
    "\n",
    "        final_research = self.summarize(context=list(map(lambda r: r.context, research_context)), question=question)\n",
    "\n",
    "        return dspy.Prediction(answer=final_research.summary, research=research_context)"
   ],
   "outputs": [],
   "execution_count": 5
  },
  {
   "cell_type": "code",
   "id": "69833045-86a6-4693-8782-1c384c12c01d",
   "metadata": {
    "ExecuteTime": {
     "end_time": "2025-02-26T12:45:01.757442Z",
     "start_time": "2025-02-26T12:45:01.755952Z"
    }
   },
   "source": [
    "lm = dspy.LM('openai/gpt-4o', api_key=os.getenv(\"OPENAI_API_KEY\"))\n",
    "dspy.configure(lm=lm)"
   ],
   "outputs": [],
   "execution_count": 6
  },
  {
   "cell_type": "code",
   "id": "8ea9f265-140d-4c78-9122-f69f87b69fcf",
   "metadata": {
    "ExecuteTime": {
     "end_time": "2025-02-26T12:45:01.773865Z",
     "start_time": "2025-02-26T12:45:01.758411Z"
    }
   },
   "source": [
    "assistant = BoardGameAssistant()\n",
    "recommendation = assistant(question=\"What is the best opening move in Catan?\")"
   ],
   "outputs": [
    {
     "name": "stdout",
     "output_type": "stream",
     "text": [
      "Question: What is the best opening move in Catan? research tasks: 7\n",
      " - Researching: What are the most important resources to prioritize in the early game of Catan?\n",
      " - Researching: How does the number of players affect the best opening move in Catan?\n",
      " - Researching: What are common strategies for initial settlement placement in Catan?\n",
      " - Researching: How does the board layout influence the choice of the best opening move?\n",
      " - Researching: What role does trading play in determining the best opening strategy in Catan?\n",
      " - Researching: How can a player adapt their opening move based on opponents' placements?\n",
      " - Researching: What are the risks and benefits of focusing on a single resource type in the opening move?\n"
     ]
    }
   ],
   "execution_count": 7
  },
  {
   "cell_type": "code",
   "id": "d660c7e6f2aa4b5b",
   "metadata": {
    "ExecuteTime": {
     "end_time": "2025-02-26T12:45:01.775944Z",
     "start_time": "2025-02-26T12:45:01.774377Z"
    }
   },
   "source": "print(f\"Answer: {recommendation.answer}\")",
   "outputs": [
    {
     "name": "stdout",
     "output_type": "stream",
     "text": [
      "Answer: The best opening move in Catan is highly situational and depends on the specific game setup, including the number of players and the board layout. Players should focus on securing key resources like brick and wood for road building, aim for resource diversity, and position themselves for advantageous trading opportunities. Adapting to the unique board configuration and opponents' placements is crucial for optimizing resource acquisition and expansion potential, making flexibility and strategic positioning essential components of a strong opening move.\n"
     ]
    }
   ],
   "execution_count": 8
  },
  {
   "metadata": {
    "ExecuteTime": {
     "end_time": "2025-02-26T12:45:01.777897Z",
     "start_time": "2025-02-26T12:45:01.776379Z"
    }
   },
   "cell_type": "code",
   "source": "print(f\"Research: {recommendation.research}\")",
   "id": "478000b7-e952-4bf8-aebf-22090ddfc995",
   "outputs": [
    {
     "name": "stdout",
     "output_type": "stream",
     "text": [
      "Research: [Prediction(\n",
      "    reasoning='In the early game of Catan, the most important resources to prioritize are typically brick and wood. These resources are crucial because they are needed to build roads, which are essential for expanding your settlements and accessing more resource tiles. Additionally, having access to wheat and sheep is important for building settlements, which increase your resource production and victory points. Prioritizing these resources allows players to quickly expand their territory and gain a strategic advantage over opponents.',\n",
      "    context='Understanding which resources to prioritize in the early game of Catan helps inform the best opening move. By focusing on securing access to brick and wood, a player can effectively plan their initial settlement placements to maximize road building potential. This strategy supports rapid expansion and increases the likelihood of controlling key areas of the board, which is a critical component of a strong opening move in Catan.'\n",
      "), Prediction(\n",
      "    reasoning='The number of players in Catan significantly affects the best opening move because it changes the availability of resources and the competition for key locations on the board. In a 3-player game, there are more available spots and less competition, allowing players to prioritize high-value resource combinations like ore, wheat, and sheep (for cities and development cards) or brick and wood (for roads and settlements). In a 4-player game, the board becomes more crowded, and players must be more strategic about securing diverse resources and blocking opponents. The scarcity of resources in a 4-player game often means that players need to adapt their strategy to ensure they have access to all necessary resources, even if it means settling for less optimal numbers.',\n",
      "    context='Understanding how the number of players affects the best opening move in Catan helps in determining that there is no one-size-fits-all best opening move. Instead, the best move is contingent on the number of players, as this influences resource availability and strategic positioning. In a 3-player game, players can afford to be more selective and aim for high-value resource combinations, while in a 4-player game, adaptability and securing a diverse range of resources become more critical.'\n",
      "), Prediction(\n",
      "    reasoning='In Catan, the initial settlement placement is crucial as it sets the foundation for resource acquisition and future expansion. Common strategies for initial settlement placement include prioritizing resource diversity, ensuring access to high-frequency numbers, and considering the potential for expansion. Players often aim to place their settlements on intersections that provide a balanced mix of resources such as wood, brick, wheat, and ore, which are essential for building roads, settlements, and cities. Additionally, selecting spots with numbers that are rolled frequently (like 6 and 8) increases the likelihood of resource collection. Another strategic consideration is to place settlements in a way that blocks opponents or secures key expansion routes.',\n",
      "    context='Understanding common strategies for initial settlement placement in Catan is directly related to determining the best opening move. The best opening move involves selecting a settlement location that maximizes resource intake and strategic positioning. By focusing on resource diversity, high-frequency numbers, and expansion potential, players can set themselves up for a strong start, which is often considered the best opening move in the game.'\n",
      "), Prediction(\n",
      "    reasoning='The board layout in Catan is crucial in determining the best opening move because it dictates resource availability and potential expansion paths. Each game of Catan begins with a randomly generated board, meaning the distribution of resources (brick, wood, sheep, wheat, and ore) and the numbers associated with them (2-12) vary each time. The best opening move is influenced by the placement of settlements on intersections that maximize access to high-frequency numbers and a balanced mix of resources. Players must also consider the proximity to ports and the potential for future expansion, which can be blocked by other players. Therefore, the board layout directly impacts strategic decisions regarding where to place initial settlements and roads.',\n",
      "    context='Understanding how the board layout influences the choice of the best opening move in Catan helps in determining that there is no single \"best\" opening move applicable to every game. Instead, players must assess the specific configuration of the board in each game to decide on the optimal placement of their initial settlements and roads. This involves evaluating resource distribution, number frequency, and strategic positioning for future growth, which are all dictated by the unique board layout of each game.'\n",
      "), Prediction(\n",
      "    reasoning='In Catan, trading is a crucial aspect that can significantly influence the effectiveness of an opening strategy. The game is designed around resource management, and trading allows players to mitigate the randomness of resource production by exchanging resources with other players or the bank. An effective opening strategy often involves positioning settlements on resource-rich hexes that provide a balanced mix of resources, but trading can compensate for any initial imbalances. By engaging in strategic trades, players can acquire the resources they lack, enabling them to build roads, settlements, and cities more efficiently. Therefore, the ability to trade effectively can enhance an opening strategy by ensuring a steady flow of necessary resources, allowing for flexibility and adaptability as the game progresses.',\n",
      "    context='Understanding the role of trading in Catan highlights that the best opening move is not solely about the initial placement of settlements but also about positioning oneself to take advantage of trading opportunities. A strong opening move involves selecting locations that not only provide a good mix of resources but also allow for potential trading leverage. This means considering the resource needs of other players and positioning oneself to offer trades that are beneficial to both parties. Thus, the best opening move in Catan is one that balances resource acquisition with strategic trading potential, setting the stage for a flexible and adaptable game plan.'\n",
      "), Prediction(\n",
      "    reasoning=\"In Catan, the best opening move is highly dependent on the board setup and the placements of opponents. A player should adapt their opening move by considering the resource distribution, the numbers on the hexes, and the potential for expansion. Observing opponents' placements can provide insights into their strategies and resource needs, allowing a player to make strategic decisions that can block opponents or secure critical resources. For example, if an opponent places a settlement on a high-probability wheat hex, it might be wise to prioritize securing access to wheat or blocking their expansion path. Additionally, understanding opponents' placements can help in predicting their future moves and adjusting one's strategy accordingly.\",\n",
      "    context=\"The best opening move in Catan is not fixed but rather situational, depending on the board layout and opponents' initial placements. By adapting to opponents' placements, a player can optimize their resource acquisition and expansion potential, which are crucial for gaining an advantage in the game. This adaptability is key to formulating a strong opening strategy in Catan.\"\n",
      "), Prediction(\n",
      "    reasoning=\"Focusing on a single resource type in the opening move of Catan can have both risks and benefits. The primary benefit is that it allows a player to quickly accumulate a large amount of that resource, which can be advantageous if the resource is in high demand or if it is critical for the player's initial strategy. For example, focusing on brick and wood can enable a player to build roads and settlements quickly, potentially securing key locations on the board. However, the risk is that the player becomes overly dependent on that resource, making them vulnerable to resource shortages if the dice rolls do not favor that resource or if the robber is placed on it. Additionally, focusing on a single resource can limit a player's flexibility in trading and adapting to the evolving game state.\",\n",
      "    context='In the context of determining the best opening move in Catan, understanding the risks and benefits of focusing on a single resource type is crucial. A balanced approach that considers the availability and strategic importance of different resources can lead to a more robust opening strategy. Players should aim to secure a diverse range of resources to maintain flexibility and adaptability, while also considering the potential for monopolizing a critical resource if it aligns with their overall strategy. This balance can help mitigate the risks associated with focusing too narrowly on one resource type.'\n",
      ")]\n"
     ]
    }
   ],
   "execution_count": 9
  },
  {
   "cell_type": "code",
   "id": "1019f06a-2ada-4059-a1f4-dd1776a7913b",
   "metadata": {
    "ExecuteTime": {
     "end_time": "2025-02-26T12:45:01.780246Z",
     "start_time": "2025-02-26T12:45:01.778498Z"
    }
   },
   "source": [
    "lm.inspect_history(n=10)"
   ],
   "outputs": [
    {
     "name": "stdout",
     "output_type": "stream",
     "text": [
      "\n",
      "\n",
      "\n",
      "\n",
      "\u001B[34m[2025-02-26T13:45:01.764965]\u001B[0m\n",
      "\n",
      "\u001B[31mSystem message:\u001B[0m\n",
      "\n",
      "Your input fields are:\n",
      "1. `question` (str): The user's initial query when researching board games\n",
      "\n",
      "Your output fields are:\n",
      "1. `reasoning` (str)\n",
      "2. `subquestions` (list[str]): A list of 5 or more subquestions that dive deeper in the theme the user is researching.\n",
      "\n",
      "All interactions will be structured in the following way, with the appropriate values filled in.\n",
      "\n",
      "[[ ## question ## ]]\n",
      "{question}\n",
      "\n",
      "[[ ## reasoning ## ]]\n",
      "{reasoning}\n",
      "\n",
      "[[ ## subquestions ## ]]\n",
      "{subquestions}        # note: the value you produce must be pareseable according to the following JSON schema: {\"type\": \"array\", \"items\": {\"type\": \"string\"}}\n",
      "\n",
      "[[ ## completed ## ]]\n",
      "\n",
      "In adhering to this structure, your objective is: \n",
      "        Takes the user query and plans deep research by figuring out subquestions that relate to the theme the user is interested in knowing more\n",
      "\n",
      "\n",
      "\u001B[31mUser message:\u001B[0m\n",
      "\n",
      "[[ ## question ## ]]\n",
      "What is the best opening move in Catan?\n",
      "\n",
      "Respond with the corresponding output fields, starting with the field `[[ ## reasoning ## ]]`, then `[[ ## subquestions ## ]]` (must be formatted as a valid Python list[str]), and then ending with the marker for `[[ ## completed ## ]]`.\n",
      "\n",
      "\n",
      "\u001B[31mResponse:\u001B[0m\n",
      "\n",
      "\u001B[32m[[ ## reasoning ## ]]\n",
      "The question about the best opening move in Catan is complex because it depends on various factors such as the board setup, the number of players, and individual strategies. Catan is a game of resource management and trading, where the initial placement of settlements can significantly influence a player's success. To determine the best opening move, one must consider resource availability, potential for expansion, and the likelihood of trading with other players. Understanding these elements can help in formulating a strategy that maximizes resource production and positions a player advantageously for the rest of the game.\n",
      "\n",
      "[[ ## subquestions ## ]]\n",
      "[\n",
      "    \"What are the most important resources to prioritize in the early game of Catan?\",\n",
      "    \"How does the number of players affect the best opening move in Catan?\",\n",
      "    \"What are common strategies for initial settlement placement in Catan?\",\n",
      "    \"How does the board layout influence the choice of the best opening move?\",\n",
      "    \"What role does trading play in determining the best opening strategy in Catan?\",\n",
      "    \"How can a player adapt their opening move based on opponents' placements?\",\n",
      "    \"What are the risks and benefits of focusing on a single resource type in the opening move?\"\n",
      "]\n",
      "\n",
      "[[ ## completed ## ]]\u001B[0m\n",
      "\n",
      "\n",
      "\n",
      "\n",
      "\n",
      "\u001B[34m[2025-02-26T13:45:01.766150]\u001B[0m\n",
      "\n",
      "\u001B[31mSystem message:\u001B[0m\n",
      "\n",
      "Your input fields are:\n",
      "1. `subquestion` (str): The subquestion you are doing deep research on\n",
      "2. `question` (str): The user's initial query about board games\n",
      "\n",
      "Your output fields are:\n",
      "1. `reasoning` (str)\n",
      "2. `context` (str): The context learned by answering the subquestion while relevant to the initial question\n",
      "\n",
      "All interactions will be structured in the following way, with the appropriate values filled in.\n",
      "\n",
      "[[ ## subquestion ## ]]\n",
      "{subquestion}\n",
      "\n",
      "[[ ## question ## ]]\n",
      "{question}\n",
      "\n",
      "[[ ## reasoning ## ]]\n",
      "{reasoning}\n",
      "\n",
      "[[ ## context ## ]]\n",
      "{context}\n",
      "\n",
      "[[ ## completed ## ]]\n",
      "\n",
      "In adhering to this structure, your objective is: \n",
      "        Takes the original question and the related question and finds an answer to the subquestion that is related to the original question\n",
      "\n",
      "\n",
      "\u001B[31mUser message:\u001B[0m\n",
      "\n",
      "[[ ## subquestion ## ]]\n",
      "What are the most important resources to prioritize in the early game of Catan?\n",
      "\n",
      "[[ ## question ## ]]\n",
      "What is the best opening move in Catan?\n",
      "\n",
      "Respond with the corresponding output fields, starting with the field `[[ ## reasoning ## ]]`, then `[[ ## context ## ]]`, and then ending with the marker for `[[ ## completed ## ]]`.\n",
      "\n",
      "\n",
      "\u001B[31mResponse:\u001B[0m\n",
      "\n",
      "\u001B[32m[[ ## reasoning ## ]]\n",
      "In the early game of Catan, the most important resources to prioritize are typically brick and wood. These resources are crucial because they are needed to build roads, which are essential for expanding your settlements and accessing more resource tiles. Additionally, having access to wheat and sheep is important for building settlements, which increase your resource production and victory points. Prioritizing these resources allows players to quickly expand their territory and gain a strategic advantage over opponents.\n",
      "\n",
      "[[ ## context ## ]]\n",
      "Understanding which resources to prioritize in the early game of Catan helps inform the best opening move. By focusing on securing access to brick and wood, a player can effectively plan their initial settlement placements to maximize road building potential. This strategy supports rapid expansion and increases the likelihood of controlling key areas of the board, which is a critical component of a strong opening move in Catan.\n",
      "\n",
      "[[ ## completed ## ]]\u001B[0m\n",
      "\n",
      "\n",
      "\n",
      "\n",
      "\n",
      "\u001B[34m[2025-02-26T13:45:01.767289]\u001B[0m\n",
      "\n",
      "\u001B[31mSystem message:\u001B[0m\n",
      "\n",
      "Your input fields are:\n",
      "1. `subquestion` (str): The subquestion you are doing deep research on\n",
      "2. `question` (str): The user's initial query about board games\n",
      "\n",
      "Your output fields are:\n",
      "1. `reasoning` (str)\n",
      "2. `context` (str): The context learned by answering the subquestion while relevant to the initial question\n",
      "\n",
      "All interactions will be structured in the following way, with the appropriate values filled in.\n",
      "\n",
      "[[ ## subquestion ## ]]\n",
      "{subquestion}\n",
      "\n",
      "[[ ## question ## ]]\n",
      "{question}\n",
      "\n",
      "[[ ## reasoning ## ]]\n",
      "{reasoning}\n",
      "\n",
      "[[ ## context ## ]]\n",
      "{context}\n",
      "\n",
      "[[ ## completed ## ]]\n",
      "\n",
      "In adhering to this structure, your objective is: \n",
      "        Takes the original question and the related question and finds an answer to the subquestion that is related to the original question\n",
      "\n",
      "\n",
      "\u001B[31mUser message:\u001B[0m\n",
      "\n",
      "[[ ## subquestion ## ]]\n",
      "How does the number of players affect the best opening move in Catan?\n",
      "\n",
      "[[ ## question ## ]]\n",
      "What is the best opening move in Catan?\n",
      "\n",
      "Respond with the corresponding output fields, starting with the field `[[ ## reasoning ## ]]`, then `[[ ## context ## ]]`, and then ending with the marker for `[[ ## completed ## ]]`.\n",
      "\n",
      "\n",
      "\u001B[31mResponse:\u001B[0m\n",
      "\n",
      "\u001B[32m[[ ## reasoning ## ]]\n",
      "The number of players in Catan significantly affects the best opening move because it changes the availability of resources and the competition for key locations on the board. In a 3-player game, there are more available spots and less competition, allowing players to prioritize high-value resource combinations like ore, wheat, and sheep (for cities and development cards) or brick and wood (for roads and settlements). In a 4-player game, the board becomes more crowded, and players must be more strategic about securing diverse resources and blocking opponents. The scarcity of resources in a 4-player game often means that players need to adapt their strategy to ensure they have access to all necessary resources, even if it means settling for less optimal numbers.\n",
      "\n",
      "[[ ## context ## ]]\n",
      "Understanding how the number of players affects the best opening move in Catan helps in determining that there is no one-size-fits-all best opening move. Instead, the best move is contingent on the number of players, as this influences resource availability and strategic positioning. In a 3-player game, players can afford to be more selective and aim for high-value resource combinations, while in a 4-player game, adaptability and securing a diverse range of resources become more critical.\n",
      "\n",
      "[[ ## completed ## ]]\u001B[0m\n",
      "\n",
      "\n",
      "\n",
      "\n",
      "\n",
      "\u001B[34m[2025-02-26T13:45:01.768053]\u001B[0m\n",
      "\n",
      "\u001B[31mSystem message:\u001B[0m\n",
      "\n",
      "Your input fields are:\n",
      "1. `subquestion` (str): The subquestion you are doing deep research on\n",
      "2. `question` (str): The user's initial query about board games\n",
      "\n",
      "Your output fields are:\n",
      "1. `reasoning` (str)\n",
      "2. `context` (str): The context learned by answering the subquestion while relevant to the initial question\n",
      "\n",
      "All interactions will be structured in the following way, with the appropriate values filled in.\n",
      "\n",
      "[[ ## subquestion ## ]]\n",
      "{subquestion}\n",
      "\n",
      "[[ ## question ## ]]\n",
      "{question}\n",
      "\n",
      "[[ ## reasoning ## ]]\n",
      "{reasoning}\n",
      "\n",
      "[[ ## context ## ]]\n",
      "{context}\n",
      "\n",
      "[[ ## completed ## ]]\n",
      "\n",
      "In adhering to this structure, your objective is: \n",
      "        Takes the original question and the related question and finds an answer to the subquestion that is related to the original question\n",
      "\n",
      "\n",
      "\u001B[31mUser message:\u001B[0m\n",
      "\n",
      "[[ ## subquestion ## ]]\n",
      "What are common strategies for initial settlement placement in Catan?\n",
      "\n",
      "[[ ## question ## ]]\n",
      "What is the best opening move in Catan?\n",
      "\n",
      "Respond with the corresponding output fields, starting with the field `[[ ## reasoning ## ]]`, then `[[ ## context ## ]]`, and then ending with the marker for `[[ ## completed ## ]]`.\n",
      "\n",
      "\n",
      "\u001B[31mResponse:\u001B[0m\n",
      "\n",
      "\u001B[32m[[ ## reasoning ## ]]\n",
      "In Catan, the initial settlement placement is crucial as it sets the foundation for resource acquisition and future expansion. Common strategies for initial settlement placement include prioritizing resource diversity, ensuring access to high-frequency numbers, and considering the potential for expansion. Players often aim to place their settlements on intersections that provide a balanced mix of resources such as wood, brick, wheat, and ore, which are essential for building roads, settlements, and cities. Additionally, selecting spots with numbers that are rolled frequently (like 6 and 8) increases the likelihood of resource collection. Another strategic consideration is to place settlements in a way that blocks opponents or secures key expansion routes.\n",
      "\n",
      "[[ ## context ## ]]\n",
      "Understanding common strategies for initial settlement placement in Catan is directly related to determining the best opening move. The best opening move involves selecting a settlement location that maximizes resource intake and strategic positioning. By focusing on resource diversity, high-frequency numbers, and expansion potential, players can set themselves up for a strong start, which is often considered the best opening move in the game.\n",
      "\n",
      "[[ ## completed ## ]]\u001B[0m\n",
      "\n",
      "\n",
      "\n",
      "\n",
      "\n",
      "\u001B[34m[2025-02-26T13:45:01.768883]\u001B[0m\n",
      "\n",
      "\u001B[31mSystem message:\u001B[0m\n",
      "\n",
      "Your input fields are:\n",
      "1. `subquestion` (str): The subquestion you are doing deep research on\n",
      "2. `question` (str): The user's initial query about board games\n",
      "\n",
      "Your output fields are:\n",
      "1. `reasoning` (str)\n",
      "2. `context` (str): The context learned by answering the subquestion while relevant to the initial question\n",
      "\n",
      "All interactions will be structured in the following way, with the appropriate values filled in.\n",
      "\n",
      "[[ ## subquestion ## ]]\n",
      "{subquestion}\n",
      "\n",
      "[[ ## question ## ]]\n",
      "{question}\n",
      "\n",
      "[[ ## reasoning ## ]]\n",
      "{reasoning}\n",
      "\n",
      "[[ ## context ## ]]\n",
      "{context}\n",
      "\n",
      "[[ ## completed ## ]]\n",
      "\n",
      "In adhering to this structure, your objective is: \n",
      "        Takes the original question and the related question and finds an answer to the subquestion that is related to the original question\n",
      "\n",
      "\n",
      "\u001B[31mUser message:\u001B[0m\n",
      "\n",
      "[[ ## subquestion ## ]]\n",
      "How does the board layout influence the choice of the best opening move?\n",
      "\n",
      "[[ ## question ## ]]\n",
      "What is the best opening move in Catan?\n",
      "\n",
      "Respond with the corresponding output fields, starting with the field `[[ ## reasoning ## ]]`, then `[[ ## context ## ]]`, and then ending with the marker for `[[ ## completed ## ]]`.\n",
      "\n",
      "\n",
      "\u001B[31mResponse:\u001B[0m\n",
      "\n",
      "\u001B[32m[[ ## reasoning ## ]]\n",
      "The board layout in Catan is crucial in determining the best opening move because it dictates resource availability and potential expansion paths. Each game of Catan begins with a randomly generated board, meaning the distribution of resources (brick, wood, sheep, wheat, and ore) and the numbers associated with them (2-12) vary each time. The best opening move is influenced by the placement of settlements on intersections that maximize access to high-frequency numbers and a balanced mix of resources. Players must also consider the proximity to ports and the potential for future expansion, which can be blocked by other players. Therefore, the board layout directly impacts strategic decisions regarding where to place initial settlements and roads.\n",
      "\n",
      "[[ ## context ## ]]\n",
      "Understanding how the board layout influences the choice of the best opening move in Catan helps in determining that there is no single \"best\" opening move applicable to every game. Instead, players must assess the specific configuration of the board in each game to decide on the optimal placement of their initial settlements and roads. This involves evaluating resource distribution, number frequency, and strategic positioning for future growth, which are all dictated by the unique board layout of each game.\n",
      "\n",
      "[[ ## completed ## ]]\u001B[0m\n",
      "\n",
      "\n",
      "\n",
      "\n",
      "\n",
      "\u001B[34m[2025-02-26T13:45:01.769728]\u001B[0m\n",
      "\n",
      "\u001B[31mSystem message:\u001B[0m\n",
      "\n",
      "Your input fields are:\n",
      "1. `subquestion` (str): The subquestion you are doing deep research on\n",
      "2. `question` (str): The user's initial query about board games\n",
      "\n",
      "Your output fields are:\n",
      "1. `reasoning` (str)\n",
      "2. `context` (str): The context learned by answering the subquestion while relevant to the initial question\n",
      "\n",
      "All interactions will be structured in the following way, with the appropriate values filled in.\n",
      "\n",
      "[[ ## subquestion ## ]]\n",
      "{subquestion}\n",
      "\n",
      "[[ ## question ## ]]\n",
      "{question}\n",
      "\n",
      "[[ ## reasoning ## ]]\n",
      "{reasoning}\n",
      "\n",
      "[[ ## context ## ]]\n",
      "{context}\n",
      "\n",
      "[[ ## completed ## ]]\n",
      "\n",
      "In adhering to this structure, your objective is: \n",
      "        Takes the original question and the related question and finds an answer to the subquestion that is related to the original question\n",
      "\n",
      "\n",
      "\u001B[31mUser message:\u001B[0m\n",
      "\n",
      "[[ ## subquestion ## ]]\n",
      "What role does trading play in determining the best opening strategy in Catan?\n",
      "\n",
      "[[ ## question ## ]]\n",
      "What is the best opening move in Catan?\n",
      "\n",
      "Respond with the corresponding output fields, starting with the field `[[ ## reasoning ## ]]`, then `[[ ## context ## ]]`, and then ending with the marker for `[[ ## completed ## ]]`.\n",
      "\n",
      "\n",
      "\u001B[31mResponse:\u001B[0m\n",
      "\n",
      "\u001B[32m[[ ## reasoning ## ]]\n",
      "In Catan, trading is a crucial aspect that can significantly influence the effectiveness of an opening strategy. The game is designed around resource management, and trading allows players to mitigate the randomness of resource production by exchanging resources with other players or the bank. An effective opening strategy often involves positioning settlements on resource-rich hexes that provide a balanced mix of resources, but trading can compensate for any initial imbalances. By engaging in strategic trades, players can acquire the resources they lack, enabling them to build roads, settlements, and cities more efficiently. Therefore, the ability to trade effectively can enhance an opening strategy by ensuring a steady flow of necessary resources, allowing for flexibility and adaptability as the game progresses.\n",
      "\n",
      "[[ ## context ## ]]\n",
      "Understanding the role of trading in Catan highlights that the best opening move is not solely about the initial placement of settlements but also about positioning oneself to take advantage of trading opportunities. A strong opening move involves selecting locations that not only provide a good mix of resources but also allow for potential trading leverage. This means considering the resource needs of other players and positioning oneself to offer trades that are beneficial to both parties. Thus, the best opening move in Catan is one that balances resource acquisition with strategic trading potential, setting the stage for a flexible and adaptable game plan.\n",
      "\n",
      "[[ ## completed ## ]]\u001B[0m\n",
      "\n",
      "\n",
      "\n",
      "\n",
      "\n",
      "\u001B[34m[2025-02-26T13:45:01.770629]\u001B[0m\n",
      "\n",
      "\u001B[31mSystem message:\u001B[0m\n",
      "\n",
      "Your input fields are:\n",
      "1. `subquestion` (str): The subquestion you are doing deep research on\n",
      "2. `question` (str): The user's initial query about board games\n",
      "\n",
      "Your output fields are:\n",
      "1. `reasoning` (str)\n",
      "2. `context` (str): The context learned by answering the subquestion while relevant to the initial question\n",
      "\n",
      "All interactions will be structured in the following way, with the appropriate values filled in.\n",
      "\n",
      "[[ ## subquestion ## ]]\n",
      "{subquestion}\n",
      "\n",
      "[[ ## question ## ]]\n",
      "{question}\n",
      "\n",
      "[[ ## reasoning ## ]]\n",
      "{reasoning}\n",
      "\n",
      "[[ ## context ## ]]\n",
      "{context}\n",
      "\n",
      "[[ ## completed ## ]]\n",
      "\n",
      "In adhering to this structure, your objective is: \n",
      "        Takes the original question and the related question and finds an answer to the subquestion that is related to the original question\n",
      "\n",
      "\n",
      "\u001B[31mUser message:\u001B[0m\n",
      "\n",
      "[[ ## subquestion ## ]]\n",
      "How can a player adapt their opening move based on opponents' placements?\n",
      "\n",
      "[[ ## question ## ]]\n",
      "What is the best opening move in Catan?\n",
      "\n",
      "Respond with the corresponding output fields, starting with the field `[[ ## reasoning ## ]]`, then `[[ ## context ## ]]`, and then ending with the marker for `[[ ## completed ## ]]`.\n",
      "\n",
      "\n",
      "\u001B[31mResponse:\u001B[0m\n",
      "\n",
      "\u001B[32m[[ ## reasoning ## ]]\n",
      "In Catan, the best opening move is highly dependent on the board setup and the placements of opponents. A player should adapt their opening move by considering the resource distribution, the numbers on the hexes, and the potential for expansion. Observing opponents' placements can provide insights into their strategies and resource needs, allowing a player to make strategic decisions that can block opponents or secure critical resources. For example, if an opponent places a settlement on a high-probability wheat hex, it might be wise to prioritize securing access to wheat or blocking their expansion path. Additionally, understanding opponents' placements can help in predicting their future moves and adjusting one's strategy accordingly.\n",
      "\n",
      "[[ ## context ## ]]\n",
      "The best opening move in Catan is not fixed but rather situational, depending on the board layout and opponents' initial placements. By adapting to opponents' placements, a player can optimize their resource acquisition and expansion potential, which are crucial for gaining an advantage in the game. This adaptability is key to formulating a strong opening strategy in Catan.\n",
      "\n",
      "[[ ## completed ## ]]\u001B[0m\n",
      "\n",
      "\n",
      "\n",
      "\n",
      "\n",
      "\u001B[34m[2025-02-26T13:45:01.771438]\u001B[0m\n",
      "\n",
      "\u001B[31mSystem message:\u001B[0m\n",
      "\n",
      "Your input fields are:\n",
      "1. `subquestion` (str): The subquestion you are doing deep research on\n",
      "2. `question` (str): The user's initial query about board games\n",
      "\n",
      "Your output fields are:\n",
      "1. `reasoning` (str)\n",
      "2. `context` (str): The context learned by answering the subquestion while relevant to the initial question\n",
      "\n",
      "All interactions will be structured in the following way, with the appropriate values filled in.\n",
      "\n",
      "[[ ## subquestion ## ]]\n",
      "{subquestion}\n",
      "\n",
      "[[ ## question ## ]]\n",
      "{question}\n",
      "\n",
      "[[ ## reasoning ## ]]\n",
      "{reasoning}\n",
      "\n",
      "[[ ## context ## ]]\n",
      "{context}\n",
      "\n",
      "[[ ## completed ## ]]\n",
      "\n",
      "In adhering to this structure, your objective is: \n",
      "        Takes the original question and the related question and finds an answer to the subquestion that is related to the original question\n",
      "\n",
      "\n",
      "\u001B[31mUser message:\u001B[0m\n",
      "\n",
      "[[ ## subquestion ## ]]\n",
      "What are the risks and benefits of focusing on a single resource type in the opening move?\n",
      "\n",
      "[[ ## question ## ]]\n",
      "What is the best opening move in Catan?\n",
      "\n",
      "Respond with the corresponding output fields, starting with the field `[[ ## reasoning ## ]]`, then `[[ ## context ## ]]`, and then ending with the marker for `[[ ## completed ## ]]`.\n",
      "\n",
      "\n",
      "\u001B[31mResponse:\u001B[0m\n",
      "\n",
      "\u001B[32m[[ ## reasoning ## ]]\n",
      "Focusing on a single resource type in the opening move of Catan can have both risks and benefits. The primary benefit is that it allows a player to quickly accumulate a large amount of that resource, which can be advantageous if the resource is in high demand or if it is critical for the player's initial strategy. For example, focusing on brick and wood can enable a player to build roads and settlements quickly, potentially securing key locations on the board. However, the risk is that the player becomes overly dependent on that resource, making them vulnerable to resource shortages if the dice rolls do not favor that resource or if the robber is placed on it. Additionally, focusing on a single resource can limit a player's flexibility in trading and adapting to the evolving game state.\n",
      "\n",
      "[[ ## context ## ]]\n",
      "In the context of determining the best opening move in Catan, understanding the risks and benefits of focusing on a single resource type is crucial. A balanced approach that considers the availability and strategic importance of different resources can lead to a more robust opening strategy. Players should aim to secure a diverse range of resources to maintain flexibility and adaptability, while also considering the potential for monopolizing a critical resource if it aligns with their overall strategy. This balance can help mitigate the risks associated with focusing too narrowly on one resource type.\n",
      "\n",
      "[[ ## completed ## ]]\u001B[0m\n",
      "\n",
      "\n",
      "\n",
      "\n",
      "\n",
      "\u001B[34m[2025-02-26T13:45:01.772851]\u001B[0m\n",
      "\n",
      "\u001B[31mSystem message:\u001B[0m\n",
      "\n",
      "Your input fields are:\n",
      "1. `context` (list[str]): Research context discovered about the board games you are about to recommend\n",
      "2. `question` (str): The user's initial query about board games\n",
      "\n",
      "Your output fields are:\n",
      "1. `reasoning` (str)\n",
      "2. `summary` (str): Condense retrieved information into a focused summary relevant to the provided context and user question. Provide specific details supporting the answer to the question.\n",
      "\n",
      "All interactions will be structured in the following way, with the appropriate values filled in.\n",
      "\n",
      "[[ ## context ## ]]\n",
      "{context}\n",
      "\n",
      "[[ ## question ## ]]\n",
      "{question}\n",
      "\n",
      "[[ ## reasoning ## ]]\n",
      "{reasoning}\n",
      "\n",
      "[[ ## summary ## ]]\n",
      "{summary}\n",
      "\n",
      "[[ ## completed ## ]]\n",
      "\n",
      "In adhering to this structure, your objective is: \n",
      "        Condense the retrieved information provided in the context into a focused summary that answers the original question.\n",
      "\n",
      "\n",
      "\u001B[31mUser message:\u001B[0m\n",
      "\n",
      "[[ ## context ## ]]\n",
      "[\"Understanding which resources to prioritize in the early game of Catan helps inform the best opening move. By focusing on securing access to brick and wood, a player can effectively plan their initial settlement placements to maximize road building potential. This strategy supports rapid expansion and increases the likelihood of controlling key areas of the board, which is a critical component of a strong opening move in Catan.\", \"Understanding how the number of players affects the best opening move in Catan helps in determining that there is no one-size-fits-all best opening move. Instead, the best move is contingent on the number of players, as this influences resource availability and strategic positioning. In a 3-player game, players can afford to be more selective and aim for high-value resource combinations, while in a 4-player game, adaptability and securing a diverse range of resources become more critical.\", \"Understanding common strategies for initial settlement placement in Catan is directly related to determining the best opening move. The best opening move involves selecting a settlement location that maximizes resource intake and strategic positioning. By focusing on resource diversity, high-frequency numbers, and expansion potential, players can set themselves up for a strong start, which is often considered the best opening move in the game.\", \"Understanding how the board layout influences the choice of the best opening move in Catan helps in determining that there is no single \\\"best\\\" opening move applicable to every game. Instead, players must assess the specific configuration of the board in each game to decide on the optimal placement of their initial settlements and roads. This involves evaluating resource distribution, number frequency, and strategic positioning for future growth, which are all dictated by the unique board layout of each game.\", \"Understanding the role of trading in Catan highlights that the best opening move is not solely about the initial placement of settlements but also about positioning oneself to take advantage of trading opportunities. A strong opening move involves selecting locations that not only provide a good mix of resources but also allow for potential trading leverage. This means considering the resource needs of other players and positioning oneself to offer trades that are beneficial to both parties. Thus, the best opening move in Catan is one that balances resource acquisition with strategic trading potential, setting the stage for a flexible and adaptable game plan.\", \"The best opening move in Catan is not fixed but rather situational, depending on the board layout and opponents' initial placements. By adapting to opponents' placements, a player can optimize their resource acquisition and expansion potential, which are crucial for gaining an advantage in the game. This adaptability is key to formulating a strong opening strategy in Catan.\", \"In the context of determining the best opening move in Catan, understanding the risks and benefits of focusing on a single resource type is crucial. A balanced approach that considers the availability and strategic importance of different resources can lead to a more robust opening strategy. Players should aim to secure a diverse range of resources to maintain flexibility and adaptability, while also considering the potential for monopolizing a critical resource if it aligns with their overall strategy. This balance can help mitigate the risks associated with focusing too narrowly on one resource type.\"]\n",
      "\n",
      "[[ ## question ## ]]\n",
      "What is the best opening move in Catan?\n",
      "\n",
      "Respond with the corresponding output fields, starting with the field `[[ ## reasoning ## ]]`, then `[[ ## summary ## ]]`, and then ending with the marker for `[[ ## completed ## ]]`.\n",
      "\n",
      "\n",
      "\u001B[31mResponse:\u001B[0m\n",
      "\n",
      "\u001B[32m[[ ## reasoning ## ]]\n",
      "The best opening move in Catan is not a fixed strategy but rather a situational decision that depends on several factors, including the number of players, the board layout, and the initial placements of opponents. Key considerations for a strong opening move include securing access to essential resources like brick and wood for road building, ensuring a diverse range of resources to maintain flexibility, and positioning for strategic trading opportunities. The board layout and resource distribution are unique to each game, requiring players to adapt their strategy accordingly. Additionally, the number of players affects resource availability and strategic positioning, with different approaches needed for 3-player versus 4-player games. A balanced approach that considers these variables can lead to a robust opening strategy.\n",
      "\n",
      "[[ ## summary ## ]]\n",
      "The best opening move in Catan is highly situational and depends on the specific game setup, including the number of players and the board layout. Players should focus on securing key resources like brick and wood for road building, aim for resource diversity, and position themselves for advantageous trading opportunities. Adapting to the unique board configuration and opponents' placements is crucial for optimizing resource acquisition and expansion potential, making flexibility and strategic positioning essential components of a strong opening move.\n",
      "\n",
      "[[ ## completed ## ]]\u001B[0m\n",
      "\n",
      "\n",
      "\n",
      "\n",
      "\n"
     ]
    }
   ],
   "execution_count": 10
  },
  {
   "metadata": {
    "ExecuteTime": {
     "end_time": "2025-02-26T12:45:01.792138Z",
     "start_time": "2025-02-26T12:45:01.780674Z"
    }
   },
   "cell_type": "code",
   "source": [
    "monopoly = BoardGameAssistant()\n",
    "monoreco = assistant(question=\"What is the best opening move in Monopoly?\")"
   ],
   "id": "665618725b28318f",
   "outputs": [
    {
     "name": "stdout",
     "output_type": "stream",
     "text": [
      "Question: What is the best opening move in Monopoly? research tasks: 7\n",
      " - Researching: What are the probabilities of landing on each property in the first few turns of Monopoly?\n",
      " - Researching: Which properties are statistically the most valuable to own in Monopoly?\n",
      " - Researching: How do different house rules affect the strategy for the opening move in Monopoly?\n",
      " - Researching: What are common strategies used by experienced players for the opening move in Monopoly?\n",
      " - Researching: How does the initial roll of the dice influence the best opening move in Monopoly?\n",
      " - Researching: What is the impact of purchasing railroads early in the game?\n",
      " - Researching: How do player dynamics and negotiation strategies affect the opening moves in Monopoly?\n"
     ]
    }
   ],
   "execution_count": 11
  },
  {
   "metadata": {
    "ExecuteTime": {
     "end_time": "2025-02-26T12:45:01.794233Z",
     "start_time": "2025-02-26T12:45:01.792769Z"
    }
   },
   "cell_type": "code",
   "source": "print(monoreco.answer)",
   "id": "bdafc8a8db780364",
   "outputs": [
    {
     "name": "stdout",
     "output_type": "stream",
     "text": [
      "The best opening move in Monopoly is to prioritize acquiring properties with high landing probabilities, such as Oriental Avenue, Vermont Avenue, and the Orange properties, to maximize early game income. Securing railroads can also provide a consistent income stream. The strategy should be flexible, considering house rules and player dynamics, such as starting cash and negotiation styles, to effectively manage cash flow and property acquisition.\n"
     ]
    }
   ],
   "execution_count": 12
  },
  {
   "metadata": {
    "ExecuteTime": {
     "end_time": "2025-02-26T12:45:01.797262Z",
     "start_time": "2025-02-26T12:45:01.795803Z"
    }
   },
   "cell_type": "code",
   "source": "print(monoreco.research)",
   "id": "6508a979704dfd18",
   "outputs": [
    {
     "name": "stdout",
     "output_type": "stream",
     "text": [
      "[Prediction(\n",
      "    reasoning='In Monopoly, the probabilities of landing on each property in the first few turns are influenced by the roll of two six-sided dice, which determines movement. The most common roll is a 7, followed by 6 and 8, due to the number of combinations that can result in these sums. Therefore, properties that are 6, 7, or 8 spaces from the starting point (GO) are more likely to be landed on early in the game. These include properties like Oriental Avenue, Vermont Avenue, and Chance spaces. Understanding these probabilities helps in determining which properties are more strategic to purchase early on, as they are more likely to generate income from other players landing on them.',\n",
      "    context='Knowing the probabilities of landing on certain properties in the first few turns of Monopoly can inform the best opening move. Since properties like Oriental Avenue and Vermont Avenue are more likely to be landed on early, purchasing them can be a strategic move. This increases the chances of collecting rent from opponents, providing an early cash flow advantage. Therefore, the best opening move might involve prioritizing the acquisition of these high-probability properties to maximize early game income and position oneself advantageously for future turns.'\n",
      "), Prediction(\n",
      "    reasoning='In Monopoly, the value of properties is determined by their potential to generate income through rent, the cost of development (houses and hotels), and their position on the board. Statistically, the Orange properties (St. James Place, Tennessee Avenue, and New York Avenue) are considered the most valuable. This is because they are landed on frequently due to their proximity to the Jail space, which is a common landing spot. Additionally, the cost to develop these properties is relatively low compared to the high rent they can generate once developed. The Red properties (Kentucky Avenue, Indiana Avenue, and Illinois Avenue) are also valuable for similar reasons, as they are frequently landed on and offer good returns on investment.',\n",
      "    context='Understanding which properties are statistically the most valuable to own in Monopoly can inform the best opening move. If a player can acquire and develop the Orange properties early in the game, they can create a strong income stream that can be pivotal in gaining a financial advantage over opponents. Therefore, an effective opening strategy might involve prioritizing the acquisition of these properties, either through direct purchase or strategic trades, to capitalize on their high landing frequency and development potential.'\n",
      "), Prediction(\n",
      "    reasoning='House rules in Monopoly can significantly alter the strategy for the opening move because they can change the dynamics of the game. For example, some common house rules include starting with more money, placing money on Free Parking, or auctioning properties that are landed on but not purchased. These variations can influence whether a player should prioritize buying properties immediately, saving money for auctions, or focusing on landing on specific spaces. If players start with more money, they might be more aggressive in purchasing properties early on. Conversely, if Free Parking accumulates money, players might aim to land there to boost their cash reserves, affecting their initial buying strategy.',\n",
      "    context='Understanding how house rules affect the opening move in Monopoly provides insight into the best opening move. If house rules allow for more starting cash, players might prioritize buying properties like Boardwalk and Park Place early. If Free Parking accumulates money, players might adjust their strategy to conserve cash for potential windfalls. Therefore, the best opening move can depend on the specific house rules in play, as they can shift the balance between aggressive property acquisition and strategic cash management.'\n",
      "), Prediction(\n",
      "    reasoning='Experienced Monopoly players often focus on acquiring properties early in the game to establish a strong position. A common strategy is to prioritize purchasing properties that are part of a color set, as owning a complete set allows players to build houses and hotels, significantly increasing rent and income potential. Players often aim for the orange and red properties, as they are frequently landed on due to their position on the board relative to the \"Go to Jail\" space. Additionally, players may focus on acquiring railroads for steady income and utilities for their potential to yield high returns with the right dice rolls. Another strategy is to manage cash flow carefully, ensuring they have enough liquidity to make strategic purchases and avoid bankruptcy.',\n",
      "    context='The best opening move in Monopoly involves a strategy that focuses on acquiring properties that can be developed into monopolies, particularly those that are landed on frequently, such as the orange and red properties. This approach maximizes the potential for income generation through rent. Additionally, securing railroads and utilities can provide a steady income stream. Managing cash flow effectively is also crucial to maintain flexibility in purchasing opportunities and avoiding financial pitfalls. These strategies are commonly employed by experienced players to gain an advantage early in the game.'\n",
      "), Prediction(\n",
      "    reasoning=\"The initial roll of the dice in Monopoly determines the player's starting position on the board, which in turn influences the available properties to purchase. Since the goal in Monopoly is to acquire properties and build monopolies, the initial roll can significantly impact a player's strategy. For example, rolling a 7 on the first turn lands a player on Chance, which introduces an element of unpredictability, while rolling a 6 lands a player on Oriental Avenue, a property that can be part of a monopoly with Vermont and Connecticut Avenues. The best opening move is often to purchase properties that are landed on early in the game, as they are more likely to be visited by other players, increasing the potential for collecting rent.\",\n",
      "    context='Understanding how the initial roll affects the starting position helps in determining the best opening move in Monopoly. The best opening move is influenced by the properties available after the first roll, as acquiring properties early can lead to strategic advantages. This context highlights the importance of adapting the opening move based on the initial roll to maximize property acquisition and control over the board.'\n",
      "), Prediction(\n",
      "    reasoning='Purchasing railroads early in Monopoly can be a strategic move because they provide a steady income stream without requiring additional investments for houses or hotels. Owning all four railroads can yield a significant return on investment, as landing on a railroad costs opponents $200. This can quickly add up, especially in the early game when players have limited cash reserves. Additionally, railroads are evenly distributed across the board, increasing the likelihood of opponents landing on them. This makes them a reliable source of income that can help fund further property acquisitions or development.',\n",
      "    context='The impact of purchasing railroads early in the game is significant because it provides a consistent income stream that can support other strategic moves. In the context of determining the best opening move in Monopoly, acquiring railroads can be a strong strategy. It allows players to accumulate cash without the need for further investment, which can be crucial in the early stages of the game when cash flow is limited. This strategy can complement other property acquisitions and help maintain financial stability, making it a potentially effective opening move.'\n",
      "), Prediction(\n",
      "    reasoning='In Monopoly, the opening moves are crucial as they set the stage for the rest of the game. Player dynamics and negotiation strategies significantly influence these moves. Players who are more aggressive in negotiations might aim to quickly acquire properties, even if it means paying a premium, to establish an early monopoly. Conversely, more conservative players might focus on accumulating cash reserves and waiting for strategic opportunities. The interaction between players, such as forming alliances or engaging in bidding wars, can also dictate the pace and nature of property acquisition. Understanding the personalities and strategies of opponents can help a player decide whether to be aggressive or cautious in their opening moves.',\n",
      "    context='The best opening move in Monopoly is not just about which properties to buy but also involves understanding the dynamics at the table. If you are playing with aggressive negotiators, it might be beneficial to secure key properties early, even at a higher cost, to prevent others from gaining a monopoly. On the other hand, if the table is more conservative, you might have the opportunity to acquire properties at a lower cost by waiting. Thus, the best opening move is a flexible strategy that considers both the properties available and the negotiation styles of the other players.'\n",
      ")]\n"
     ]
    }
   ],
   "execution_count": 13
  },
  {
   "metadata": {},
   "cell_type": "markdown",
   "source": [
    "## Self-Reflection Applied to RAG\n",
    "\n",
    "Source: Asai, Akari, et al. “SELF-RAG: Learning to Retrieve, Generate, and Critique through Self-Reflection.” arXiv preprint arXiv:2310.11511 (2023). https://arxiv.org/abs/2310.11511"
   ],
   "id": "4ced75db45a2dbf2"
  },
  {
   "metadata": {
    "ExecuteTime": {
     "end_time": "2025-02-26T12:45:01.802550Z",
     "start_time": "2025-02-26T12:45:01.797767Z"
    }
   },
   "cell_type": "code",
   "source": [
    "class BoardGameAdaptativeResearcher(dspy.Signature):\n",
    "    \"\"\"Takes the original question and the related question and finds an answer to the subquestion that is related to the original question.\"\"\"\n",
    "    question = dspy.InputField(desc=\"The user's initial query about board games\")\n",
    "    subquestion: str = dspy.InputField(desc=\"The subquestion you are doing deep research on\")\n",
    "    retrieve = dspy.OutputField(desc=\"Decide whether retrieval is necessary for this subquestion (Yes/No)\")\n",
    "    context = dspy.OutputField(desc=\"The context learned by answering the subquestion while relevant to the initial question\")\n",
    "\n",
    "class BoardGameCritic(dspy.Signature):\n",
    "    \"\"\"Assesses the quality and relevance of the retrieved context.\"\"\"\n",
    "    question = dspy.InputField(desc=\"The user's initial query about board games\")\n",
    "    subquestion: str = dspy.InputField(desc=\"The subquestion being researched\")\n",
    "    context = dspy.InputField(desc=\"The retrieved context for the subquestion\")\n",
    "    critique = dspy.OutputField(desc=\"Critique of whether the retrieved context is useful, partially useful, or irrelevant.\")\n",
    "\n",
    "class BoardGameAdaptativeAssistant(dspy.Module):\n",
    "    def __init__(self, **kwargs):\n",
    "        super().__init__(**kwargs)\n",
    "        self.plan_research = dspy.ChainOfThought(BoardGameResearchPlanner)\n",
    "        self.research = dspy.ChainOfThought(BoardGameAdaptativeResearcher)\n",
    "        self.critic = dspy.ChainOfThought(BoardGameCritic)\n",
    "        self.summarize = dspy.ChainOfThought(BoardGameResearchSummarizer)\n",
    "\n",
    "    def forward(self, question):\n",
    "        subquestions = self.plan_research(question=question).subquestions\n",
    "        research_context = []\n",
    "        print(f\"Question: {question} research tasks: {len(subquestions)}\")\n",
    "\n",
    "        for subquestion in subquestions:\n",
    "            print(f\" - Evaluating retrieval need for: {subquestion}\")\n",
    "            research = self.research(subquestion=subquestion, question=question)\n",
    "\n",
    "            if research.retrieve.lower() == \"yes\":\n",
    "                print(f\"   ✅Retrieval needed. Researching...\")\n",
    "                critic_response = self.critic(subquestion=subquestion, question=question, context=research.context)\n",
    "                \n",
    "                if \"irrelevant\" in critic_response.critique.lower():\n",
    "                    print(f\"   ❌Retrieved context deemed irrelevant. Skipping...\")\n",
    "                    continue\n",
    "                else:\n",
    "                    research_context.append(research.context)\n",
    "            else:\n",
    "                print(f\"   ⏭️No retrieval needed. Skipping this subquestion.\")\n",
    "\n",
    "        final_research = self.summarize(context=research_context, question=question)\n",
    "\n",
    "        return dspy.Prediction(answer=final_research.summary, research=research_context)"
   ],
   "id": "a69475a32762dc5c",
   "outputs": [],
   "execution_count": 14
  },
  {
   "metadata": {
    "ExecuteTime": {
     "end_time": "2025-02-26T12:45:01.814816Z",
     "start_time": "2025-02-26T12:45:01.803136Z"
    }
   },
   "cell_type": "code",
   "source": [
    "adaptative_assistant = BoardGameAdaptativeAssistant()\n",
    "new_recommendation = adaptative_assistant(question=\"What is the best opening move in Catan?\")"
   ],
   "id": "c15c47459999fb1e",
   "outputs": [
    {
     "name": "stdout",
     "output_type": "stream",
     "text": [
      "Question: What is the best opening move in Catan? research tasks: 7\n",
      " - Evaluating retrieval need for: What are the most important resources to prioritize in the early game of Catan?\n",
      "   ⏭️No retrieval needed. Skipping this subquestion.\n",
      " - Evaluating retrieval need for: How does the number of players affect the best opening move in Catan?\n",
      "   ✅Retrieval needed. Researching...\n",
      " - Evaluating retrieval need for: What are common strategies for initial settlement placement in Catan?\n",
      "   ⏭️No retrieval needed. Skipping this subquestion.\n",
      " - Evaluating retrieval need for: How does the board layout influence the choice of the best opening move?\n",
      "   ⏭️No retrieval needed. Skipping this subquestion.\n",
      " - Evaluating retrieval need for: What role does trading play in determining the best opening strategy in Catan?\n",
      "   ⏭️No retrieval needed. Skipping this subquestion.\n",
      " - Evaluating retrieval need for: How can a player adapt their opening move based on opponents' placements?\n",
      "   ⏭️No retrieval needed. Skipping this subquestion.\n",
      " - Evaluating retrieval need for: What are the risks and benefits of focusing on a single resource type in the opening move?\n",
      "   ⏭️No retrieval needed. Skipping this subquestion.\n"
     ]
    }
   ],
   "execution_count": 15
  },
  {
   "metadata": {
    "ExecuteTime": {
     "end_time": "2025-02-26T12:45:01.817425Z",
     "start_time": "2025-02-26T12:45:01.815416Z"
    }
   },
   "cell_type": "code",
   "source": "new_recommendation",
   "id": "5c69b891c8c98324",
   "outputs": [
    {
     "data": {
      "text/plain": [
       "Prediction(\n",
       "    answer='The best opening move in Catan depends on the number of players. With fewer players, aim for a balanced resource strategy due to less competition. With more players, prioritize securing high-value resource spots early, focusing on intersections that offer a mix of brick, wood, and wheat to facilitate early development.',\n",
       "    research=['The number of players in Catan affects the best opening move by altering the availability of resources and competition for key locations. With fewer players, there is more flexibility in choosing diverse resources and strategic positions, while with more players, securing high-value resource spots becomes more critical due to increased competition.']\n",
       ")"
      ]
     },
     "execution_count": 16,
     "metadata": {},
     "output_type": "execute_result"
    }
   ],
   "execution_count": 16
  },
  {
   "metadata": {
    "ExecuteTime": {
     "end_time": "2025-02-26T12:45:01.832354Z",
     "start_time": "2025-02-26T12:45:01.818266Z"
    }
   },
   "cell_type": "code",
   "source": "strategy = adaptative_assistant(question=\"What is the best opening move in Catan? Which resource should I focus on? What is the best response if my opponent opens with that move?\")",
   "id": "fcd3d0273e41eb56",
   "outputs": [
    {
     "name": "stdout",
     "output_type": "stream",
     "text": [
      "Question: What is the best opening move in Catan? Which resource should I focus on? What is the best response if my opponent opens with that move? research tasks: 9\n",
      " - Evaluating retrieval need for: What are the most common opening strategies in Catan and their advantages?\n",
      "   ✅Retrieval needed. Researching...\n",
      " - Evaluating retrieval need for: How does the initial board setup influence the choice of opening move in Catan?\n",
      "   ⏭️No retrieval needed. Skipping this subquestion.\n",
      " - Evaluating retrieval need for: Which resources are generally considered most valuable in the early game of Catan and why?\n",
      "   ⏭️No retrieval needed. Skipping this subquestion.\n",
      " - Evaluating retrieval need for: How can I assess the probability of resource production based on the initial dice roll numbers?\n",
      "   ⏭️No retrieval needed. Skipping this subquestion.\n",
      " - Evaluating retrieval need for: What are effective counter-strategies if an opponent secures a strong opening position?\n",
      "   ✅Retrieval needed. Researching...\n",
      " - Evaluating retrieval need for: How does the choice of opening move affect long-term strategy in Catan?\n",
      "   ⏭️No retrieval needed. Skipping this subquestion.\n",
      " - Evaluating retrieval need for: What role does trading play in compensating for a weaker opening move?\n",
      "   ⏭️No retrieval needed. Skipping this subquestion.\n",
      " - Evaluating retrieval need for: How can I adapt my strategy if my initial resource focus is blocked by opponents?\n",
      "   ⏭️No retrieval needed. Skipping this subquestion.\n",
      " - Evaluating retrieval need for: What are the risks and rewards of focusing on different resources like brick, wood, or ore in the opening?\n",
      "   ⏭️No retrieval needed. Skipping this subquestion.\n"
     ]
    }
   ],
   "execution_count": 17
  },
  {
   "metadata": {
    "ExecuteTime": {
     "end_time": "2025-02-26T12:45:01.834935Z",
     "start_time": "2025-02-26T12:45:01.832895Z"
    }
   },
   "cell_type": "code",
   "source": "strategy",
   "id": "d71306ad344d2f5",
   "outputs": [
    {
     "data": {
      "text/plain": [
       "Prediction(\n",
       "    answer='The best opening move in Catan typically involves securing brick and wood to build roads and settlements quickly, or ore and wheat for upgrading to cities and developing cards. The choice depends on the board layout and resource availability. If an opponent opens with a strong move, counter by blocking their expansion, trading strategically, and prioritizing development cards to maintain competitiveness.',\n",
       "    research=[\"The most common opening strategies in Catan involve securing key resources that enable early expansion or development. Players often prioritize brick and wood to build roads and settlements quickly, or ore and wheat to upgrade to cities and develop cards. The choice of strategy depends on the board layout and available resource numbers. Knowing these strategies helps in deciding the best opening move and how to counter an opponent's strategy effectively.\", \"Effective counter-strategies in Catan when an opponent secures a strong opening position include blocking their expansion paths, trading strategically to acquire needed resources, and prioritizing development cards to gain an edge. These strategies help mitigate the opponent's advantage and can be crucial in maintaining competitiveness in the game.\"]\n",
       ")"
      ]
     },
     "execution_count": 18,
     "metadata": {},
     "output_type": "execute_result"
    }
   ],
   "execution_count": 18
  },
  {
   "metadata": {
    "ExecuteTime": {
     "end_time": "2025-02-26T12:45:55.496394Z",
     "start_time": "2025-02-26T12:45:01.835488Z"
    }
   },
   "cell_type": "code",
   "source": [
    "adaptative_assistant = BoardGameAdaptativeAssistant()\n",
    "result = adaptative_assistant(question=\"What's the best opening move in Catan? Explain in high detail 3 potential scenarios where it showcases the best performance.\")\n"
   ],
   "id": "c2fe11fd2048a37e",
   "outputs": [
    {
     "name": "stdout",
     "output_type": "stream",
     "text": [
      "Question: What's the best opening move in Catan? Explain in high detail 3 potential scenarios where it showcases the best performance. research tasks: 8\n",
      " - Evaluating retrieval need for: What are the key resources in Catan, and how do they influence the opening move?\n",
      "   ⏭️No retrieval needed. Skipping this subquestion.\n",
      " - Evaluating retrieval need for: How does the initial placement of settlements affect resource acquisition and strategy?\n",
      "   ⏭️No retrieval needed. Skipping this subquestion.\n",
      " - Evaluating retrieval need for: What are the common strategies for the first settlement placement in Catan?\n",
      "   ⏭️No retrieval needed. Skipping this subquestion.\n",
      " - Evaluating retrieval need for: How does the distribution of numbers on the board impact the effectiveness of an opening move?\n",
      "   ⏭️No retrieval needed. Skipping this subquestion.\n",
      " - Evaluating retrieval need for: What role do ports play in determining the best opening move in Catan?\n",
      "   ⏭️No retrieval needed. Skipping this subquestion.\n",
      " - Evaluating retrieval need for: How can the strategies of other players influence your opening move decision?\n",
      "   ⏭️No retrieval needed. Skipping this subquestion.\n",
      " - Evaluating retrieval need for: What are the advantages and disadvantages of prioritizing different resources in the opening move?\n",
      "   ✅Retrieval needed. Researching...\n",
      " - Evaluating retrieval need for: How does the choice of initial roads affect future expansion opportunities in Catan?\n",
      "   ⏭️No retrieval needed. Skipping this subquestion.\n"
     ]
    }
   ],
   "execution_count": 19
  },
  {
   "metadata": {
    "ExecuteTime": {
     "end_time": "2025-02-26T12:45:55.502756Z",
     "start_time": "2025-02-26T12:45:55.498072Z"
    }
   },
   "cell_type": "code",
   "source": [
    "from IPython.display import display, Markdown\n",
    "\n",
    "display(Markdown(result['answer']))"
   ],
   "id": "5d6c2baff4e099f4",
   "outputs": [
    {
     "data": {
      "text/plain": [
       "<IPython.core.display.Markdown object>"
      ],
      "text/markdown": "The best opening move in Catan varies based on the board setup and opponents' strategies. In a scenario with limited space and high competition, prioritizing brick and wood is advantageous for rapid expansion. In contrast, focusing on wheat and ore is beneficial when high resource production is possible, allowing for quick upgrades to cities. A balanced approach, securing a mix of resources, is effective when the board is evenly distributed, providing flexibility to adapt to the game's progression. The optimal strategy involves assessing the board and opponents to determine the most advantageous resources to prioritize."
     },
     "metadata": {},
     "output_type": "display_data"
    }
   ],
   "execution_count": 20
  }
 ],
 "metadata": {
  "kernelspec": {
   "display_name": "Python 3 (ipykernel)",
   "language": "python",
   "name": "python3"
  },
  "language_info": {
   "codemirror_mode": {
    "name": "ipython",
    "version": 3
   },
   "file_extension": ".py",
   "mimetype": "text/x-python",
   "name": "python",
   "nbconvert_exporter": "python",
   "pygments_lexer": "ipython3",
   "version": "3.12.1"
  }
 },
 "nbformat": 4,
 "nbformat_minor": 5
}
