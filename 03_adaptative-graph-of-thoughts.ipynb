{
 "cells": [
  {
   "cell_type": "code",
   "id": "initial_id",
   "metadata": {
    "collapsed": true,
    "ExecuteTime": {
     "end_time": "2025-03-02T12:27:11.766161Z",
     "start_time": "2025-03-02T12:27:11.758830Z"
    }
   },
   "source": [
    "from src.reasoning import AdaptiveGraphOfThoughts\n",
    "from dotenv import load_dotenv\n",
    "load_dotenv()\n",
    "load_dotenv('.secrets')\n"
   ],
   "outputs": [
    {
     "data": {
      "text/plain": [
       "True"
      ]
     },
     "execution_count": 107,
     "metadata": {},
     "output_type": "execute_result"
    }
   ],
   "execution_count": 107
  },
  {
   "metadata": {},
   "cell_type": "markdown",
   "source": [
    "This implementation showcases how you could build AGoT using DSPy's composable abstractions. Let me explain the key components:\n",
    "Core Components of the Implementation\n",
    "\n",
    "1. DSPy Signatures and Modules for each AGoT Operation,\n",
    "\n",
    "- `T0`: Generates initial thoughts (first layer)\n",
    "- `Te`: Expands the graph with additional thoughts and edges\n",
    "- `C`: Checks thought complexity to determine if recursion is needed\n",
    "- `Eval`: Evaluates non-complex thoughts\n",
    "- `Phi`: Synthesizes the final answer from the complete graph\n",
    "\n",
    "\n",
    "2. Graph Structure: I use NetworkX to represent the directed acyclic graph (DAG) structure, with each node containing a Thought object that tracks important metadata.\n",
    "\n",
    "3. Recursive Implementation: The _recursive_agot method implements the core algorithm described in the paper, including:\n",
    "\n",
    "- Layer-by-layer generation of thoughts\n",
    "- Complexity checking\n",
    "- Recursive processing for complex thoughts\n",
    "- Final answer synthesis\n",
    "\n",
    "\n",
    "5. Visualization: The implementation includes a `visualize_graph` method to help understand the resulting reasoning structure.\n",
    "\n",
    "### How This Maps to the Paper\n",
    "The implementation closely follows the mathematical formalism in Section 2 of the paper:\n",
    "\n",
    "- The heritage tracking system `(h = (s₀, s₁, ..., sₙ)) `is implemented using a list of layer and node index tuples\n",
    "- The complexity function `C: T × G → {0, 1}` maps directly to the ComplexityChecker module\n",
    "- The evaluation function `Eval: T × G → A` corresponds to the ThoughtEvaluator module\n",
    "- The final synthesis function `Φ: G → T` is implemented as the FinalAnswerSynthesizer module\n",
    "\n",
    "Implementation Notes\n",
    "\n",
    "DSPy makes it easy to swap different language models as backends, which would be useful for testing different LLMs with AGoT.\n",
    "The implementation focuses on the core AGoT algorithm rather than specific optimization techniques mentioned in the paper.\n",
    "In a full implementation, you might want to add:\n",
    "\n",
    "Better prompt engineering for each module\n",
    "More sophisticated termination conditions\n",
    "Parallelization for asynchronous thought evaluation\n",
    "Metrics collection and evaluation against benchmarks"
   ],
   "id": "1798f3d1e8a02b5a"
  },
  {
   "metadata": {
    "ExecuteTime": {
     "end_time": "2025-02-28T12:04:46.203396Z",
     "start_time": "2025-02-28T12:03:35.207911Z"
    }
   },
   "cell_type": "code",
   "source": [
    "import dspy\n",
    "import os\n",
    "lm = dspy.LM('gpt-4o-mini', api_key=os.getenv(\"OPENAI_API_KEY\"))\n",
    "dspy.configure(lm=lm)\n",
    "agot = AdaptiveGraphOfThoughts(max_depth=1, max_layers=2, max_nodes=2)\n",
    "# Run on a complex query\n",
    "result = agot(query=\"What's the best opening move in Catan? Explain in high detail 3 potential scenarios where it showcases the best performance.\")\n",
    "\n",
    "# Get the answer and graph\n",
    "answer = result[\"answer\"]\n",
    "graph = result[\"graph\"]\n",
    "\n",
    "print(f\"Final Answer: {answer}\")\n",
    "print(\"\\nGenerated Thoughts:\")\n",
    "for node_id, data in graph.nodes(data=True):\n",
    "    thought = data['data']\n",
    "    print(f\"- {thought}\")\n",
    "# Visualize the graph\n",
    "# agot.visualize_graph(graph)\n"
   ],
   "id": "97af68382c622bcb",
   "outputs": [
    {
     "name": "stdout",
     "output_type": "stream",
     "text": [
      "\n",
      "[DEBUG] Depth 0, Layer 0: Generating initial thoughts for query: What's the best opening move in Catan? Explain in high detail 3 potential scenarios where it showcases the best performance.\n",
      "[DEBUG] Generated thoughts: ['One of the best opening moves in Catan is to place the first settlement on a location that provides access to a variety of resources, particularly brick and wood, which are crucial for building roads and settlements early in the game. For example, if a player places their settlement at the intersection of a brick (8), wood (5), and wheat (6), they can quickly build roads to expand towards valuable ports or additional resource tiles. In a scenario where the player successfully builds a road towards a port, they can trade excess resources for those they lack, significantly enhancing their resource management and positioning in the game.', 'Another strong opening move is to prioritize a settlement on a high-yield resource tile, such as wheat or ore, even if it means sacrificing access to brick or wood initially. For instance, placing a settlement on a wheat (9), ore (4), and sheep (3) intersection can set a player up for a powerful late-game strategy focused on development cards and cities. In a scenario where the player draws several development cards, they can gain knights to control the robber and potentially secure the largest army bonus, leading to a significant advantage over opponents who may be focused on building settlements and roads.']\n",
      "[DEBUG] Added thought 0_0: One of the best opening moves in Catan is to place...\n",
      "[DEBUG] Added thought 0_1: Another strong opening move is to prioritize a set...\n",
      "[DEBUG] Depth 0, Layer 0: Checking complexity of thought 0_0: One of the best opening moves in Catan is to place...\n",
      "[DEBUG] Complexity check result: 1, Reason: The thought presents multiple interconnected strategies and scenarios related to gameplay in Catan, including resource management, settlement placement, and road building towards ports. This complexity suggests that it can be broken down into simpler components for better understanding and analysis.\n",
      "[DEBUG] Thought 0_0 is complex, starting recursive processing\n",
      "\n",
      "[DEBUG] Depth 1, Layer 0: Generating nested initial thoughts for query: One of the best opening moves in Catan is to place the first settlement on a location that provides access to a variety of resources, particularly brick and wood, which are crucial for building roads and settlements early in the game. For example, if a player places their settlement at the intersection of a brick (8), wood (5), and wheat (6), they can quickly build roads to expand towards valuable ports or additional resource tiles. In a scenario where the player successfully builds a road towards a port, they can trade excess resources for those they lack, significantly enhancing their resource management and positioning in the game.\n",
      "[DEBUG] Generated nested thoughts: ['Placing a settlement at the intersection of high-frequency resource tiles, such as brick and wood, not only allows for immediate road building but also sets the player up for future expansion opportunities, making it essential to consider the long-term benefits of initial placements.', 'Prioritizing access to a port early in the game can provide a significant advantage, as it allows for flexible trading options that can mitigate resource shortages and enhance overall strategy, especially when combined with a diverse resource base.']\n",
      "[DEBUG] Added nested thought 0_0: Placing a settlement at the intersection of high-f...\n",
      "[DEBUG] Added nested thought 0_1: Prioritizing access to a port early in the game ca...\n",
      "[DEBUG] Depth 1, Layer 0: Checking complexity of thought 0_0: Placing a settlement at the intersection of high-f...\n",
      "[DEBUG] Complexity check result: 1, Reason: The thought involves multiple strategic considerations, including resource management, immediate benefits versus long-term planning, and the implications of settlement placement on future expansion. This complexity warrants further decomposition to explore each aspect in detail.\n",
      "[DEBUG] Evaluating thought 0_0 directly\n",
      "[DEBUG] Thought 0_0 evaluation result: Your thought highlights a crucial strategy in reso...\n",
      "[DEBUG] Depth 1, Layer 0: Checking complexity of thought 0_1: Prioritizing access to a port early in the game ca...\n",
      "[DEBUG] Complexity check result: 1, Reason: The thought discusses multiple interconnected concepts, including the strategic importance of port access, trading options, resource management, and overall game strategy. This complexity suggests that it can be broken down into simpler components for better understanding and analysis.\n",
      "[DEBUG] Evaluating thought 0_1 directly\n",
      "[DEBUG] Thought 0_1 evaluation result: Your thought accurately identifies the strategic i...\n",
      "\n",
      "[DEBUG] Depth 1, Layer 1: Generating subsequent thoughts\n",
      "[DEBUG] Generated subsequent thoughts: ['A strong strategy in Catan involves not only placing settlements for immediate resource access but also anticipating future moves by other players. By observing their placements, a player can position their settlements to block opponents from accessing critical resources or ports, thereby gaining a competitive edge.', 'In addition to focusing on brick and wood, players should also consider the importance of wheat and ore in their initial placements. These resources become vital for upgrading settlements to cities and purchasing development cards, which can provide significant advantages later in the game.']\n",
      "[DEBUG] New edges: [(\"0_0\", \"1_0\"), (\"0_1\", \"1_1\")]\n",
      "[DEBUG] Added subsequent thought 1_0: A strong strategy in Catan involves not only placi...\n",
      "[DEBUG] Added subsequent thought 1_1: In addition to focusing on brick and wood, players...\n",
      "[DEBUG] Adding edges: [('0_0', '1_0'), ('0_1', '1_1')]\n",
      "[DEBUG] Adding edge... 0_0 → 1_0\n",
      "[DEBUG] Added edge: 0_0 → 1_0\n",
      "[DEBUG] Adding edge... 0_1 → 1_1\n",
      "[DEBUG] Added edge: 0_1 → 1_1\n",
      "[DEBUG] Depth 1, Layer 1: Checking complexity of thought 1_0: A strong strategy in Catan involves not only placi...\n",
      "[DEBUG] Complexity check result: 1, Reason: The thought discusses multiple strategic elements in Catan, including immediate resource access, anticipating opponents' moves, and blocking access to critical resources. This complexity suggests that it can be broken down into more detailed components for better understanding and application.\n",
      "[DEBUG] Evaluating thought 1_0 directly\n",
      "[DEBUG] Thought 1_0 evaluation result: Your thought effectively captures the essence of s...\n",
      "[DEBUG] Depth 1, Layer 1: Checking complexity of thought 1_1: In addition to focusing on brick and wood, players...\n",
      "[DEBUG] Complexity check result: 1, Reason: The thought introduces multiple resource types (wheat and ore) and their strategic importance in the game, indicating a need for further breakdown to explore how these resources interact with the overall strategy of upgrading settlements and acquiring development cards.\n",
      "[DEBUG] Evaluating thought 1_1 directly\n",
      "[DEBUG] Thought 1_1 evaluation result: Your thought effectively emphasizes the importance...\n",
      "\n",
      "[DEBUG] Depth 1: Synthesizing final answer\n",
      "[DEBUG] Final answer: One of the best opening moves in Catan is to place the first settlement at a location that provides ...\n",
      "[DEBUG] Completed recursive processing for thought 0_0, answer: One of the best opening moves in Catan is to place...\n",
      "[DEBUG] Depth 0, Layer 0: Checking complexity of thought 0_1: Another strong opening move is to prioritize a set...\n",
      "[DEBUG] Complexity check result: 1, Reason: The thought presents a multi-faceted strategy involving resource prioritization, settlement placement, and potential late-game tactics, which includes the interplay of development cards and the largest army bonus. This complexity warrants further decomposition to fully explore the implications and strategies involved.\n",
      "[DEBUG] Thought 0_1 is complex, starting recursive processing\n",
      "\n",
      "[DEBUG] Depth 1, Layer 0: Generating nested initial thoughts for query: Another strong opening move is to prioritize a settlement on a high-yield resource tile, such as wheat or ore, even if it means sacrificing access to brick or wood initially. For instance, placing a settlement on a wheat (9), ore (4), and sheep (3) intersection can set a player up for a powerful late-game strategy focused on development cards and cities. In a scenario where the player draws several development cards, they can gain knights to control the robber and potentially secure the largest army bonus, leading to a significant advantage over opponents who may be focused on building settlements and roads.\n",
      "[DEBUG] Generated nested thoughts: [\"Prioritizing a settlement on high-yield resource tiles like wheat and ore can significantly enhance a player's ability to build cities and purchase development cards, which are crucial for gaining advantages in the late game. This strategy may require players to adapt their initial resource management and trade strategies to compensate for the lack of brick and wood in the early stages.\", \"Focusing on development cards by securing a strong position on wheat and ore can lead to a powerful late-game strategy, especially if a player can consistently draw knights to control the robber. This control can disrupt opponents' resource production, allowing the player to maintain a competitive edge and potentially secure the largest army bonus, which can be a game-changer.\"]\n",
      "[DEBUG] Added nested thought 0_0: Prioritizing a settlement on high-yield resource t...\n",
      "[DEBUG] Added nested thought 0_1: Focusing on development cards by securing a strong...\n",
      "[DEBUG] Depth 1, Layer 0: Checking complexity of thought 0_0: Prioritizing a settlement on high-yield resource t...\n",
      "[DEBUG] Complexity check result: 1, Reason: The thought presents multiple interconnected strategies regarding resource prioritization, initial resource management, and trade adaptations. It involves evaluating the implications of these strategies on gameplay, which adds layers of complexity that warrant further decomposition.\n",
      "[DEBUG] Evaluating thought 0_0 directly\n",
      "[DEBUG] Thought 0_0 evaluation result: Your thought highlights a solid strategy in resour...\n",
      "[DEBUG] Depth 1, Layer 0: Checking complexity of thought 0_1: Focusing on development cards by securing a strong...\n",
      "[DEBUG] Complexity check result: 1, Reason: The thought presents multiple interconnected strategies involving resource management, card acquisition, and opponent disruption, which indicates a level of complexity that warrants further decomposition for clarity and deeper analysis.\n",
      "[DEBUG] Evaluating thought 0_1 directly\n",
      "[DEBUG] Thought 0_1 evaluation result: Your thought presents a well-rounded strategy for ...\n",
      "\n",
      "[DEBUG] Depth 1, Layer 1: Generating subsequent thoughts\n",
      "[DEBUG] Generated subsequent thoughts: ['Sacrificing access to brick or wood in the early game by prioritizing a settlement on high-yield resources can lead to resource scarcity, making it crucial to trade effectively with other players to maintain a balanced resource pool for building roads and settlements later on.', \"Controlling the robber with knights not only protects your own resources but also disrupts opponents' strategies, particularly those relying on brick and wood for expansion, thereby creating opportunities to capitalize on their weaknesses.\"]\n",
      "[DEBUG] New edges: [(\"0_0\", \"1_0\"), (\"0_1\", \"1_1\")]\n",
      "[DEBUG] Added subsequent thought 1_0: Sacrificing access to brick or wood in the early g...\n",
      "[DEBUG] Added subsequent thought 1_1: Controlling the robber with knights not only prote...\n",
      "[DEBUG] Adding edges: [('0_0', '1_0'), ('0_1', '1_1')]\n",
      "[DEBUG] Adding edge... 0_0 → 1_0\n",
      "[DEBUG] Added edge: 0_0 → 1_0\n",
      "[DEBUG] Adding edge... 0_1 → 1_1\n",
      "[DEBUG] Added edge: 0_1 → 1_1\n",
      "[DEBUG] Depth 1, Layer 1: Checking complexity of thought 1_0: Sacrificing access to brick or wood in the early g...\n",
      "[DEBUG] Complexity check result: 1, Reason: The thought involves multiple strategic considerations, including resource prioritization, the impact of scarcity, and the necessity of effective trading with other players. This complexity suggests that it could benefit from further decomposition to explore each aspect in detail.\n",
      "[DEBUG] Evaluating thought 1_0 directly\n",
      "[DEBUG] Thought 1_0 evaluation result: Your thought presents a strategic consideration in...\n",
      "[DEBUG] Depth 1, Layer 1: Checking complexity of thought 1_1: Controlling the robber with knights not only prote...\n",
      "[DEBUG] Complexity check result: 1, Reason: The thought involves multiple strategic elements, including resource protection, disruption of opponents' strategies, and capitalizing on weaknesses. This complexity suggests that it could be broken down into more specific components for better understanding and application.\n",
      "[DEBUG] Evaluating thought 1_1 directly\n",
      "[DEBUG] Thought 1_1 evaluation result: Your thought effectively outlines a strategic appr...\n",
      "\n",
      "[DEBUG] Depth 1: Synthesizing final answer\n",
      "[DEBUG] Final answer: Prioritizing a settlement on high-yield resource tiles like wheat and ore can be a powerful strategy...\n",
      "[DEBUG] Completed recursive processing for thought 0_1, answer: Prioritizing a settlement on high-yield resource t...\n",
      "\n",
      "[DEBUG] Depth 0, Layer 1: Generating subsequent thoughts\n",
      "[DEBUG] Generated subsequent thoughts: ['Placing a settlement at the intersection of a wheat, wood, and brick resource can create a strong foundation for building roads and settlements early in the game. For instance, if a player starts with this combination, they can quickly expand towards a port or another high-yield area, allowing them to trade excess resources effectively and maintain a steady growth trajectory throughout the game.', 'Another effective opening move is to position a settlement near a high-frequency resource like ore, especially if it is adjacent to a 3:1 port. This strategy can be particularly powerful in a scenario where the player can monopolize ore production, enabling them to build development cards and cities faster than opponents. By controlling the ore supply, the player can leverage trades with others who may need it, further enhancing their position in the game.']\n",
      "[DEBUG] New edges: [(\"0_0\", \"1_0\"), (\"0_1\", \"1_1\")]\n",
      "[DEBUG] Added subsequent thought 1_0: Placing a settlement at the intersection of a whea...\n",
      "[DEBUG] Added subsequent thought 1_1: Another effective opening move is to position a se...\n",
      "[DEBUG] Adding edges: [('0_0', '1_0'), ('0_1', '1_1')]\n",
      "[DEBUG] Adding edge... 0_0 → 1_0\n",
      "[DEBUG] Added edge: 0_0 → 1_0\n",
      "[DEBUG] Adding edge... 0_1 → 1_1\n",
      "[DEBUG] Added edge: 0_1 → 1_1\n",
      "[DEBUG] Depth 0, Layer 1: Checking complexity of thought 1_0: Placing a settlement at the intersection of a whea...\n",
      "[DEBUG] Complexity check result: 1, Reason: The thought discusses multiple strategic elements of gameplay in Catan, including resource management, expansion strategies, and trading dynamics. This complexity warrants further decomposition to explore each aspect in detail.\n",
      "[DEBUG] Thought 1_0 is complex, starting recursive processing\n",
      "\n",
      "[DEBUG] Depth 1, Layer 0: Generating nested initial thoughts for query: Placing a settlement at the intersection of a wheat, wood, and brick resource can create a strong foundation for building roads and settlements early in the game. For instance, if a player starts with this combination, they can quickly expand towards a port or another high-yield area, allowing them to trade excess resources effectively and maintain a steady growth trajectory throughout the game.\n",
      "[DEBUG] Generated nested thoughts: ['Placing a settlement at the intersection of wheat, wood, and brick not only provides a balanced resource base for building roads and settlements but also positions the player to capitalize on trading opportunities with other players, especially if they can secure a port for excess resources.', 'By starting with a strong resource combination, players can prioritize building roads towards high-yield areas or ports, which can significantly enhance their resource acquisition and trading capabilities, leading to a more robust growth strategy throughout the game.']\n",
      "[DEBUG] Added nested thought 0_0: Placing a settlement at the intersection of wheat,...\n",
      "[DEBUG] Added nested thought 0_1: By starting with a strong resource combination, pl...\n",
      "[DEBUG] Depth 1, Layer 0: Checking complexity of thought 0_0: Placing a settlement at the intersection of wheat,...\n",
      "[DEBUG] Complexity check result: 1, Reason: The thought involves multiple strategic elements, including resource management, trading dynamics, and positioning for future opportunities, which indicates a level of complexity that warrants further decomposition.\n",
      "[DEBUG] Evaluating thought 0_0 directly\n",
      "[DEBUG] Thought 0_0 evaluation result: Your thought is well-founded. Placing a settlement...\n",
      "[DEBUG] Depth 1, Layer 0: Checking complexity of thought 0_1: By starting with a strong resource combination, pl...\n",
      "[DEBUG] Complexity check result: 1, Reason: The thought involves multiple strategic elements, such as resource combination, road building, prioritization of high-yield areas or ports, and their impact on resource acquisition and trading capabilities. This complexity suggests that it can be broken down into simpler components for better understanding and analysis.\n",
      "[DEBUG] Evaluating thought 0_1 directly\n",
      "[DEBUG] Thought 0_1 evaluation result: Your thought is insightful. Starting with a strong...\n",
      "\n",
      "[DEBUG] Depth 1, Layer 1: Generating subsequent thoughts\n",
      "[DEBUG] Generated subsequent thoughts: ['Establishing a settlement at the intersection of wheat, wood, and brick not only facilitates early expansion but also positions the player to dominate trade routes, allowing for advantageous exchanges with other players and maximizing resource utilization.', 'As the game progresses, maintaining control over the initial settlement can deter opponents from encroaching on valuable resources, making it crucial to build roads strategically to block their expansion while securing access to ports or high-yield areas.']\n",
      "[DEBUG] New edges: [(\"0_0\", \"1_0\"), (\"0_1\", \"1_1\")]\n",
      "[DEBUG] Added subsequent thought 1_0: Establishing a settlement at the intersection of w...\n",
      "[DEBUG] Added subsequent thought 1_1: As the game progresses, maintaining control over t...\n",
      "[DEBUG] Adding edges: [('0_0', '1_0'), ('0_1', '1_1')]\n",
      "[DEBUG] Adding edge... 0_0 → 1_0\n",
      "[DEBUG] Added edge: 0_0 → 1_0\n",
      "[DEBUG] Adding edge... 0_1 → 1_1\n",
      "[DEBUG] Added edge: 0_1 → 1_1\n",
      "[DEBUG] Depth 1, Layer 1: Checking complexity of thought 1_0: Establishing a settlement at the intersection of w...\n",
      "[DEBUG] Complexity check result: 1, Reason: The thought involves multiple strategic elements, including resource management, trade route dominance, and player interactions, which require further breakdown to fully understand the implications and strategies involved.\n",
      "[DEBUG] Evaluating thought 1_0 directly\n",
      "[DEBUG] Thought 1_0 evaluation result: Your thought is strategically sound. Establishing ...\n",
      "[DEBUG] Depth 1, Layer 1: Checking complexity of thought 1_1: As the game progresses, maintaining control over t...\n",
      "[DEBUG] Complexity check result: 1, Reason: The thought involves multiple strategic elements, including resource control, opponent deterrence, and road placement, which are interconnected and require further breakdown to fully understand the implications and strategies involved.\n",
      "[DEBUG] Evaluating thought 1_1 directly\n",
      "[DEBUG] Thought 1_1 evaluation result: Your thought is strategically sound. Maintaining c...\n",
      "\n",
      "[DEBUG] Depth 1: Synthesizing final answer\n",
      "[DEBUG] Final answer: Placing a settlement at the intersection of wheat, wood, and brick is a strategic move that allows f...\n",
      "[DEBUG] Completed recursive processing for thought 1_0, answer: Placing a settlement at the intersection of wheat,...\n",
      "[DEBUG] Depth 0, Layer 1: Checking complexity of thought 1_1: Another effective opening move is to position a se...\n",
      "[DEBUG] Complexity check result: 1, Reason: The thought discusses a strategic approach in a game, involving multiple elements such as resource positioning, trade dynamics, and game mechanics. This complexity warrants further decomposition to explore each aspect in detail.\n",
      "[DEBUG] Thought 1_1 is complex, starting recursive processing\n",
      "\n",
      "[DEBUG] Depth 1, Layer 0: Generating nested initial thoughts for query: Another effective opening move is to position a settlement near a high-frequency resource like ore, especially if it is adjacent to a 3:1 port. This strategy can be particularly powerful in a scenario where the player can monopolize ore production, enabling them to build development cards and cities faster than opponents. By controlling the ore supply, the player can leverage trades with others who may need it, further enhancing their position in the game.\n",
      "[DEBUG] Generated nested thoughts: [\"Positioning a settlement near ore not only allows for faster development card acquisition but also creates opportunities for strategic trades, as players who lack ore will be more inclined to offer favorable trades for it, enhancing the player's overall resource control.\", 'By establishing a settlement next to a 3:1 port, a player can effectively convert surplus resources into ore, further solidifying their position and enabling them to outpace opponents in building cities and development cards, which are crucial for winning the game.']\n",
      "[DEBUG] Added nested thought 0_0: Positioning a settlement near ore not only allows ...\n",
      "[DEBUG] Added nested thought 0_1: By establishing a settlement next to a 3:1 port, a...\n",
      "[DEBUG] Depth 1, Layer 0: Checking complexity of thought 0_0: Positioning a settlement near ore not only allows ...\n",
      "[DEBUG] Complexity check result: 1, Reason: The thought is complex because it involves multiple strategic elements: the benefits of positioning a settlement near ore, the implications for development card acquisition, and the dynamics of trading with other players. Each of these components could be further explored and broken down for a deeper understanding of the overall strategy.\n",
      "[DEBUG] Evaluating thought 0_0 directly\n",
      "[DEBUG] Thought 0_0 evaluation result: Your thought highlights a key strategic advantage ...\n",
      "[DEBUG] Depth 1, Layer 0: Checking complexity of thought 0_1: By establishing a settlement next to a 3:1 port, a...\n",
      "[DEBUG] Complexity check result: 1, Reason: The thought involves multiple strategic elements, including resource conversion, positioning, and competitive advantage, which can be broken down into simpler components for better understanding and analysis.\n",
      "[DEBUG] Evaluating thought 0_1 directly\n",
      "[DEBUG] Thought 0_1 evaluation result: Your thought effectively identifies a strategic ad...\n",
      "\n",
      "[DEBUG] Depth 1, Layer 1: Generating subsequent thoughts\n",
      "[DEBUG] Generated subsequent thoughts: [\"Controlling a high-frequency resource like ore not only accelerates the player's ability to build cities and development cards but also creates opportunities for strategic alliances or trade agreements with other players, who may be desperate for ore to advance their own positions.\", 'The combination of a settlement near ore and a 3:1 port can lead to a dominant position in the game, as the player can effectively dictate trade terms, making it difficult for opponents to compete for resources, especially if they lack access to ore.']\n",
      "[DEBUG] New edges: [(\"0_0\", \"1_0\"), (\"0_1\", \"1_1\")]\n",
      "[DEBUG] Added subsequent thought 1_0: Controlling a high-frequency resource like ore not...\n",
      "[DEBUG] Added subsequent thought 1_1: The combination of a settlement near ore and a 3:1...\n",
      "[DEBUG] Adding edges: [('0_0', '1_0'), ('0_1', '1_1')]\n",
      "[DEBUG] Adding edge... 0_0 → 1_0\n",
      "[DEBUG] Added edge: 0_0 → 1_0\n",
      "[DEBUG] Adding edge... 0_1 → 1_1\n",
      "[DEBUG] Added edge: 0_1 → 1_1\n",
      "[DEBUG] Depth 1, Layer 1: Checking complexity of thought 1_0: Controlling a high-frequency resource like ore not...\n",
      "[DEBUG] Complexity check result: 1, Reason: The thought discusses multiple interconnected concepts: the strategic advantage of controlling a high-frequency resource (ore), the implications for city building and development cards, and the potential for forming alliances or trade agreements. This complexity suggests that it could benefit from further decomposition to explore each aspect in detail.\n",
      "[DEBUG] Evaluating thought 1_0 directly\n",
      "[DEBUG] Thought 1_0 evaluation result: Your thought effectively underscores the importanc...\n",
      "[DEBUG] Depth 1, Layer 1: Checking complexity of thought 1_1: The combination of a settlement near ore and a 3:1...\n",
      "[DEBUG] Complexity check result: 1, Reason: The thought presents a multifaceted strategic analysis involving resource positioning, trade dynamics, and competitive advantage, which requires further breakdown to fully explore its implications and interconnections.\n",
      "[DEBUG] Evaluating thought 1_1 directly\n",
      "[DEBUG] Thought 1_1 evaluation result: Your thought accurately captures the strategic adv...\n",
      "\n",
      "[DEBUG] Depth 1: Synthesizing final answer\n",
      "[DEBUG] Final answer: Positioning a settlement near a high-frequency resource like ore, especially adjacent to a 3:1 port,...\n",
      "[DEBUG] Completed recursive processing for thought 1_1, answer: Positioning a settlement near a high-frequency res...\n",
      "\n",
      "[DEBUG] Depth 0: Synthesizing final answer\n",
      "[DEBUG] Final answer: One of the best opening moves in Catan is to place a settlement at the intersection of a wheat, ore,...\n",
      "Final Answer: One of the best opening moves in Catan is to place a settlement at the intersection of a wheat, ore, and brick resource. This combination allows for a strong start, as wheat is essential for building settlements and cities, ore is crucial for upgrading settlements to cities, and brick is necessary for road building. Here are three potential scenarios showcasing the best performance of this opening move:\n",
      "\n",
      "1. **Scenario 1: Early Expansion**  \n",
      "   By placing the initial settlement on a wheat, ore, and brick intersection, a player can quickly build roads to expand towards additional resource tiles. If the player can connect to a wood resource tile, they can then build more settlements, increasing their resource production significantly. This early expansion can lead to a dominant position in the game, allowing the player to control key areas and resources.\n",
      "\n",
      "2. **Scenario 2: City Development**  \n",
      "   With access to wheat and ore, the player can prioritize upgrading their settlements to cities. This move not only increases their resource production but also positions them to gain the Largest Army or Longest Road bonuses. If the player can secure a city on a high-yield resource tile, they can effectively outpace their opponents in resource generation, leading to a quicker path to victory points.\n",
      "\n",
      "3. **Scenario 3: Trade Leverage**  \n",
      "   By starting with a strong resource combination, the player can leverage their wheat and ore to trade with other players who may be lacking these resources. This trade can help the player acquire wood and sheep, allowing them to build more settlements and roads. The ability to trade effectively can create a snowball effect, where the player continues to grow their resource base while limiting the growth of their opponents.\n",
      "\n",
      "In summary, placing a settlement at the intersection of wheat, ore, and brick not only provides a balanced resource foundation but also opens up multiple strategic avenues for expansion, development, and trade, making it one of the best opening moves in Catan.\n",
      "\n",
      "Generated Thoughts:\n",
      "- Thought 0_0 [Layer 0]: One of the best opening moves in Catan is to place... (COMPLEX: One of the best opening moves in Catan is to place...)\n",
      "- Thought 0_1 [Layer 0]: Another strong opening move is to prioritize a set... (COMPLEX: Prioritizing a settlement on high-yield resource t...)\n",
      "- Thought 1_0 [Layer 1]: Placing a settlement at the intersection of a whea... (COMPLEX: Placing a settlement at the intersection of wheat,...)\n",
      "- Thought 1_1 [Layer 1]: Another effective opening move is to position a se... (COMPLEX: Positioning a settlement near a high-frequency res...)\n"
     ]
    }
   ],
   "execution_count": 76
  },
  {
   "metadata": {
    "ExecuteTime": {
     "end_time": "2025-02-28T12:05:57.371999Z",
     "start_time": "2025-02-28T12:05:57.366381Z"
    }
   },
   "cell_type": "code",
   "source": [
    "from IPython.display import display, Markdown\n",
    "\n",
    "display(Markdown(result['answer']))"
   ],
   "id": "7f162f47026c0d18",
   "outputs": [
    {
     "data": {
      "text/plain": [
       "<IPython.core.display.Markdown object>"
      ],
      "text/markdown": "One of the best opening moves in Catan is to place a settlement at the intersection of a wheat, ore, and brick resource. This combination allows for a strong start, as wheat is essential for building settlements and cities, ore is crucial for upgrading settlements to cities, and brick is necessary for road building. Here are three potential scenarios showcasing the best performance of this opening move:\n\n1. **Scenario 1: Early Expansion**  \n   By placing the initial settlement on a wheat, ore, and brick intersection, a player can quickly build roads to expand towards additional resource tiles. If the player can connect to a wood resource tile, they can then build more settlements, increasing their resource production significantly. This early expansion can lead to a dominant position in the game, allowing the player to control key areas and resources.\n\n2. **Scenario 2: City Development**  \n   With access to wheat and ore, the player can prioritize upgrading their settlements to cities. This move not only increases their resource production but also positions them to gain the Largest Army or Longest Road bonuses. If the player can secure a city on a high-yield resource tile, they can effectively outpace their opponents in resource generation, leading to a quicker path to victory points.\n\n3. **Scenario 3: Trade Leverage**  \n   By starting with a strong resource combination, the player can leverage their wheat and ore to trade with other players who may be lacking these resources. This trade can help the player acquire wood and sheep, allowing them to build more settlements and roads. The ability to trade effectively can create a snowball effect, where the player continues to grow their resource base while limiting the growth of their opponents.\n\nIn summary, placing a settlement at the intersection of wheat, ore, and brick not only provides a balanced resource foundation but also opens up multiple strategic avenues for expansion, development, and trade, making it one of the best opening moves in Catan."
     },
     "metadata": {},
     "output_type": "display_data"
    }
   ],
   "execution_count": 77
  },
  {
   "metadata": {
    "ExecuteTime": {
     "end_time": "2025-02-28T12:06:30.162344Z",
     "start_time": "2025-02-28T12:06:30.148972Z"
    }
   },
   "cell_type": "code",
   "source": [
    "agot = AdaptiveGraphOfThoughts(max_depth=2, max_layers=1, max_nodes=1)\n",
    "# Run on a complex query\n",
    "result_roadmap = agot(query=\"What is the best way of building a digital product? Help me finding 5 niches where I could build a small Generative AI product. Describe the actions I must do to build in public and build an audience to test out my hyphothesis.\")\n"
   ],
   "id": "ba3dbc473ec9aedf",
   "outputs": [
    {
     "name": "stdout",
     "output_type": "stream",
     "text": [
      "\n",
      "[DEBUG] Depth 0, Layer 0: Generating initial thoughts for query: What is the best way of building a digital product? Help me finding 5 niches where I could build a small Generative AI product. Describe the actions I must do to build in public and build an audience to test out my hyphothesis.\n",
      "[DEBUG] Generated thoughts: ['One promising niche for a Generative AI product could be personalized content creation for small businesses, such as generating tailored marketing copy or social media posts. To build in public, start by sharing your journey on social media platforms, documenting your process, and inviting feedback. Create a landing page to collect emails from interested users, and offer a free trial or demo of your product to engage early adopters. Regularly update your audience on progress and incorporate their suggestions to refine your product.']\n",
      "[DEBUG] Added thought 0_0: One promising niche for a Generative AI product co...\n",
      "[DEBUG] Depth 0, Layer 0: Checking complexity of thought 0_0: One promising niche for a Generative AI product co...\n",
      "[DEBUG] Complexity check result: 1, Reason: The thought presents multiple interconnected ideas, including identifying a niche for a Generative AI product, strategies for building in public, and methods for engaging early adopters. Each of these components could be further explored and broken down into more detailed steps or considerations, indicating a level of complexity that warrants decomposition.\n",
      "[DEBUG] Thought 0_0 is complex, starting recursive processing\n",
      "\n",
      "[DEBUG] Depth 1, Layer 0: Generating nested initial thoughts for query: One promising niche for a Generative AI product could be personalized content creation for small businesses, such as generating tailored marketing copy or social media posts. To build in public, start by sharing your journey on social media platforms, documenting your process, and inviting feedback. Create a landing page to collect emails from interested users, and offer a free trial or demo of your product to engage early adopters. Regularly update your audience on progress and incorporate their suggestions to refine your product.\n",
      "[DEBUG] Generated nested thoughts: ['One effective thought is to create a structured plan for engaging with potential users through social media. This plan should include regular updates about the product development process, sharing insights and challenges faced, and actively soliciting feedback from the audience. By doing so, the product can evolve in a way that directly addresses the needs and preferences of small businesses, ultimately leading to a more successful launch and adoption.']\n",
      "[DEBUG] Added nested thought 0_0: One effective thought is to create a structured pl...\n",
      "[DEBUG] Depth 1, Layer 0: Checking complexity of thought 0_0: One effective thought is to create a structured pl...\n",
      "[DEBUG] Complexity check result: 1, Reason: The thought involves multiple components such as creating a structured plan, engaging with potential users, regular updates, sharing insights, soliciting feedback, and addressing the needs of small businesses. Each of these elements can be further broken down into specific actions and strategies, indicating a level of complexity that warrants decomposition.\n",
      "[DEBUG] Thought 0_0 is complex, starting recursive processing\n",
      "\n",
      "[DEBUG] Depth 2, Layer 0: Generating nested initial thoughts for query: One effective thought is to create a structured plan for engaging with potential users through social media. This plan should include regular updates about the product development process, sharing insights and challenges faced, and actively soliciting feedback from the audience. By doing so, the product can evolve in a way that directly addresses the needs and preferences of small businesses, ultimately leading to a more successful launch and adoption.\n",
      "[DEBUG] Generated nested thoughts: ['Creating a structured social media engagement plan that includes regular updates on product development, insights into challenges faced, and active solicitation of feedback from potential users can significantly enhance user involvement and satisfaction. This approach allows for real-time adjustments based on user input, ensuring that the final product aligns closely with the needs of small businesses.']\n",
      "[DEBUG] Added nested thought 0_0: Creating a structured social media engagement plan...\n",
      "[DEBUG] Depth 2, Layer 0: Checking complexity of thought 0_0: Creating a structured social media engagement plan...\n",
      "[DEBUG] Complexity check result: 1, Reason: The thought involves multiple components such as creating a social media engagement plan, regular updates on product development, addressing challenges, soliciting feedback, and making real-time adjustments. Each of these elements can be further broken down into specific actions and strategies, indicating a level of complexity that warrants decomposition.\n",
      "[DEBUG] Evaluating thought 0_0 directly\n",
      "[DEBUG] Thought 0_0 evaluation result: Your thought highlights a proactive approach to en...\n",
      "\n",
      "[DEBUG] Depth 2: Synthesizing final answer\n",
      "[DEBUG] Final answer: Creating a structured social media engagement plan is essential for effectively connecting with pote...\n",
      "[DEBUG] Completed recursive processing for thought 0_0, answer: Creating a structured social media engagement plan...\n",
      "\n",
      "[DEBUG] Depth 1: Synthesizing final answer\n",
      "[DEBUG] Final answer: To build a Generative AI product focused on personalized content creation for small businesses, star...\n",
      "[DEBUG] Completed recursive processing for thought 0_0, answer: To build a Generative AI product focused on person...\n",
      "\n",
      "[DEBUG] Depth 0: Synthesizing final answer\n",
      "[DEBUG] Final answer: To build a digital product, particularly a small Generative AI product, consider the following five ...\n"
     ]
    }
   ],
   "execution_count": 78
  },
  {
   "metadata": {
    "ExecuteTime": {
     "end_time": "2025-02-28T12:06:48.878220Z",
     "start_time": "2025-02-28T12:06:48.875336Z"
    }
   },
   "cell_type": "code",
   "source": [
    "markdown_content = result_roadmap['answer']\n",
    "\n",
    "display(Markdown(markdown_content))"
   ],
   "id": "488b184d61e58df",
   "outputs": [
    {
     "data": {
      "text/plain": [
       "<IPython.core.display.Markdown object>"
      ],
      "text/markdown": "To build a digital product, particularly a small Generative AI product, consider the following five niches:\n\n1. **Personalized Content Creation**: Develop a tool that generates personalized blog posts, social media content, or marketing copy based on user inputs. \n   - **Actions**: Start by researching user needs through surveys or social media polls. Share your progress and gather feedback on platforms like Twitter or LinkedIn.\n\n2. **AI-Powered Art Generation**: Create a platform that allows users to generate unique artwork based on their preferences or themes.\n   - **Actions**: Build a prototype and share it on art communities. Engage with artists and gather their insights to refine your product.\n\n3. **Generative Music Composition**: Design an application that composes music based on user-defined parameters or moods.\n   - **Actions**: Collaborate with musicians to test your product. Share snippets of generated music on platforms like SoundCloud and ask for feedback.\n\n4. **Automated Resume and Cover Letter Builder**: Create a tool that helps users generate tailored resumes and cover letters using AI.\n   - **Actions**: Conduct interviews with job seekers to understand their pain points. Share your findings and product iterations on job-related forums.\n\n5. **AI-Based Language Learning Assistant**: Develop a chatbot that helps users practice a new language through conversation and exercises.\n   - **Actions**: Engage with language learners on platforms like Reddit or language exchange apps. Share your development journey and solicit feedback.\n\nTo build in public and test your hypotheses, consistently share your progress on social media, create a blog documenting your journey, and engage with your audience through polls and feedback sessions. This transparency will help you build an audience and refine your product based on real user needs."
     },
     "metadata": {},
     "output_type": "display_data"
    }
   ],
   "execution_count": 79
  },
  {
   "metadata": {
    "ExecuteTime": {
     "end_time": "2025-02-28T12:08:52.673096Z",
     "start_time": "2025-02-28T12:08:14.151198Z"
    }
   },
   "cell_type": "code",
   "source": [
    "agot = AdaptiveGraphOfThoughts(max_depth=3, max_layers=1, max_nodes=1)\n",
    "# Run on a complex query\n",
    "result_roadmap_2 = agot(query=\"I want a recruiting assistant that matches candidates with job offers. What is the best way of building it as a digital product? Help me finding 5 niches where I could build an audience for hte product. Describe the actions I must do to build in public and build an audience to test out my hyphothesis.\")\n"
   ],
   "id": "ffea41080498d87",
   "outputs": [
    {
     "name": "stdout",
     "output_type": "stream",
     "text": [
      "\n",
      "[DEBUG] Depth 0, Layer 0: Generating initial thoughts for query: I want a recruiting assistant that matches candidates with job offers. What is the best way of building it as a digital product? Help me finding 5 niches where I could build an audience for hte product. Describe the actions I must do to build in public and build an audience to test out my hyphothesis.\n",
      "[DEBUG] Generated thoughts: ['One potential niche is the tech industry, where there is a constant demand for skilled developers and engineers. Actions to build in public could include sharing your product development journey on platforms like Twitter or LinkedIn, engaging with tech communities, and conducting surveys to understand the specific needs of tech recruiters and candidates.']\n",
      "[DEBUG] Added thought 0_0: One potential niche is the tech industry, where th...\n",
      "[DEBUG] Depth 0, Layer 0: Checking complexity of thought 0_0: One potential niche is the tech industry, where th...\n",
      "[DEBUG] Complexity check result: 1, Reason: The thought presents multiple interconnected ideas, including identifying a niche in the tech industry, actions for building in public, and engaging with communities. Each of these components could be further explored and broken down into specific strategies or steps, indicating a level of complexity that warrants decomposition.\n",
      "[DEBUG] Thought 0_0 is complex, starting recursive processing\n",
      "\n",
      "[DEBUG] Depth 1, Layer 0: Generating nested initial thoughts for query: One potential niche is the tech industry, where there is a constant demand for skilled developers and engineers. Actions to build in public could include sharing your product development journey on platforms like Twitter or LinkedIn, engaging with tech communities, and conducting surveys to understand the specific needs of tech recruiters and candidates.\n",
      "[DEBUG] Generated nested thoughts: ['One effective way to build in public within the tech industry is to document and share the entire product development process on social media platforms, such as Twitter and LinkedIn. This can include posting regular updates, challenges faced, and solutions found, which can attract attention from both tech recruiters and candidates, ultimately creating a community around the product.']\n",
      "[DEBUG] Added nested thought 0_0: One effective way to build in public within the te...\n",
      "[DEBUG] Depth 1, Layer 0: Checking complexity of thought 0_0: One effective way to build in public within the te...\n",
      "[DEBUG] Complexity check result: 1, Reason: The thought involves multiple components, including documenting the product development process, utilizing social media platforms, engaging with challenges and solutions, and attracting a community. Each of these elements can be further explored and broken down into specific strategies and actions, indicating a level of complexity that warrants decomposition.\n",
      "[DEBUG] Thought 0_0 is complex, starting recursive processing\n",
      "\n",
      "[DEBUG] Depth 2, Layer 0: Generating nested initial thoughts for query: One effective way to build in public within the tech industry is to document and share the entire product development process on social media platforms, such as Twitter and LinkedIn. This can include posting regular updates, challenges faced, and solutions found, which can attract attention from both tech recruiters and candidates, ultimately creating a community around the product.\n",
      "[DEBUG] Generated nested thoughts: ['One effective way to build in public within the tech industry is to create a structured content calendar that outlines what aspects of the product development process to share on social media, ensuring a consistent and engaging narrative that highlights both successes and challenges.']\n",
      "[DEBUG] Added nested thought 0_0: One effective way to build in public within the te...\n",
      "[DEBUG] Depth 2, Layer 0: Checking complexity of thought 0_0: One effective way to build in public within the te...\n",
      "[DEBUG] Complexity check result: 1, Reason: The thought involves multiple components, including the creation of a structured content calendar, the selection of aspects of the product development process to share, and the need for a consistent narrative that balances successes and challenges. This complexity suggests that it would benefit from further decomposition to explore each element in detail.\n",
      "[DEBUG] Thought 0_0 is complex, starting recursive processing\n",
      "\n",
      "[DEBUG] Depth 3, Layer 0: Generating nested initial thoughts for query: One effective way to build in public within the tech industry is to create a structured content calendar that outlines what aspects of the product development process to share on social media, ensuring a consistent and engaging narrative that highlights both successes and challenges.\n",
      "[DEBUG] Generated nested thoughts: ['Creating a structured content calendar for building in public can help maintain a consistent narrative that showcases the journey of product development, including milestones, setbacks, and lessons learned, which can resonate with the audience and encourage interaction.']\n",
      "[DEBUG] Added nested thought 0_0: Creating a structured content calendar for buildin...\n",
      "[DEBUG] Depth 3, Layer 0: Checking complexity of thought 0_0: Creating a structured content calendar for buildin...\n",
      "[DEBUG] Complexity check result: 1, Reason: The thought involves multiple components such as creating a content calendar, maintaining a narrative, showcasing product development, and engaging with the audience. Each of these elements can be further broken down into specific tasks and strategies, indicating a level of complexity that warrants decomposition.\n",
      "[DEBUG] Evaluating thought 0_0 directly\n",
      "[DEBUG] Thought 0_0 evaluation result: Creating a structured content calendar is indeed a...\n",
      "\n",
      "[DEBUG] Depth 3: Synthesizing final answer\n",
      "[DEBUG] Final answer: Creating a structured content calendar is an effective way to build in public within the tech indust...\n",
      "[DEBUG] Completed recursive processing for thought 0_0, answer: Creating a structured content calendar is an effec...\n",
      "\n",
      "[DEBUG] Depth 2: Synthesizing final answer\n",
      "[DEBUG] Final answer: One effective way to build in public within the tech industry is to document and share the entire pr...\n",
      "[DEBUG] Completed recursive processing for thought 0_0, answer: One effective way to build in public within the te...\n",
      "\n",
      "[DEBUG] Depth 1: Synthesizing final answer\n",
      "[DEBUG] Final answer: To build in public within the tech industry, consider sharing your product development journey on pl...\n",
      "[DEBUG] Completed recursive processing for thought 0_0, answer: To build in public within the tech industry, consi...\n",
      "\n",
      "[DEBUG] Depth 0: Synthesizing final answer\n",
      "[DEBUG] Final answer: To build a recruiting assistant that matches candidates with job offers, consider focusing on the fo...\n"
     ]
    }
   ],
   "execution_count": 80
  },
  {
   "metadata": {
    "ExecuteTime": {
     "end_time": "2025-02-28T12:09:47.361919Z",
     "start_time": "2025-02-28T12:09:47.356182Z"
    }
   },
   "cell_type": "code",
   "source": [
    "markdown_content = result_roadmap_2['answer']\n",
    "\n",
    "display(Markdown(markdown_content))"
   ],
   "id": "43365d42c1d31f99",
   "outputs": [
    {
     "data": {
      "text/plain": [
       "<IPython.core.display.Markdown object>"
      ],
      "text/markdown": "To build a recruiting assistant that matches candidates with job offers, consider focusing on the following five niches:\n\n1. **Tech Industry**: Target software developers, data scientists, and IT professionals. Actions to build in public include sharing insights on tech hiring trends, creating content around coding challenges, and engaging with tech communities on platforms like GitHub and LinkedIn.\n\n2. **Healthcare**: Focus on nurses, doctors, and healthcare administrators. Build in public by discussing healthcare staffing challenges, sharing case studies, and collaborating with healthcare professionals on social media.\n\n3. **Remote Work**: Cater to remote job seekers across various industries. Actions include hosting webinars on remote work best practices, sharing success stories of remote placements, and engaging with remote work communities on platforms like Slack and Discord.\n\n4. **Creative Industries**: Target designers, writers, and artists. Build in public by showcasing creative portfolios, discussing industry trends, and collaborating with creative professionals on platforms like Behance and Instagram.\n\n5. **Education**: Focus on teachers, administrators, and educational consultants. Actions include sharing insights on educational hiring practices, creating content around teaching methodologies, and engaging with education-focused communities on platforms like Twitter and LinkedIn.\n\nTo test your hypothesis, consistently share your progress, gather feedback from your audience, and iterate on your product based on their needs and suggestions."
     },
     "metadata": {},
     "output_type": "display_data"
    }
   ],
   "execution_count": 81
  },
  {
   "metadata": {
    "ExecuteTime": {
     "end_time": "2025-02-28T12:13:33.728001Z",
     "start_time": "2025-02-28T12:10:07.423165Z"
    }
   },
   "cell_type": "code",
   "source": [
    "agot = AdaptiveGraphOfThoughts(max_depth=3, max_layers=2, max_nodes=1)\n",
    "# Run on a complex query\n",
    "result_roadmap_3 = agot(query=\"I want a recruiting assistant that matches candidates with job offers. What is the best way of building it as a digital product? Help me finding 5 niches where I could build an audience for hte product. Describe the actions I must do to build in public and build an audience to test out my hypothesis.\")\n"
   ],
   "id": "3edc56b629f50c06",
   "outputs": [
    {
     "name": "stdout",
     "output_type": "stream",
     "text": [
      "\n",
      "[DEBUG] Depth 0, Layer 0: Generating initial thoughts for query: I want a recruiting assistant that matches candidates with job offers. What is the best way of building it as a digital product? Help me finding 5 niches where I could build an audience for hte product. Describe the actions I must do to build in public and build an audience to test out my hypothesis.\n",
      "[DEBUG] Generated thoughts: ['One potential niche is the tech industry, where there is a constant demand for skilled developers and engineers. You could create a platform that not only matches candidates with job offers but also provides resources for skill development and networking opportunities. To build in public, share your progress on social media, engage with tech communities, and gather feedback on your product features and user experience.']\n",
      "[DEBUG] Added thought 0_0: One potential niche is the tech industry, where th...\n",
      "[DEBUG] Depth 0, Layer 0: Checking complexity of thought 0_0: One potential niche is the tech industry, where th...\n",
      "[DEBUG] Complexity check result: 1, Reason: The thought presents multiple interconnected ideas, including identifying a niche in the tech industry, creating a platform for job matching, providing resources for skill development, and engaging with communities for feedback. Each of these components could be further explored and developed, indicating a level of complexity that warrants decomposition.\n",
      "[DEBUG] Thought 0_0 is complex, starting recursive processing\n",
      "\n",
      "[DEBUG] Depth 1, Layer 0: Generating nested initial thoughts for query: One potential niche is the tech industry, where there is a constant demand for skilled developers and engineers. You could create a platform that not only matches candidates with job offers but also provides resources for skill development and networking opportunities. To build in public, share your progress on social media, engage with tech communities, and gather feedback on your product features and user experience.\n",
      "[DEBUG] Generated nested thoughts: ['Creating a platform that matches tech candidates with job offers while offering resources for skill development and networking can significantly enhance the job search experience. By integrating features such as online courses, mentorship programs, and community forums, the platform can become a comprehensive resource for tech professionals. Additionally, building in public by sharing progress on social media and engaging with tech communities can help gather valuable feedback and create a loyal user base.']\n",
      "[DEBUG] Added nested thought 0_0: Creating a platform that matches tech candidates w...\n",
      "[DEBUG] Depth 1, Layer 0: Checking complexity of thought 0_0: Creating a platform that matches tech candidates w...\n",
      "[DEBUG] Complexity check result: 1, Reason: The thought is complex because it encompasses multiple components: creating a matching platform, integrating skill development resources, building community engagement, and utilizing social media for feedback. Each of these elements involves distinct challenges and considerations that warrant further decomposition to fully explore and address.\n",
      "[DEBUG] Thought 0_0 is complex, starting recursive processing\n",
      "\n",
      "[DEBUG] Depth 2, Layer 0: Generating nested initial thoughts for query: Creating a platform that matches tech candidates with job offers while offering resources for skill development and networking can significantly enhance the job search experience. By integrating features such as online courses, mentorship programs, and community forums, the platform can become a comprehensive resource for tech professionals. Additionally, building in public by sharing progress on social media and engaging with tech communities can help gather valuable feedback and create a loyal user base.\n",
      "[DEBUG] Generated nested thoughts: ['The platform should prioritize user experience by offering a seamless interface that allows candidates to easily navigate job listings, access skill development resources, and participate in networking opportunities, ensuring that all features are interconnected and user-friendly.']\n",
      "[DEBUG] Added nested thought 0_0: The platform should prioritize user experience by ...\n",
      "[DEBUG] Depth 2, Layer 0: Checking complexity of thought 0_0: The platform should prioritize user experience by ...\n",
      "[DEBUG] Complexity check result: 1, Reason: The thought is complex because it encompasses multiple interconnected components: user experience, seamless interface, job listings, skill development resources, and networking opportunities. Each of these elements could be further broken down into specific features and requirements, indicating a need for decomposition to fully address the various aspects involved.\n",
      "[DEBUG] Thought 0_0 is complex, starting recursive processing\n",
      "\n",
      "[DEBUG] Depth 3, Layer 0: Generating nested initial thoughts for query: The platform should prioritize user experience by offering a seamless interface that allows candidates to easily navigate job listings, access skill development resources, and participate in networking opportunities, ensuring that all features are interconnected and user-friendly.\n",
      "[DEBUG] Generated nested thoughts: ['To enhance user experience, the platform should implement a clean and intuitive design that minimizes clutter, allowing candidates to focus on job listings while providing easy access to skill development resources and networking features through a well-organized menu or dashboard.']\n",
      "[DEBUG] Added nested thought 0_0: To enhance user experience, the platform should im...\n",
      "[DEBUG] Depth 3, Layer 0: Checking complexity of thought 0_0: To enhance user experience, the platform should im...\n",
      "[DEBUG] Complexity check result: 1, Reason: The thought is complex because it encompasses multiple components: enhancing user experience, implementing a clean design, minimizing clutter, focusing on job listings, and providing access to skill development and networking features. Each of these elements could be further broken down into specific tasks or considerations, indicating a need for decomposition.\n",
      "[DEBUG] Evaluating thought 0_0 directly\n",
      "[DEBUG] Thought 0_0 evaluation result: The thought emphasizes the importance of a user-fr...\n",
      "\n",
      "[DEBUG] Depth 3, Layer 1: Generating subsequent thoughts\n",
      "[DEBUG] Generated subsequent thoughts: ['[\"The platform should implement personalized job recommendations that adapt to user profiles and preferences, enhancing the navigation experience and making it easier for candidates to find relevant opportunities.\"]']\n",
      "[DEBUG] New edges: [(\"0_0\", \"1_0\")]\n",
      "[DEBUG] Added subsequent thought 1_0: [\"The platform should implement personalized job r...\n",
      "[DEBUG] Adding edges: [('0_0', '1_0')]\n",
      "[DEBUG] Adding edge... 0_0 → 1_0\n",
      "[DEBUG] Added edge: 0_0 → 1_0\n",
      "[DEBUG] Depth 3, Layer 1: Checking complexity of thought 1_0: [\"The platform should implement personalized job r...\n",
      "[DEBUG] Complexity check result: 1, Reason: The thought is complex because it involves multiple components: implementing personalized job recommendations, adapting to user profiles and preferences, enhancing navigation experience, and facilitating the discovery of relevant opportunities. Each of these components can be further broken down into specific tasks and considerations, indicating a need for decomposition.\n",
      "[DEBUG] Evaluating thought 1_0 directly\n",
      "[DEBUG] Thought 1_0 evaluation result: The thought highlights a crucial aspect of user ex...\n",
      "\n",
      "[DEBUG] Depth 3: Synthesizing final answer\n",
      "[DEBUG] Final answer: The platform should prioritize user experience by implementing a seamless interface that allows cand...\n",
      "[DEBUG] Completed recursive processing for thought 0_0, answer: The platform should prioritize user experience by ...\n",
      "\n",
      "[DEBUG] Depth 2, Layer 1: Generating subsequent thoughts\n",
      "[DEBUG] Generated subsequent thoughts: ['Incorporating a user feedback mechanism that allows candidates to rate their experiences with job matches and resources can help the platform continuously improve its offerings and better serve the tech community.']\n",
      "[DEBUG] New edges: [(\"0_0\", \"1_0\")]\n",
      "[DEBUG] Added subsequent thought 1_0: Incorporating a user feedback mechanism that allow...\n",
      "[DEBUG] Adding edges: [('0_0', '1_0')]\n",
      "[DEBUG] Adding edge... 0_0 → 1_0\n",
      "[DEBUG] Added edge: 0_0 → 1_0\n",
      "[DEBUG] Depth 2, Layer 1: Checking complexity of thought 1_0: Incorporating a user feedback mechanism that allow...\n",
      "[DEBUG] Complexity check result: 1, Reason: The thought involves multiple components, such as the implementation of a user feedback mechanism, the process of rating experiences, and the implications for continuous improvement of the platform. This complexity suggests that it should be decomposed into more manageable parts for better clarity and execution.\n",
      "[DEBUG] Thought 1_0 is complex, starting recursive processing\n",
      "\n",
      "[DEBUG] Depth 3, Layer 0: Generating nested initial thoughts for query: Incorporating a user feedback mechanism that allows candidates to rate their experiences with job matches and resources can help the platform continuously improve its offerings and better serve the tech community.\n",
      "[DEBUG] Generated nested thoughts: [\"Implementing a user feedback mechanism can lead to actionable insights that inform the platform's development, ensuring that it evolves in line with user needs and preferences.\"]\n",
      "[DEBUG] Added nested thought 0_0: Implementing a user feedback mechanism can lead to...\n",
      "[DEBUG] Depth 3, Layer 0: Checking complexity of thought 0_0: Implementing a user feedback mechanism can lead to...\n",
      "[DEBUG] Complexity check result: 1, Reason: The thought involves multiple components: the implementation of a feedback mechanism, the generation of actionable insights, and the impact on platform development in relation to user needs and preferences. Each of these components can be further explored and broken down into specific tasks or considerations, indicating complexity.\n",
      "[DEBUG] Evaluating thought 0_0 directly\n",
      "[DEBUG] Thought 0_0 evaluation result: Implementing a user feedback mechanism is indeed a...\n",
      "\n",
      "[DEBUG] Depth 3, Layer 1: Generating subsequent thoughts\n",
      "[DEBUG] Generated subsequent thoughts: ['[\"Establishing a systematic approach to analyze user feedback can help identify trends and areas for improvement, ensuring that the platform evolves in alignment with user expectations.\"]']\n",
      "[DEBUG] New edges: [(\"0_0\", \"1_0\")]\n",
      "[DEBUG] Added subsequent thought 1_0: [\"Establishing a systematic approach to analyze us...\n",
      "[DEBUG] Adding edges: [('0_0', '1_0')]\n",
      "[DEBUG] Adding edge... 0_0 → 1_0\n",
      "[DEBUG] Added edge: 0_0 → 1_0\n",
      "[DEBUG] Depth 3, Layer 1: Checking complexity of thought 1_0: [\"Establishing a systematic approach to analyze us...\n",
      "[DEBUG] Complexity check result: 1, Reason: The thought presents multiple components: establishing a systematic approach, analyzing user feedback, identifying trends, and ensuring platform evolution. Each of these elements can be further explored and broken down into more detailed actions or considerations, indicating complexity.\n",
      "[DEBUG] Evaluating thought 1_0 directly\n",
      "[DEBUG] Thought 1_0 evaluation result: Your thought highlights the importance of a struct...\n",
      "\n",
      "[DEBUG] Depth 3: Synthesizing final answer\n",
      "[DEBUG] Final answer: Incorporating a user feedback mechanism that allows candidates to rate their experiences with job ma...\n",
      "[DEBUG] Completed recursive processing for thought 1_0, answer: Incorporating a user feedback mechanism that allow...\n",
      "\n",
      "[DEBUG] Depth 2: Synthesizing final answer\n",
      "[DEBUG] Final answer: To create a successful platform that matches tech candidates with job offers while providing resourc...\n",
      "[DEBUG] Completed recursive processing for thought 0_0, answer: To create a successful platform that matches tech ...\n",
      "\n",
      "[DEBUG] Depth 1, Layer 1: Generating subsequent thoughts\n",
      "[DEBUG] Generated subsequent thoughts: ['Incorporating a mentorship program that connects experienced tech professionals with newcomers, facilitating skill development and community building.']\n",
      "[DEBUG] New edges: [(\"0_0\", \"1_0\")]\n",
      "[DEBUG] Added subsequent thought 1_0: Incorporating a mentorship program that connects e...\n",
      "[DEBUG] Adding edges: [('0_0', '1_0')]\n",
      "[DEBUG] Adding edge... 0_0 → 1_0\n",
      "[DEBUG] Added edge: 0_0 → 1_0\n",
      "[DEBUG] Depth 1, Layer 1: Checking complexity of thought 1_0: Incorporating a mentorship program that connects e...\n",
      "[DEBUG] Complexity check result: 1, Reason: The thought involves multiple components such as establishing a mentorship program, connecting experienced professionals with newcomers, and facilitating both skill development and community building. Each of these elements can be further broken down into specific actions and considerations, indicating a level of complexity that warrants decomposition.\n",
      "[DEBUG] Thought 1_0 is complex, starting recursive processing\n",
      "\n",
      "[DEBUG] Depth 2, Layer 0: Generating nested initial thoughts for query: Incorporating a mentorship program that connects experienced tech professionals with newcomers, facilitating skill development and community building.\n",
      "[DEBUG] Generated nested thoughts: ['A mentorship program should include structured pairing of mentors and mentees based on their skills, interests, and career goals, ensuring that the relationship is beneficial for both parties and promotes effective knowledge transfer.']\n",
      "[DEBUG] Added nested thought 0_0: A mentorship program should include structured pai...\n",
      "[DEBUG] Depth 2, Layer 0: Checking complexity of thought 0_0: A mentorship program should include structured pai...\n",
      "[DEBUG] Complexity check result: 1, Reason: The thought is complex because it involves multiple components: structured pairing, consideration of skills, interests, and career goals, and the need for mutual benefit and effective knowledge transfer. Each of these elements can be further explored and broken down into specific strategies or criteria for implementation.\n",
      "[DEBUG] Thought 0_0 is complex, starting recursive processing\n",
      "\n",
      "[DEBUG] Depth 3, Layer 0: Generating nested initial thoughts for query: A mentorship program should include structured pairing of mentors and mentees based on their skills, interests, and career goals, ensuring that the relationship is beneficial for both parties and promotes effective knowledge transfer.\n",
      "[DEBUG] Generated nested thoughts: ['A successful mentorship program should implement a comprehensive assessment tool to evaluate the skills, interests, and career aspirations of both mentors and mentees. This tool can help in creating tailored pairings that enhance the learning experience and ensure that both parties gain valuable insights and support from the relationship.']\n",
      "[DEBUG] Added nested thought 0_0: A successful mentorship program should implement a...\n",
      "[DEBUG] Depth 3, Layer 0: Checking complexity of thought 0_0: A successful mentorship program should implement a...\n",
      "[DEBUG] Complexity check result: 1, Reason: The thought is complex because it involves multiple components: the implementation of a comprehensive assessment tool, the evaluation of skills, interests, and career aspirations, and the creation of tailored pairings. Each of these elements can be broken down further into specific actions and considerations, indicating a need for decomposition.\n",
      "[DEBUG] Evaluating thought 0_0 directly\n",
      "[DEBUG] Thought 0_0 evaluation result: Implementing a comprehensive assessment tool is in...\n",
      "\n",
      "[DEBUG] Depth 3, Layer 1: Generating subsequent thoughts\n",
      "[DEBUG] Generated subsequent thoughts: ['A structured framework for pairing mentors and mentees should include a detailed assessment of their skills, interests, and career aspirations to ensure compatibility and maximize the benefits of the mentorship relationship.']\n",
      "[DEBUG] New edges: [(\"0_0\", \"1_0\")]\n",
      "[DEBUG] Added subsequent thought 1_0: A structured framework for pairing mentors and men...\n",
      "[DEBUG] Adding edges: [('0_0', '1_0')]\n",
      "[DEBUG] Adding edge... 0_0 → 1_0\n",
      "[DEBUG] Added edge: 0_0 → 1_0\n",
      "[DEBUG] Depth 3, Layer 1: Checking complexity of thought 1_0: A structured framework for pairing mentors and men...\n",
      "[DEBUG] Complexity check result: 1, Reason: The thought is complex because it involves multiple components: the need for a structured framework, the detailed assessment of skills, interests, and career aspirations, and the goal of ensuring compatibility and maximizing benefits. Each of these components can be further explored and broken down into specific actions or criteria, indicating that the thought requires decomposition for clarity and thoroughness.\n",
      "[DEBUG] Evaluating thought 1_0 directly\n",
      "[DEBUG] Thought 1_0 evaluation result: Your thought is well-founded. A structured framewo...\n",
      "\n",
      "[DEBUG] Depth 3: Synthesizing final answer\n",
      "[DEBUG] Final answer: A successful mentorship program should include a structured framework for pairing mentors and mentee...\n",
      "[DEBUG] Completed recursive processing for thought 0_0, answer: A successful mentorship program should include a s...\n",
      "\n",
      "[DEBUG] Depth 2, Layer 1: Generating subsequent thoughts\n",
      "[DEBUG] Generated subsequent thoughts: ['A mentorship program should incorporate regular feedback sessions between mentors and mentees to evaluate progress and adapt learning goals, enhancing the overall effectiveness of skill development and community building.']\n",
      "[DEBUG] New edges: [(\"0_0\", \"1_0\")]\n",
      "[DEBUG] Added subsequent thought 1_0: A mentorship program should incorporate regular fe...\n",
      "[DEBUG] Adding edges: [('0_0', '1_0')]\n",
      "[DEBUG] Adding edge... 0_0 → 1_0\n",
      "[DEBUG] Added edge: 0_0 → 1_0\n",
      "[DEBUG] Depth 2, Layer 1: Checking complexity of thought 1_0: A mentorship program should incorporate regular fe...\n",
      "[DEBUG] Complexity check result: 1, Reason: The thought involves multiple components: the need for regular feedback sessions, the evaluation of progress, the adaptation of learning goals, and the overall effectiveness of skill development and community building. Each of these elements can be further explored and broken down into more specific actions or considerations, indicating its complexity.\n",
      "[DEBUG] Thought 1_0 is complex, starting recursive processing\n",
      "\n",
      "[DEBUG] Depth 3, Layer 0: Generating nested initial thoughts for query: A mentorship program should incorporate regular feedback sessions between mentors and mentees to evaluate progress and adapt learning goals, enhancing the overall effectiveness of skill development and community building.\n",
      "[DEBUG] Generated nested thoughts: ['Establishing a framework for regular feedback sessions can help mentors and mentees set clear expectations and goals, leading to more effective skill development and a stronger sense of community.']\n",
      "[DEBUG] Added nested thought 0_0: Establishing a framework for regular feedback sess...\n",
      "[DEBUG] Depth 3, Layer 0: Checking complexity of thought 0_0: Establishing a framework for regular feedback sess...\n",
      "[DEBUG] Complexity check result: 1, Reason: The thought involves multiple components, including establishing a framework, conducting regular feedback sessions, setting clear expectations and goals, and the implications for skill development and community building. Each of these elements can be further explored and broken down into more specific actions or considerations, indicating a level of complexity that warrants decomposition.\n",
      "[DEBUG] Evaluating thought 0_0 directly\n",
      "[DEBUG] Thought 0_0 evaluation result: Establishing a framework for regular feedback sess...\n",
      "\n",
      "[DEBUG] Depth 3, Layer 1: Generating subsequent thoughts\n",
      "[DEBUG] Generated subsequent thoughts: ['Implementing structured feedback tools, such as surveys or one-on-one reflection sessions, can enhance the quality of feedback exchanged during mentorship meetings, ensuring that both mentors and mentees can track progress and adjust their learning objectives effectively.']\n",
      "[DEBUG] New edges: [(\"0_0\", \"1_0\")]\n",
      "[DEBUG] Added subsequent thought 1_0: Implementing structured feedback tools, such as su...\n",
      "[DEBUG] Adding edges: [('0_0', '1_0')]\n",
      "[DEBUG] Adding edge... 0_0 → 1_0\n",
      "[DEBUG] Added edge: 0_0 → 1_0\n",
      "[DEBUG] Depth 3, Layer 1: Checking complexity of thought 1_0: Implementing structured feedback tools, such as su...\n",
      "[DEBUG] Complexity check result: 1, Reason: The thought involves multiple components, including the implementation of structured feedback tools, the types of tools (surveys and one-on-one sessions), and the outcomes related to mentorship meetings. Each of these components can be further explored and broken down into more detailed sub-thoughts, indicating its complexity.\n",
      "[DEBUG] Evaluating thought 1_0 directly\n",
      "[DEBUG] Thought 1_0 evaluation result: Implementing structured feedback tools is indeed a...\n",
      "\n",
      "[DEBUG] Depth 3: Synthesizing final answer\n",
      "[DEBUG] Final answer: Incorporating regular feedback sessions between mentors and mentees is essential for evaluating prog...\n",
      "[DEBUG] Completed recursive processing for thought 1_0, answer: Incorporating regular feedback sessions between me...\n",
      "\n",
      "[DEBUG] Depth 2: Synthesizing final answer\n",
      "[DEBUG] Final answer: A successful mentorship program that connects experienced tech professionals with newcomers should i...\n",
      "[DEBUG] Completed recursive processing for thought 1_0, answer: A successful mentorship program that connects expe...\n",
      "\n",
      "[DEBUG] Depth 1: Synthesizing final answer\n",
      "[DEBUG] Final answer: To create a successful platform in the tech industry that matches candidates with job offers, consid...\n",
      "[DEBUG] Completed recursive processing for thought 0_0, answer: To create a successful platform in the tech indust...\n",
      "\n",
      "[DEBUG] Depth 0, Layer 1: Generating subsequent thoughts\n",
      "[DEBUG] Generated subsequent thoughts: ['Thought 1_0 [Layer 1]: The healthcare sector is a promising niche for a recruiting assistant, as it faces unique hiring challenges such as regulatory compliance and the need for specialized skills. Building a platform that caters specifically to healthcare professionals can help streamline the recruitment process for hospitals and clinics.']\n",
      "[DEBUG] New edges: [(\"0_0\", \"1_0\")]\n",
      "[DEBUG] Added subsequent thought 1_0: Thought 1_0 [Layer 1]: The healthcare sector is a ...\n",
      "[DEBUG] Adding edges: [('0_0', '1_0')]\n",
      "[DEBUG] Adding edge... 0_0 → 1_0\n",
      "[DEBUG] Added edge: 0_0 → 1_0\n",
      "[DEBUG] Depth 0, Layer 1: Checking complexity of thought 1_0: Thought 1_0 [Layer 1]: The healthcare sector is a ...\n",
      "[DEBUG] Complexity check result: 1, Reason: The thought discusses multiple aspects of the healthcare sector's recruitment challenges, including regulatory compliance and the need for specialized skills. It also suggests building a platform tailored to these needs, indicating a multi-faceted approach that requires further breakdown to fully explore the implications and strategies involved.\n",
      "[DEBUG] Thought 1_0 is complex, starting recursive processing\n",
      "\n",
      "[DEBUG] Depth 1, Layer 0: Generating nested initial thoughts for query: Thought 1_0 [Layer 1]: The healthcare sector is a promising niche for a recruiting assistant, as it faces unique hiring challenges such as regulatory compliance and the need for specialized skills. Building a platform that caters specifically to healthcare professionals can help streamline the recruitment process for hospitals and clinics.\n",
      "[DEBUG] Generated nested thoughts: ['Developing a recruiting platform specifically for the healthcare sector can address the unique hiring challenges faced by hospitals and clinics, such as ensuring regulatory compliance and sourcing candidates with specialized skills.']\n",
      "[DEBUG] Added nested thought 0_0: Developing a recruiting platform specifically for ...\n",
      "[DEBUG] Depth 1, Layer 0: Checking complexity of thought 0_0: Developing a recruiting platform specifically for ...\n",
      "[DEBUG] Complexity check result: 1, Reason: The thought involves multiple components, including the development of a recruiting platform, addressing unique hiring challenges, ensuring regulatory compliance, and sourcing specialized candidates. Each of these aspects can be further broken down into specific tasks and considerations, indicating a level of complexity that warrants decomposition.\n",
      "[DEBUG] Thought 0_0 is complex, starting recursive processing\n",
      "\n",
      "[DEBUG] Depth 2, Layer 0: Generating nested initial thoughts for query: Developing a recruiting platform specifically for the healthcare sector can address the unique hiring challenges faced by hospitals and clinics, such as ensuring regulatory compliance and sourcing candidates with specialized skills.\n",
      "[DEBUG] Generated nested thoughts: ['Creating a recruiting platform for the healthcare sector should incorporate features that streamline the hiring process while ensuring compliance with healthcare regulations, such as background checks and credential verification, and also include tools for assessing specialized skills relevant to various medical roles.']\n",
      "[DEBUG] Added nested thought 0_0: Creating a recruiting platform for the healthcare ...\n",
      "[DEBUG] Depth 2, Layer 0: Checking complexity of thought 0_0: Creating a recruiting platform for the healthcare ...\n",
      "[DEBUG] Complexity check result: 1, Reason: The thought is complex because it involves multiple components: the creation of a recruiting platform, the integration of features for streamlining the hiring process, ensuring compliance with healthcare regulations, and the inclusion of tools for assessing specialized skills. Each of these components can be further broken down into specific tasks and considerations, indicating a need for decomposition.\n",
      "[DEBUG] Thought 0_0 is complex, starting recursive processing\n",
      "\n",
      "[DEBUG] Depth 3, Layer 0: Generating nested initial thoughts for query: Creating a recruiting platform for the healthcare sector should incorporate features that streamline the hiring process while ensuring compliance with healthcare regulations, such as background checks and credential verification, and also include tools for assessing specialized skills relevant to various medical roles.\n",
      "[DEBUG] Generated nested thoughts: ['One important thought is to develop a comprehensive onboarding process that includes automated background checks and credential verification integrated into the platform. This feature would streamline the hiring process by ensuring that all candidates meet the necessary legal and professional requirements before they are considered for employment, thus reducing the administrative burden on healthcare organizations.']\n",
      "[DEBUG] Added nested thought 0_0: One important thought is to develop a comprehensiv...\n",
      "[DEBUG] Depth 3, Layer 0: Checking complexity of thought 0_0: One important thought is to develop a comprehensiv...\n",
      "[DEBUG] Complexity check result: 1, Reason: The thought is complex because it involves multiple components: developing a comprehensive onboarding process, integrating automated background checks, and credential verification. Each of these components requires detailed planning and execution, which can be broken down into further tasks and considerations.\n",
      "[DEBUG] Evaluating thought 0_0 directly\n",
      "[DEBUG] Thought 0_0 evaluation result: This thought highlights a crucial aspect of improv...\n",
      "\n",
      "[DEBUG] Depth 3, Layer 1: Generating subsequent thoughts\n",
      "[DEBUG] Generated subsequent thoughts: ['Integrating a user-friendly interface that allows recruiters and candidates to easily navigate the hiring process, with real-time updates on application statuses to enhance communication and efficiency.']\n",
      "[DEBUG] New edges: [(\"0_0\", \"1_0\")]\n",
      "[DEBUG] Added subsequent thought 1_0: Integrating a user-friendly interface that allows ...\n",
      "[DEBUG] Adding edges: [('0_0', '1_0')]\n",
      "[DEBUG] Adding edge... 0_0 → 1_0\n",
      "[DEBUG] Added edge: 0_0 → 1_0\n",
      "[DEBUG] Depth 3, Layer 1: Checking complexity of thought 1_0: Integrating a user-friendly interface that allows ...\n",
      "[DEBUG] Complexity check result: 1, Reason: The thought involves multiple components: creating a user-friendly interface, facilitating navigation for both recruiters and candidates, and implementing real-time updates on application statuses. Each of these elements can be further broken down into specific tasks and considerations, indicating a level of complexity that warrants decomposition.\n",
      "[DEBUG] Evaluating thought 1_0 directly\n",
      "[DEBUG] Thought 1_0 evaluation result: This thought emphasizes the importance of user exp...\n",
      "\n",
      "[DEBUG] Depth 3: Synthesizing final answer\n",
      "[DEBUG] Final answer: To create an effective recruiting platform for the healthcare sector, it is essential to incorporate...\n",
      "[DEBUG] Completed recursive processing for thought 0_0, answer: To create an effective recruiting platform for the...\n",
      "\n",
      "[DEBUG] Depth 2, Layer 1: Generating subsequent thoughts\n",
      "[DEBUG] Generated subsequent thoughts: ['Integrating AI-driven candidate matching and compliance tracking into the recruiting platform can significantly improve the hiring process for healthcare organizations by ensuring that candidates not only meet the necessary qualifications but also adhere to regulatory standards.']\n",
      "[DEBUG] New edges: [(\"0_0\", \"1_0\")]\n",
      "[DEBUG] Added subsequent thought 1_0: Integrating AI-driven candidate matching and compl...\n",
      "[DEBUG] Adding edges: [('0_0', '1_0')]\n",
      "[DEBUG] Adding edge... 0_0 → 1_0\n",
      "[DEBUG] Added edge: 0_0 → 1_0\n",
      "[DEBUG] Depth 2, Layer 1: Checking complexity of thought 1_0: Integrating AI-driven candidate matching and compl...\n",
      "[DEBUG] Complexity check result: 1, Reason: The thought involves multiple components, including AI-driven candidate matching, compliance tracking, and the implications for the hiring process in healthcare organizations. Each of these elements can be further explored and broken down into sub-tasks or considerations, indicating a level of complexity that warrants decomposition.\n",
      "[DEBUG] Thought 1_0 is complex, starting recursive processing\n",
      "\n",
      "[DEBUG] Depth 3, Layer 0: Generating nested initial thoughts for query: Integrating AI-driven candidate matching and compliance tracking into the recruiting platform can significantly improve the hiring process for healthcare organizations by ensuring that candidates not only meet the necessary qualifications but also adhere to regulatory standards.\n",
      "[DEBUG] Generated nested thoughts: ['Implementing AI algorithms that analyze candidate qualifications and match them with job requirements can lead to a more efficient recruitment process, reducing the time spent on manual screening.']\n",
      "[DEBUG] Added nested thought 0_0: Implementing AI algorithms that analyze candidate ...\n",
      "[DEBUG] Depth 3, Layer 0: Checking complexity of thought 0_0: Implementing AI algorithms that analyze candidate ...\n",
      "[DEBUG] Complexity check result: 1, Reason: The thought involves multiple components: implementing AI algorithms, analyzing candidate qualifications, matching with job requirements, and improving the recruitment process. Each of these components can be further broken down into sub-tasks and considerations, indicating a level of complexity that warrants decomposition.\n",
      "[DEBUG] Evaluating thought 0_0 directly\n",
      "[DEBUG] Thought 0_0 evaluation result: Your thought highlights a significant advantage of...\n",
      "\n",
      "[DEBUG] Depth 3, Layer 1: Generating subsequent thoughts\n",
      "[DEBUG] Generated subsequent thoughts: ['AI-driven candidate matching can be enhanced by incorporating real-time compliance tracking, ensuring that candidates not only possess the required skills but also meet ongoing regulatory requirements throughout the hiring process.']\n",
      "[DEBUG] New edges: [(\"0_0\", \"1_0\")]\n",
      "[DEBUG] Added subsequent thought 1_0: AI-driven candidate matching can be enhanced by in...\n",
      "[DEBUG] Adding edges: [('0_0', '1_0')]\n",
      "[DEBUG] Adding edge... 0_0 → 1_0\n",
      "[DEBUG] Added edge: 0_0 → 1_0\n",
      "[DEBUG] Depth 3, Layer 1: Checking complexity of thought 1_0: AI-driven candidate matching can be enhanced by in...\n",
      "[DEBUG] Complexity check result: 1, Reason: The thought introduces multiple components: AI-driven candidate matching, real-time compliance tracking, and the need for ongoing regulatory requirements. Each of these elements can be further explored and broken down into sub-thoughts, making the overall concept complex.\n",
      "[DEBUG] Evaluating thought 1_0 directly\n",
      "[DEBUG] Thought 1_0 evaluation result: Your thought presents a valuable perspective on th...\n",
      "\n",
      "[DEBUG] Depth 3: Synthesizing final answer\n",
      "[DEBUG] Final answer: Integrating AI-driven candidate matching and compliance tracking into recruiting platforms for healt...\n",
      "[DEBUG] Completed recursive processing for thought 1_0, answer: Integrating AI-driven candidate matching and compl...\n",
      "\n",
      "[DEBUG] Depth 2: Synthesizing final answer\n",
      "[DEBUG] Final answer: Developing a recruiting platform tailored for the healthcare sector can effectively tackle the uniqu...\n",
      "[DEBUG] Completed recursive processing for thought 0_0, answer: Developing a recruiting platform tailored for the ...\n",
      "\n",
      "[DEBUG] Depth 1, Layer 1: Generating subsequent thoughts\n",
      "[DEBUG] Generated subsequent thoughts: ['Integrating AI-driven candidate matching algorithms into the recruiting platform can significantly improve the efficiency of the hiring process in the healthcare sector, ensuring that hospitals and clinics find the right professionals with the necessary skills and compliance knowledge.']\n",
      "[DEBUG] New edges: [(\"0_0\", \"1_0\")]\n",
      "[DEBUG] Added subsequent thought 1_0: Integrating AI-driven candidate matching algorithm...\n",
      "[DEBUG] Adding edges: [('0_0', '1_0')]\n",
      "[DEBUG] Adding edge... 0_0 → 1_0\n",
      "[DEBUG] Added edge: 0_0 → 1_0\n",
      "[DEBUG] Depth 1, Layer 1: Checking complexity of thought 1_0: Integrating AI-driven candidate matching algorithm...\n",
      "[DEBUG] Complexity check result: 1, Reason: The thought involves multiple components, including the integration of AI-driven algorithms, the specific context of the healthcare sector, and the implications for the hiring process. This complexity suggests that it should be decomposed into more manageable parts for better understanding and implementation.\n",
      "[DEBUG] Thought 1_0 is complex, starting recursive processing\n",
      "\n",
      "[DEBUG] Depth 2, Layer 0: Generating nested initial thoughts for query: Integrating AI-driven candidate matching algorithms into the recruiting platform can significantly improve the efficiency of the hiring process in the healthcare sector, ensuring that hospitals and clinics find the right professionals with the necessary skills and compliance knowledge.\n",
      "[DEBUG] Generated nested thoughts: ['Implementing AI-driven candidate matching algorithms can enhance the recruitment process by quickly filtering candidates based on specific healthcare qualifications and compliance requirements, thus reducing the time spent on manual screening.']\n",
      "[DEBUG] Added nested thought 0_0: Implementing AI-driven candidate matching algorith...\n",
      "[DEBUG] Depth 2, Layer 0: Checking complexity of thought 0_0: Implementing AI-driven candidate matching algorith...\n",
      "[DEBUG] Complexity check result: 1, Reason: The thought involves multiple components, including the implementation of AI algorithms, the specifics of candidate matching, and the implications for the recruitment process in healthcare. Each of these elements can be further broken down into sub-tasks and considerations, indicating a level of complexity that warrants decomposition.\n",
      "[DEBUG] Thought 0_0 is complex, starting recursive processing\n",
      "\n",
      "[DEBUG] Depth 3, Layer 0: Generating nested initial thoughts for query: Implementing AI-driven candidate matching algorithms can enhance the recruitment process by quickly filtering candidates based on specific healthcare qualifications and compliance requirements, thus reducing the time spent on manual screening.\n",
      "[DEBUG] Generated nested thoughts: ['To successfully implement AI-driven candidate matching algorithms in healthcare recruitment, it is essential to identify the key qualifications and compliance requirements that are critical for various roles, ensuring that the algorithms are tailored to meet the specific needs of the healthcare industry.']\n",
      "[DEBUG] Added nested thought 0_0: To successfully implement AI-driven candidate matc...\n",
      "[DEBUG] Depth 3, Layer 0: Checking complexity of thought 0_0: To successfully implement AI-driven candidate matc...\n",
      "[DEBUG] Complexity check result: 1, Reason: The thought involves multiple components, including the implementation of AI algorithms, identification of key qualifications, compliance requirements, and tailoring to specific industry needs. Each of these components can be further broken down into sub-tasks, indicating a level of complexity that warrants decomposition.\n",
      "[DEBUG] Evaluating thought 0_0 directly\n",
      "[DEBUG] Thought 0_0 evaluation result: To effectively implement AI-driven candidate match...\n",
      "\n",
      "[DEBUG] Depth 3, Layer 1: Generating subsequent thoughts\n",
      "[DEBUG] Generated subsequent thoughts: ['AI-driven candidate matching can also help in identifying soft skills and cultural fit, which are essential in healthcare settings where teamwork and communication are critical.']\n",
      "[DEBUG] New edges: [(\"0_0\", \"1_0\")]\n",
      "[DEBUG] Added subsequent thought 1_0: AI-driven candidate matching can also help in iden...\n",
      "[DEBUG] Adding edges: [('0_0', '1_0')]\n",
      "[DEBUG] Adding edge... 0_0 → 1_0\n",
      "[DEBUG] Added edge: 0_0 → 1_0\n",
      "[DEBUG] Depth 3, Layer 1: Checking complexity of thought 1_0: AI-driven candidate matching can also help in iden...\n",
      "[DEBUG] Complexity check result: 1, Reason: The thought discusses multiple aspects of AI-driven candidate matching, including the identification of soft skills and cultural fit, which are both critical in healthcare settings. This introduces complexity as it involves understanding the nuances of soft skills, teamwork, and communication, suggesting that the thought could be further decomposed into more specific components.\n",
      "[DEBUG] Evaluating thought 1_0 directly\n",
      "[DEBUG] Thought 1_0 evaluation result: Your thought highlights a crucial aspect of AI-dri...\n",
      "\n",
      "[DEBUG] Depth 3: Synthesizing final answer\n",
      "[DEBUG] Final answer: Implementing AI-driven candidate matching algorithms can significantly enhance the recruitment proce...\n",
      "[DEBUG] Completed recursive processing for thought 0_0, answer: Implementing AI-driven candidate matching algorith...\n",
      "\n",
      "[DEBUG] Depth 2, Layer 1: Generating subsequent thoughts\n",
      "[DEBUG] Generated subsequent thoughts: ['Utilizing data analytics to refine AI-driven candidate matching algorithms can lead to continuous improvement in the hiring process, ensuring that hospitals and clinics not only find suitable candidates but also adapt to changing healthcare needs and compliance requirements.']\n",
      "[DEBUG] New edges: [(\"0_0\", \"1_0\")]\n",
      "[DEBUG] Added subsequent thought 1_0: Utilizing data analytics to refine AI-driven candi...\n",
      "[DEBUG] Adding edges: [('0_0', '1_0')]\n",
      "[DEBUG] Adding edge... 0_0 → 1_0\n",
      "[DEBUG] Added edge: 0_0 → 1_0\n",
      "[DEBUG] Depth 2, Layer 1: Checking complexity of thought 1_0: Utilizing data analytics to refine AI-driven candi...\n",
      "[DEBUG] Complexity check result: 1, Reason: The thought involves multiple interconnected components, including data analytics, AI-driven algorithms, the hiring process, and the adaptability to healthcare needs and compliance. This complexity suggests that it should be decomposed into simpler, more manageable parts for better understanding and implementation.\n",
      "[DEBUG] Thought 1_0 is complex, starting recursive processing\n",
      "\n",
      "[DEBUG] Depth 3, Layer 0: Generating nested initial thoughts for query: Utilizing data analytics to refine AI-driven candidate matching algorithms can lead to continuous improvement in the hiring process, ensuring that hospitals and clinics not only find suitable candidates but also adapt to changing healthcare needs and compliance requirements.\n",
      "[DEBUG] Generated nested thoughts: ['Leveraging data analytics can help identify patterns in successful candidate placements, allowing hospitals and clinics to refine their AI algorithms continuously, ensuring they align with both current healthcare needs and regulatory requirements.']\n",
      "[DEBUG] Added nested thought 0_0: Leveraging data analytics can help identify patter...\n",
      "[DEBUG] Depth 3, Layer 0: Checking complexity of thought 0_0: Leveraging data analytics can help identify patter...\n",
      "[DEBUG] Complexity check result: 1, Reason: The thought involves multiple interconnected concepts: data analytics, pattern identification, AI algorithm refinement, alignment with healthcare needs, and regulatory requirements. Each of these components can be further explored and broken down into more specific sub-thoughts, indicating a level of complexity that warrants decomposition.\n",
      "[DEBUG] Evaluating thought 0_0 directly\n",
      "[DEBUG] Thought 0_0 evaluation result: This thought highlights the importance of data ana...\n",
      "\n",
      "[DEBUG] Depth 3, Layer 1: Generating subsequent thoughts\n",
      "[DEBUG] Generated subsequent thoughts: ['Implementing continuous feedback loops from hiring outcomes can significantly enhance AI-driven candidate matching algorithms, allowing hospitals and clinics to refine their processes based on real-world performance and adapt to evolving healthcare needs and compliance requirements.']\n",
      "[DEBUG] New edges: [(\"0_0\", \"1_0\")]\n",
      "[DEBUG] Added subsequent thought 1_0: Implementing continuous feedback loops from hiring...\n",
      "[DEBUG] Adding edges: [('0_0', '1_0')]\n",
      "[DEBUG] Adding edge... 0_0 → 1_0\n",
      "[DEBUG] Added edge: 0_0 → 1_0\n",
      "[DEBUG] Depth 3, Layer 1: Checking complexity of thought 1_0: Implementing continuous feedback loops from hiring...\n",
      "[DEBUG] Complexity check result: 1, Reason: The thought involves multiple interconnected concepts, including continuous feedback loops, AI-driven candidate matching algorithms, and the adaptation to evolving healthcare needs and compliance requirements. Each of these elements can be further explored and broken down into more specific components, indicating a level of complexity that warrants decomposition.\n",
      "[DEBUG] Evaluating thought 1_0 directly\n",
      "[DEBUG] Thought 1_0 evaluation result: This thought emphasizes the critical role of conti...\n",
      "\n",
      "[DEBUG] Depth 3: Synthesizing final answer\n",
      "[DEBUG] Final answer: Utilizing data analytics to enhance AI-driven candidate matching algorithms is essential for continu...\n",
      "[DEBUG] Completed recursive processing for thought 1_0, answer: Utilizing data analytics to enhance AI-driven cand...\n",
      "\n",
      "[DEBUG] Depth 2: Synthesizing final answer\n",
      "[DEBUG] Final answer: Integrating AI-driven candidate matching algorithms into the recruiting platform can greatly enhance...\n",
      "[DEBUG] Completed recursive processing for thought 1_0, answer: Integrating AI-driven candidate matching algorithm...\n",
      "\n",
      "[DEBUG] Depth 1: Synthesizing final answer\n",
      "[DEBUG] Final answer: Developing a recruiting platform specifically for the healthcare sector can effectively address its ...\n",
      "[DEBUG] Completed recursive processing for thought 1_0, answer: Developing a recruiting platform specifically for ...\n",
      "\n",
      "[DEBUG] Depth 0: Synthesizing final answer\n",
      "[DEBUG] Final answer: To build a recruiting assistant that matches candidates with job offers, consider focusing on the fo...\n"
     ]
    }
   ],
   "execution_count": 82
  },
  {
   "metadata": {
    "ExecuteTime": {
     "end_time": "2025-02-28T12:13:49.207222Z",
     "start_time": "2025-02-28T12:13:49.204098Z"
    }
   },
   "cell_type": "code",
   "source": [
    "markdown_content = result_roadmap_3['answer']\n",
    "\n",
    "display(Markdown(markdown_content))"
   ],
   "id": "4d6a66cdabbfa0cc",
   "outputs": [
    {
     "data": {
      "text/plain": [
       "<IPython.core.display.Markdown object>"
      ],
      "text/markdown": "To build a recruiting assistant that matches candidates with job offers, consider focusing on the following five niches:\n\n1. **Tech Industry**: Create a platform that connects tech talent with startups and established companies. Actions to build in public: Share insights on tech hiring trends, conduct interviews with industry professionals, and gather feedback on your platform's features.\n\n2. **Healthcare Sector**: Develop a recruiting tool tailored for healthcare professionals, such as nurses and doctors. Actions: Collaborate with healthcare organizations to understand their hiring needs, share case studies, and engage with healthcare communities online.\n\n3. **Remote Work**: Focus on matching candidates with remote job opportunities across various industries. Actions: Host webinars on remote work best practices, create content around remote job searching, and build a community for remote workers.\n\n4. **Diversity Hiring**: Build a platform that emphasizes diversity and inclusion in hiring practices. Actions: Partner with organizations focused on diversity, share success stories, and create resources for companies looking to improve their diversity hiring.\n\n5. **Freelance and Gig Economy**: Cater to freelancers and gig workers by connecting them with short-term projects. Actions: Engage with freelance communities, share tips for freelancers, and gather feedback on what features they would find valuable in a recruiting assistant.\n\nTo build an audience and test your hypothesis, consistently share your progress on social media, engage with potential users through surveys and polls, and create valuable content that addresses their pain points. This will help you refine your product based on real user feedback."
     },
     "metadata": {},
     "output_type": "display_data"
    }
   ],
   "execution_count": 83
  },
  {
   "metadata": {
    "ExecuteTime": {
     "end_time": "2025-02-28T12:18:35.849669Z",
     "start_time": "2025-02-28T12:18:35.843049Z"
    }
   },
   "cell_type": "code",
   "source": [
    "# needs work\n",
    "thoughts_rows = [ f\"| {node_id} | {data['data'].layer} | {data['data'].answer[0:100]}... | {data['data'].strategy[0:100]}... |\" for node_id, data in graph.nodes(data=True)]\n",
    "table = f\"\"\"\n",
    "| node | layer | answer | strategy |\n",
    "|------|-------|--------|--------- |\n",
    "{\"\\n\".join(thoughts_rows)}\n",
    "\"\"\"\n",
    "display(Markdown(table))\n",
    "    "
   ],
   "id": "fba78eb88a9d715f",
   "outputs": [
    {
     "data": {
      "text/plain": [
       "<IPython.core.display.Markdown object>"
      ],
      "text/markdown": "\n| node | layer | answer | strategy |\n|------|-------|--------|--------- |\n| 0_0 | 0 | One of the best opening moves in Catan is to place the first settlement at a location that provides ... | To explore the best opening moves in Catan, consider the following strategy: Analyze the resource di... |\n| 0_1 | 0 | Prioritizing a settlement on high-yield resource tiles like wheat and ore can be a powerful strategy... | To explore the best opening moves in Catan, consider the following strategy: Analyze the resource di... |\n| 1_0 | 1 | Placing a settlement at the intersection of wheat, wood, and brick is a strategic move that allows f... | The strategy for exploring these thoughts is to analyze the impact of resource diversity and trading... |\n| 1_1 | 1 | Positioning a settlement near a high-frequency resource like ore, especially adjacent to a 3:1 port,... | The strategy for exploring these thoughts is to analyze the impact of resource diversity and trading... |\n"
     },
     "metadata": {},
     "output_type": "display_data"
    }
   ],
   "execution_count": 94
  },
  {
   "metadata": {},
   "cell_type": "code",
   "source": [
    "agot = AdaptiveGraphOfThoughts(max_depth=3, max_layers=1, max_nodes=1)\n",
    "# Run on a complex query\n",
    "result_roadmap_4 = agot(query=\"What is the best way of building a digital product for truck drivers so they can optimize their fuel consumption? Describe the actions I must do to build in public and build an audience to test out my hyphothesis.\")"
   ],
   "id": "ef40e1358bc26bb7",
   "outputs": [],
   "execution_count": null
  },
  {
   "metadata": {},
   "cell_type": "code",
   "source": [
    "markdown_content = result_roadmap_4['answer']\n",
    "\n",
    "display(Markdown(markdown_content))"
   ],
   "id": "bd7a5e15888f8203",
   "outputs": [],
   "execution_count": null
  },
  {
   "metadata": {},
   "cell_type": "code",
   "source": [
    "agot = AdaptiveGraphOfThoughts(max_depth=3, max_layers=1, max_nodes=1)\n",
    "# Run on a complex query\n",
    "result_roadmap_5 = agot(query=\"Extracta la lista de los planes generales y parciales en la Comunidad de Madrid aprobados definitivamente en los ultimos 5 años. Escribe una seccion por cada plan que incluya una breve description del objetivo del plan y la fecha de aprobacion.\")"
   ],
   "id": "695869ae1cde8e5",
   "outputs": [],
   "execution_count": null
  },
  {
   "metadata": {
    "ExecuteTime": {
     "end_time": "2025-02-28T12:19:09.723910Z",
     "start_time": "2025-02-28T12:19:09.718872Z"
    }
   },
   "cell_type": "code",
   "source": [
    "markdown_content = result_roadmap_5['answer']\n",
    "\n",
    "display(Markdown(markdown_content))"
   ],
   "id": "1459a69e855e5077",
   "outputs": [
    {
     "data": {
      "text/plain": [
       "<IPython.core.display.Markdown object>"
      ],
      "text/markdown": "A continuación se presenta la lista de los planes generales y parciales en la Comunidad de Madrid aprobados definitivamente en los últimos 5 años, junto con una breve descripción de cada uno y su fecha de aprobación:\n\n1. **Plan General de Ordenación Urbana de Madrid (PGOUM)**\n   - **Descripción**: Este plan tiene como objetivo establecer las directrices para el desarrollo urbano sostenible de la ciudad de Madrid, promoviendo un crecimiento equilibrado y la mejora de la calidad de vida de sus habitantes.\n   - **Fecha de Aprobación**: 15 de diciembre de 2019.\n\n2. **Plan Parcial de Reforma Interior de la Unidad de Actuación 01.01.01 (Vallehermoso)**\n   - **Descripción**: Este plan busca la regeneración urbana de la zona de Vallehermoso, mejorando la infraestructura y los espacios públicos, así como promoviendo la vivienda asequible.\n   - **Fecha de Aprobación**: 10 de marzo de 2020.\n\n3. **Plan Parcial de Ordenación de la Unidad de Actuación 01.02.01 (Las Tablas)**\n   - **Descripción**: El objetivo de este plan es la ordenación y desarrollo de la zona de Las Tablas, facilitando la creación de nuevos espacios residenciales y comerciales.\n   - **Fecha de Aprobación**: 22 de junio de 2021.\n\n4. **Plan General de Ordenación Urbana de Alcobendas**\n   - **Descripción**: Este plan tiene como finalidad la ordenación del territorio de Alcobendas, promoviendo un desarrollo urbano sostenible y la mejora de los servicios públicos.\n   - **Fecha de Aprobación**: 5 de noviembre de 2021.\n\n5. **Plan Parcial de Ordenación de la Unidad de Actuación 01.03.01 (San Sebastián de los Reyes)**\n   - **Descripción**: Este plan busca la revitalización de áreas urbanas en San Sebastián de los Reyes, fomentando la integración de espacios verdes y la mejora de la movilidad.\n   - **Fecha de Aprobación**: 18 de enero de 2022."
     },
     "metadata": {},
     "output_type": "display_data"
    }
   ],
   "execution_count": 95
  },
  {
   "metadata": {
    "ExecuteTime": {
     "end_time": "2025-02-28T12:20:44.302159Z",
     "start_time": "2025-02-28T12:19:17.390432Z"
    }
   },
   "cell_type": "code",
   "source": [
    "\n",
    "lm = dspy.LM('gpt-4o', api_key=os.getenv(\"OPENAI_API_KEY\"))\n",
    "dspy.configure(lm=lm)\n",
    "agot = AdaptiveGraphOfThoughts(max_depth=1, max_layers=2, max_nodes=2)\n",
    "# Run on a complex query\n",
    "result_roadmap_6 = agot(query=\"Extracta la lista de los planes generales y parciales en la Comunidad de Madrid aprobados definitivamente en los ultimos 5 años. Escribe una seccion por cada plan que incluya una breve description del objetivo del plan y la fecha de aprobacion. No visites ninguna fuente externa, extrae la informacion que tengas con precision de tu modelo.\")"
   ],
   "id": "abfc8b1e7b5bf93d",
   "outputs": [
    {
     "name": "stdout",
     "output_type": "stream",
     "text": [
      "\n",
      "[DEBUG] Depth 0, Layer 0: Generating initial thoughts for query: Extracta la lista de los planes generales y parciales en la Comunidad de Madrid aprobados definitivamente en los ultimos 5 años. Escribe una seccion por cada plan que incluya una breve description del objetivo del plan y la fecha de aprobacion. No visites ninguna fuente externa, extrae la informacion que tengas con precision de tu modelo.\n",
      "[DEBUG] Generated thoughts: [\"Urban planning in the Comunidad de Madrid involves both general and partial plans, which are essential for managing land use and development. General plans typically cover broader areas and set the framework for urban development, while partial plans focus on specific areas within the general plan's framework.\", 'The objectives of these plans often include sustainable development, infrastructure improvement, and housing expansion. The approval process usually involves multiple stages, including public consultation and governmental review, culminating in a final approval date.']\n",
      "[DEBUG] Added thought 0_0: Urban planning in the Comunidad de Madrid involves...\n",
      "[DEBUG] Added thought 0_1: The objectives of these plans often include sustai...\n",
      "[DEBUG] Depth 0, Layer 0: Checking complexity of thought 0_0: Urban planning in the Comunidad de Madrid involves...\n",
      "[DEBUG] Complexity check result: 0, Reason: The thought provides a clear and concise explanation of the roles of general and partial plans in urban planning within the Comunidad de Madrid. It does not introduce multiple intertwined concepts or require further decomposition to understand its meaning.\n",
      "[DEBUG] Evaluating thought 0_0 directly\n",
      "[DEBUG] Thought 0_0 evaluation result: The distinction between general and partial plans ...\n",
      "[DEBUG] Depth 0, Layer 0: Checking complexity of thought 0_1: The objectives of these plans often include sustai...\n",
      "[DEBUG] Complexity check result: 1, Reason: The thought encompasses multiple objectives (sustainable development, infrastructure improvement, housing expansion) and a multi-stage approval process (public consultation, governmental review, final approval). Each of these components could be further explored or broken down into more detailed sub-thoughts, indicating complexity.\n",
      "[DEBUG] Thought 0_1 is complex, starting recursive processing\n",
      "\n",
      "[DEBUG] Depth 1, Layer 0: Generating nested initial thoughts for query: The objectives of these plans often include sustainable development, infrastructure improvement, and housing expansion. The approval process usually involves multiple stages, including public consultation and governmental review, culminating in a final approval date.\n",
      "[DEBUG] Generated nested thoughts: ['Thought 1: Analyze the specific objectives of sustainable development, infrastructure improvement, and housing expansion within the context of urban planning in the Comunidad de Madrid. This involves understanding how these objectives are prioritized and balanced against each other in the planning process.', 'Thought 2: Examine the multi-stage approval process for urban planning plans, focusing on the roles of public consultation and governmental review. This includes identifying potential challenges and bottlenecks in the process and exploring strategies to streamline approvals while maintaining transparency and public engagement.']\n",
      "[DEBUG] Added nested thought 0_0: Thought 1: Analyze the specific objectives of sust...\n",
      "[DEBUG] Added nested thought 0_1: Thought 2: Examine the multi-stage approval proces...\n",
      "[DEBUG] Depth 1, Layer 0: Checking complexity of thought 0_0: Thought 1: Analyze the specific objectives of sust...\n",
      "[DEBUG] Complexity check result: 1, Reason: The thought involves multiple interconnected objectives—sustainable development, infrastructure improvement, and housing expansion—each of which is complex on its own. Additionally, it requires an analysis of how these objectives are prioritized and balanced within the urban planning process, which involves understanding various factors, stakeholders, and potential trade-offs. This multi-faceted analysis suggests that the thought is complex and should be decomposed into more manageable parts.\n",
      "[DEBUG] Evaluating thought 0_0 directly\n",
      "[DEBUG] Thought 0_0 evaluation result: In the context of urban planning in the Comunidad ...\n",
      "[DEBUG] Depth 1, Layer 0: Checking complexity of thought 0_1: Thought 2: Examine the multi-stage approval proces...\n",
      "[DEBUG] Complexity check result: 1, Reason: The thought involves multiple components: examining the multi-stage approval process, focusing on public consultation and governmental review, identifying challenges and bottlenecks, and exploring strategies for streamlining approvals while maintaining transparency and public engagement. Each of these components could be complex on its own, and together they form a multifaceted analysis that would benefit from decomposition into more manageable parts.\n",
      "[DEBUG] Evaluating thought 0_1 directly\n",
      "[DEBUG] Thought 0_1 evaluation result: The multi-stage approval process for urban plannin...\n",
      "\n",
      "[DEBUG] Depth 1, Layer 1: Generating subsequent thoughts\n",
      "[DEBUG] Generated subsequent thoughts: ['Thought 1_0 [Layer 1]: Thought 3: Investigate the specific components of sustainable development objectives, such as environmental protection, economic growth, and social equity, and how they are prioritized in urban planning.\\nThought 1_1 [Layer 1]: Thought 4: Analyze the role of public consultation in the approval process, including how public feedback is integrated into final decisions and its impact on project outcomes.']\n",
      "[DEBUG] New edges: [(\"0_0\", \"1_0\"), (\"0_1\", \"1_1\")]\n",
      "[DEBUG] Added subsequent thought 1_0: Thought 1_0 [Layer 1]: Thought 3: Investigate the ...\n",
      "[DEBUG] Adding edges: [('0_0', '1_0'), ('0_1', '1_1')]\n",
      "[DEBUG] Adding edge... 0_0 → 1_0\n",
      "[DEBUG] Added edge: 0_0 → 1_0\n",
      "[DEBUG] Edge not added, nodes do not exist: 0_1 → 1_1\n",
      "[DEBUG] Depth 1, Layer 1: Checking complexity of thought 1_0: Thought 1_0 [Layer 1]: Thought 3: Investigate the ...\n",
      "[DEBUG] Complexity check result: 1, Reason: The thought involves multiple components of sustainable development objectives, such as environmental protection, economic growth, and social equity, and their prioritization in urban planning. Each of these components can be complex and multifaceted, requiring separate investigation to fully understand their implications and interactions. Additionally, the integration of public consultation into the approval process and its impact on project outcomes is another complex area that involves understanding various stakeholder perspectives and decision-making processes. Therefore, the thought is complex and should be decomposed for a more thorough analysis.\n",
      "[DEBUG] Evaluating thought 1_0 directly\n",
      "[DEBUG] Thought 1_0 evaluation result: The investigation into the specific components of ...\n",
      "\n",
      "[DEBUG] Depth 1: Synthesizing final answer\n",
      "[DEBUG] Final answer: The objectives of urban planning plans often include sustainable development, infrastructure improve...\n",
      "[DEBUG] Completed recursive processing for thought 0_1, answer: The objectives of urban planning plans often inclu...\n",
      "\n",
      "[DEBUG] Depth 0, Layer 1: Generating subsequent thoughts\n",
      "[DEBUG] Generated subsequent thoughts: ['Thought 1_0 [Layer 1]: In the last five years, the Comunidad de Madrid has approved several general urban plans, such as the \"Plan General de Ordenación Urbana de Madrid 2020,\" which aims to enhance sustainable urban development and improve public transportation infrastructure. This plan was approved on March 15,', 'Thought 1_1 [Layer 1]: Among the partial plans, the \"Plan Parcial de Reforma Interior de Chamartín\" was approved on July 10, 2019, focusing on revitalizing the Chamartín district by increasing green spaces and modernizing residential areas.']\n",
      "[DEBUG] New edges: [(\"0_0\", \"1_0\"), (\"0_1\", \"1_1\")]\n",
      "[DEBUG] Added subsequent thought 1_0: Thought 1_0 [Layer 1]: In the last five years, the...\n",
      "[DEBUG] Added subsequent thought 1_1: Thought 1_1 [Layer 1]: Among the partial plans, th...\n",
      "[DEBUG] Adding edges: [('0_0', '1_0'), ('0_1', '1_1')]\n",
      "[DEBUG] Adding edge... 0_0 → 1_0\n",
      "[DEBUG] Added edge: 0_0 → 1_0\n",
      "[DEBUG] Adding edge... 0_1 → 1_1\n",
      "[DEBUG] Added edge: 0_1 → 1_1\n",
      "[DEBUG] Depth 0, Layer 1: Checking complexity of thought 1_0: Thought 1_0 [Layer 1]: In the last five years, the...\n",
      "[DEBUG] Complexity check result: 1, Reason: The thought is complex because it involves multiple components: the approval of several urban plans, the specific example of the \"Plan General de Ordenación Urbana de Madrid 2020,\" its objectives related to sustainable urban development, and the improvement of public transportation infrastructure. Each of these components could be further explored to provide a more detailed understanding of the urban planning efforts in the Comunidad de Madrid.\n",
      "[DEBUG] Thought 1_0 is complex, starting recursive processing\n",
      "\n",
      "[DEBUG] Depth 1, Layer 0: Generating nested initial thoughts for query: Thought 1_0 [Layer 1]: In the last five years, the Comunidad de Madrid has approved several general urban plans, such as the \"Plan General de Ordenación Urbana de Madrid 2020,\" which aims to enhance sustainable urban development and improve public transportation infrastructure. This plan was approved on March 15,\n",
      "[DEBUG] Generated nested thoughts: ['Analyze the specific goals and expected outcomes of the \"Plan General de Ordenación Urbana de Madrid 2020,\" particularly in terms of sustainable urban development and public transportation improvements.', 'Investigate how the general urban plans approved in the last five years align with or differ from previous plans in terms of sustainability and infrastructure development, and assess their potential long-term impacts on the Comunidad de Madrid.']\n",
      "[DEBUG] Added nested thought 0_0: Analyze the specific goals and expected outcomes o...\n",
      "[DEBUG] Added nested thought 0_1: Investigate how the general urban plans approved i...\n",
      "[DEBUG] Depth 1, Layer 0: Checking complexity of thought 0_0: Analyze the specific goals and expected outcomes o...\n",
      "[DEBUG] Complexity check result: 1, Reason: The thought involves analyzing multiple aspects of a comprehensive urban plan, including sustainable urban development and public transportation improvements. Each of these areas can be complex and multifaceted, requiring detailed examination of specific goals, strategies, and expected outcomes. This suggests the need for decomposition into more manageable parts to thoroughly address each component.\n",
      "[DEBUG] Evaluating thought 0_0 directly\n",
      "[DEBUG] Thought 0_0 evaluation result: The \"Plan General de Ordenación Urbana de Madrid 2...\n",
      "[DEBUG] Depth 1, Layer 0: Checking complexity of thought 0_1: Investigate how the general urban plans approved i...\n",
      "[DEBUG] Complexity check result: 1, Reason: The thought involves multiple components: comparing recent urban plans with previous ones, evaluating sustainability and infrastructure development, and assessing long-term impacts. Each of these components requires detailed analysis and data collection, making the thought complex and suitable for decomposition.\n",
      "[DEBUG] Evaluating thought 0_1 directly\n",
      "[DEBUG] Thought 0_1 evaluation result: The general urban plans approved in the last five ...\n",
      "\n",
      "[DEBUG] Depth 1, Layer 1: Generating subsequent thoughts\n",
      "[DEBUG] Generated subsequent thoughts: ['Thought 1_0 [Layer 1]: Examine specific initiatives within the \"Plan General de Ordenación Urbana de Madrid 2020\" that focus on enhancing sustainable urban development, such as green spaces, energy-efficient buildings, and waste management systems.\\nThought 1_1 [Layer 1]: Assess the progress and challenges faced in implementing the \"Plan General de Ordenación Urbana de Madrid 2020,\" particularly in terms of improving public transportation infrastructure and reducing traffic congestion.']\n",
      "[DEBUG] New edges: [(\"0_0\", \"1_0\"), (\"0_1\", \"1_1\")]\n",
      "[DEBUG] Added subsequent thought 1_0: Thought 1_0 [Layer 1]: Examine specific initiative...\n",
      "[DEBUG] Adding edges: [('0_0', '1_0'), ('0_1', '1_1')]\n",
      "[DEBUG] Adding edge... 0_0 → 1_0\n",
      "[DEBUG] Added edge: 0_0 → 1_0\n",
      "[DEBUG] Edge not added, nodes do not exist: 0_1 → 1_1\n",
      "[DEBUG] Depth 1, Layer 1: Checking complexity of thought 1_0: Thought 1_0 [Layer 1]: Examine specific initiative...\n",
      "[DEBUG] Complexity check result: 1, Reason: The thought involves examining multiple specific initiatives within a comprehensive urban plan, each with distinct aspects such as green spaces, energy-efficient buildings, and waste management systems. Additionally, it requires assessing progress and challenges in implementing the plan, particularly in public transportation and traffic congestion. These tasks involve different domains and require detailed analysis, making the thought complex and suitable for decomposition.\n",
      "[DEBUG] Evaluating thought 1_0 directly\n",
      "[DEBUG] Thought 1_0 evaluation result: The \"Plan General de Ordenación Urbana de Madrid 2...\n",
      "\n",
      "[DEBUG] Depth 1: Synthesizing final answer\n",
      "[DEBUG] Final answer: The \"Plan General de Ordenación Urbana de Madrid 2020\" is a significant urban development initiative...\n",
      "[DEBUG] Completed recursive processing for thought 1_0, answer: The \"Plan General de Ordenación Urbana de Madrid 2...\n",
      "[DEBUG] Depth 0, Layer 1: Checking complexity of thought 1_1: Thought 1_1 [Layer 1]: Among the partial plans, th...\n",
      "[DEBUG] Complexity check result: 0, Reason: The thought provides specific information about a particular plan, including its approval date and objectives. It is straightforward and does not contain multiple intertwined concepts or require further breakdown to understand its content.\n",
      "[DEBUG] Evaluating thought 1_1 directly\n",
      "[DEBUG] Thought 1_1 evaluation result: The \"Plan Parcial de Reforma Interior de Chamartín...\n",
      "\n",
      "[DEBUG] Depth 0: Synthesizing final answer\n",
      "[DEBUG] Final answer: 1. **Plan General de Ordenación Urbana de Madrid 2020**: Este plan general fue aprobado definitivame...\n"
     ]
    }
   ],
   "execution_count": 96
  },
  {
   "metadata": {
    "ExecuteTime": {
     "end_time": "2025-02-28T12:26:14.242966Z",
     "start_time": "2025-02-28T12:26:14.239926Z"
    }
   },
   "cell_type": "code",
   "source": [
    "markdown_content = result_roadmap_6['answer']\n",
    "\n",
    "display(Markdown(markdown_content))"
   ],
   "id": "893d7928bda9398d",
   "outputs": [],
   "execution_count": null
  },
  {
   "metadata": {
    "ExecuteTime": {
     "end_time": "2025-02-28T12:27:12.202095Z",
     "start_time": "2025-02-28T12:27:12.196172Z"
    }
   },
   "cell_type": "code",
   "source": [
    "\n",
    "thoughts_rows = [ f\"| {node_id} | {data['data'].layer} | {data['data'].answer[0:100]}... | {data['data'].strategy[0:100]}... |\" for node_id, data in result_roadmap_6['graph'].nodes(data=True)]\n",
    "table = f\"\"\"\n",
    "| node | layer | answer | strategy |\n",
    "|------|-------|--------|--------- |\n",
    "{\"\\n\".join(thoughts_rows)}\n",
    "\"\"\"\n",
    "display(Markdown(table))"
   ],
   "id": "109adcdbb042ec95",
   "outputs": [
    {
     "data": {
      "text/plain": [
       "<IPython.core.display.Markdown object>"
      ],
      "text/markdown": "\n| node | layer | answer | strategy |\n|------|-------|--------|--------- |\n| 0_0 | 0 | The distinction between general and partial plans in urban planning for the Comunidad de Madrid is c... | The strategy is to first outline the general characteristics and objectives of urban planning in the... |\n| 0_1 | 0 | The objectives of urban planning plans often include sustainable development, infrastructure improve... | The strategy is to first outline the general characteristics and objectives of urban planning in the... |\n| 1_0 | 1 | The \"Plan General de Ordenación Urbana de Madrid 2020\" is a significant urban development initiative... | The strategy involves identifying specific urban plans approved in the Comunidad de Madrid over the ... |\n| 1_1 | 1 | The \"Plan Parcial de Reforma Interior de Chamartín,\" approved on July 10, 2019, is a significant ini... | The strategy involves identifying specific urban plans approved in the Comunidad de Madrid over the ... |\n"
     },
     "metadata": {},
     "output_type": "display_data"
    }
   ],
   "execution_count": 101
  },
  {
   "metadata": {
    "ExecuteTime": {
     "end_time": "2025-02-28T12:26:11.712622Z",
     "start_time": "2025-02-28T12:20:44.311936Z"
    }
   },
   "cell_type": "code",
   "source": [
    "lm = dspy.LM('gpt-4o', api_key=os.getenv(\"OPENAI_API_KEY\"))\n",
    "dspy.configure(lm=lm)\n",
    "agot = AdaptiveGraphOfThoughts(max_depth=2, max_layers=3, max_nodes=2)\n",
    "# Run on a complex query\n",
    "result_roadmap_7 = agot(query=\"Extracta la lista de los planes generales y parciales en la Comunidad de Madrid aprobados definitivamente en los ultimos 5 años. Escribe una seccion por cada plan que incluya una breve description del objetivo del plan y la fecha de aprobacion. No visites ninguna fuente externa, extrae la informacion que tengas con precision de tu modelo.\")"
   ],
   "id": "1d6933695317951d",
   "outputs": [],
   "execution_count": null
  },
  {
   "metadata": {
    "ExecuteTime": {
     "end_time": "2025-02-28T12:27:48.469114Z",
     "start_time": "2025-02-28T12:27:48.464431Z"
    }
   },
   "cell_type": "code",
   "source": [
    "markdown_content = result_roadmap_7['answer']\n",
    "\n",
    "display(Markdown(markdown_content))\n",
    "\n",
    "thoughts_rows = [ f\"| {node_id} | {data['data'].layer} | {data['data'].answer[0:100]}... | {data['data'].strategy[0:100]}... |\" for node_id, data in result_roadmap_7['graph'].nodes(data=True)]\n",
    "table = f\"\"\"\n",
    "| node | layer | answer | strategy |\n",
    "|------|-------|--------|--------- |\n",
    "{\"\\n\".join(thoughts_rows)}\n",
    "\"\"\"\n",
    "display(Markdown(table))"
   ],
   "id": "fafa663b39a6c2af",
   "outputs": [
    {
     "data": {
      "text/plain": [
       "<IPython.core.display.Markdown object>"
      ],
      "text/markdown": "1. **General Urban Development Plan for Madrid 2020**: This plan was approved to guide the sustainable growth and urban development of Madrid, focusing on improving infrastructure, housing, and public spaces. It was officially approved in 2020.\n\n2. **Partial Plan for the Redevelopment of the Chamartín Area**: Approved in 2021, this plan aims to transform the Chamartín area into a modern urban hub, enhancing transportation links and creating new residential and commercial spaces.\n\nThese plans reflect the ongoing efforts in the Comunidad de Madrid to address urban challenges and promote sustainable development over the past five years."
     },
     "metadata": {},
     "output_type": "display_data"
    },
    {
     "data": {
      "text/plain": [
       "<IPython.core.display.Markdown object>"
      ],
      "text/markdown": "\n| node | layer | answer | strategy |\n|------|-------|--------|--------- |\n| 0_0 | 0 | The distinction between general and partial plans in urban planning for the Comunidad de Madrid is c... | The strategy is to first outline the general characteristics and objectives of urban planning in the... |\n| 0_1 | 0 | The objectives of urban planning plans often include sustainable development, infrastructure improve... | The strategy is to first outline the general characteristics and objectives of urban planning in the... |\n| 1_0 | 1 | In the last five years, the Comunidad de Madrid has approved several general and partial urban plans... | The strategy involves expanding on the existing thoughts by identifying specific urban plans approve... |\n| 2_0 | 2 | The General Urban Development Plan for Madrid 2020, which aimed to enhance public transportation inf... | The strategy involves identifying specific urban plans approved in the last five years and providing... |\n| 2_1 | 2 | The Partial Plan for the redevelopment of the Chamartín area, approved in July 2021, emphasizes the ... | The strategy involves identifying specific urban plans approved in the last five years and providing... |\n"
     },
     "metadata": {},
     "output_type": "display_data"
    }
   ],
   "execution_count": 102
  },
  {
   "metadata": {
    "ExecuteTime": {
     "end_time": "2025-02-28T13:15:54.017810Z",
     "start_time": "2025-02-28T13:14:45.775153Z"
    }
   },
   "cell_type": "code",
   "source": [
    "query = \"What's the best opening move in Catan? Explain in high detail 3 potential scenarios where it showcases the best performance. Write a small article one section per scenario, headline and subheadline per section.\"\n",
    "\n",
    "lm = dspy.LM('gpt-4o-mini', api_key=os.getenv(\"OPENAI_API_KEY\"))\n",
    "dspy.configure(lm=lm)\n",
    "agot = AdaptiveGraphOfThoughts(max_depth=2, max_layers=1, max_nodes=1)\n",
    "# Run on a complex query\n",
    "result_roadmap_8 = agot(query=query)"
   ],
   "id": "c299667c4ea572fe",
   "outputs": [
    {
     "name": "stdout",
     "output_type": "stream",
     "text": [
      "\n",
      "[DEBUG] Depth 0, Layer 0: Generating initial thoughts for query: What's the best opening move in Catan? Explain in high detail 3 potential scenarios where it showcases the best performance. Write a small article one section per scenario, headline and subheadline per section.\n",
      "[DEBUG] Generated thoughts: ['**Scenario 1: The Wheat and Wood Strategy**  \\n   *Headline: Securing Early Resources for Expansion*  \\n   *Subheadline: How a Wheat and Wood Opening Move Sets the Stage for Victory*  \\n   In this scenario, a player places their initial settlements on a hex that produces wheat and wood, two essential resources for building roads and settlements. This opening move allows the player to quickly expand towards key locations, such as ports or high-value resource areas. By securing a steady supply of wheat, the player can also build cities early, increasing their resource production and gaining a significant advantage over opponents.', '**Scenario 2: The Brick and Ore Power Play**  \\n   *Headline: Dominating the Development Card Game*  \\n   *Subheadline: Leveraging Brick and Ore for Strategic Development*  \\n   Here, the player opts for a starting position that maximizes brick and ore production. This combination is crucial for building roads and purchasing development cards, which can lead to knights and victory points. By focusing on development cards early, the player can control the robber and disrupt opponents while also accumulating points, showcasing how this opening move can lead to a well-rounded strategy.', '**Scenario 3: The Balanced Resource Approach**  \\n   *Headline: The Versatile Opening for Adaptability*  \\n   *Subheadline: How a Balanced Resource Strategy Can Outmaneuver Opponents*  \\n   In this scenario, the player chooses a settlement location that provides a mix of resources, including wheat, sheep, and brick. This balanced approach allows for flexibility in strategy, enabling the player to adapt to the game’s flow. By having access to multiple resources, the player can pivot between building settlements, cities, or development cards based on the evolving game state, demonstrating the effectiveness of a versatile opening move.']\n",
      "[DEBUG] Added thought 0_0: **Scenario 1: The Wheat and Wood Strategy**  \n",
      "   *...\n",
      "[DEBUG] Added thought 0_1: **Scenario 2: The Brick and Ore Power Play**  \n",
      "   ...\n",
      "[DEBUG] Added thought 0_2: **Scenario 3: The Balanced Resource Approach**  \n",
      " ...\n",
      "[DEBUG] Depth 0, Layer 0: Checking complexity of thought 0_0: **Scenario 1: The Wheat and Wood Strategy**  \n",
      "   *...\n",
      "[DEBUG] Complexity check result: 1, Reason: The thought presents a strategic scenario that involves multiple components, such as resource management, expansion tactics, and competitive positioning. These elements indicate a level of complexity that warrants further decomposition to explore the implications and strategies in detail.\n",
      "[DEBUG] Thought 0_0 is complex, starting recursive processing\n",
      "\n",
      "[DEBUG] Depth 1, Layer 0: Generating nested initial thoughts for query: **Scenario 1: The Wheat and Wood Strategy**  \n",
      "   *Headline: Securing Early Resources for Expansion*  \n",
      "   *Subheadline: How a Wheat and Wood Opening Move Sets the Stage for Victory*  \n",
      "   In this scenario, a player places their initial settlements on a hex that produces wheat and wood, two essential resources for building roads and settlements. This opening move allows the player to quickly expand towards key locations, such as ports or high-value resource areas. By securing a steady supply of wheat, the player can also build cities early, increasing their resource production and gaining a significant advantage over opponents.\n",
      "[DEBUG] Generated nested thoughts: ['The Wheat and Wood Strategy emphasizes the importance of early resource acquisition, allowing players to establish a strong foothold on the board, which can lead to faster expansion and increased resource generation.']\n",
      "[DEBUG] Added nested thought 0_0: The Wheat and Wood Strategy emphasizes the importa...\n",
      "[DEBUG] Depth 1, Layer 0: Checking complexity of thought 0_0: The Wheat and Wood Strategy emphasizes the importa...\n",
      "[DEBUG] Complexity check result: 1, Reason: The thought discusses a strategy that involves multiple components, such as resource acquisition, board positioning, expansion, and resource generation. Each of these elements can be further explored and broken down into more detailed strategies or implications, indicating a level of complexity that warrants decomposition.\n",
      "[DEBUG] Thought 0_0 is complex, starting recursive processing\n",
      "\n",
      "[DEBUG] Depth 2, Layer 0: Generating nested initial thoughts for query: The Wheat and Wood Strategy emphasizes the importance of early resource acquisition, allowing players to establish a strong foothold on the board, which can lead to faster expansion and increased resource generation.\n",
      "[DEBUG] Generated nested thoughts: ['The early acquisition of wheat and wood can create a competitive advantage by enabling players to build settlements and roads quickly, which can block opponents and secure key locations on the board.']\n",
      "[DEBUG] Added nested thought 0_0: The early acquisition of wheat and wood can create...\n",
      "[DEBUG] Depth 2, Layer 0: Checking complexity of thought 0_0: The early acquisition of wheat and wood can create...\n",
      "[DEBUG] Complexity check result: 1, Reason: The thought involves multiple interconnected concepts, including resource acquisition, competitive advantage, strategic building, and blocking opponents. Each of these elements can be further explored and broken down into more detailed components, indicating its complexity.\n",
      "[DEBUG] Evaluating thought 0_0 directly\n",
      "[DEBUG] Thought 0_0 evaluation result: Your thought is accurate. Acquiring wheat and wood...\n",
      "\n",
      "[DEBUG] Depth 2: Synthesizing final answer\n",
      "[DEBUG] Final answer: The Wheat and Wood Strategy highlights that securing these resources early in the game enables playe...\n",
      "[DEBUG] Completed recursive processing for thought 0_0, answer: The Wheat and Wood Strategy highlights that securi...\n",
      "\n",
      "[DEBUG] Depth 1: Synthesizing final answer\n",
      "[DEBUG] Final answer: The Wheat and Wood Strategy is a powerful opening move in resource management games, particularly in...\n",
      "[DEBUG] Completed recursive processing for thought 0_0, answer: The Wheat and Wood Strategy is a powerful opening ...\n",
      "[DEBUG] Depth 0, Layer 0: Checking complexity of thought 0_1: **Scenario 2: The Brick and Ore Power Play**  \n",
      "   ...\n",
      "[DEBUG] Complexity check result: 1, Reason: The thought presents a strategic analysis of a specific game scenario, detailing the importance of resource management and the implications of early game decisions. It involves multiple layers of strategy, including resource allocation, opponent disruption, and point accumulation, which indicates a level of complexity that warrants further decomposition for a deeper understanding.\n",
      "[DEBUG] Thought 0_1 is complex, starting recursive processing\n",
      "\n",
      "[DEBUG] Depth 1, Layer 0: Generating nested initial thoughts for query: **Scenario 2: The Brick and Ore Power Play**  \n",
      "   *Headline: Dominating the Development Card Game*  \n",
      "   *Subheadline: Leveraging Brick and Ore for Strategic Development*  \n",
      "   Here, the player opts for a starting position that maximizes brick and ore production. This combination is crucial for building roads and purchasing development cards, which can lead to knights and victory points. By focusing on development cards early, the player can control the robber and disrupt opponents while also accumulating points, showcasing how this opening move can lead to a well-rounded strategy.\n",
      "[DEBUG] Generated nested thoughts: [\"Focusing on brick and ore production allows the player to build roads quickly, which can block opponents and secure key locations on the board. Additionally, investing in development cards early can provide a strategic advantage by enabling the player to control the robber, disrupt opponents' resource production, and accumulate victory points through knights and other card benefits.\"]\n",
      "[DEBUG] Added nested thought 0_0: Focusing on brick and ore production allows the pl...\n",
      "[DEBUG] Depth 1, Layer 0: Checking complexity of thought 0_0: Focusing on brick and ore production allows the pl...\n",
      "[DEBUG] Complexity check result: 1, Reason: The thought involves multiple strategic elements related to gameplay, including resource management (brick and ore production), tactical positioning (building roads), and the use of development cards. Each of these components can be broken down further into specific strategies and implications, indicating a level of complexity that warrants decomposition.\n",
      "[DEBUG] Thought 0_0 is complex, starting recursive processing\n",
      "\n",
      "[DEBUG] Depth 2, Layer 0: Generating nested initial thoughts for query: Focusing on brick and ore production allows the player to build roads quickly, which can block opponents and secure key locations on the board. Additionally, investing in development cards early can provide a strategic advantage by enabling the player to control the robber, disrupt opponents' resource production, and accumulate victory points through knights and other card benefits.\n",
      "[DEBUG] Generated nested thoughts: ['Prioritizing brick and ore production not only facilitates rapid road construction but also creates opportunities to block opponents, thereby controlling critical areas of the board and enhancing overall game strategy.']\n",
      "[DEBUG] Added nested thought 0_0: Prioritizing brick and ore production not only fac...\n",
      "[DEBUG] Depth 2, Layer 0: Checking complexity of thought 0_0: Prioritizing brick and ore production not only fac...\n",
      "[DEBUG] Complexity check result: 1, Reason: The thought involves multiple interconnected concepts: prioritizing resource production, implications for road construction, blocking opponents, controlling board areas, and enhancing game strategy. Each of these elements can be further explored and broken down, indicating a level of complexity that warrants decomposition.\n",
      "[DEBUG] Evaluating thought 0_0 directly\n",
      "[DEBUG] Thought 0_0 evaluation result: Your thought highlights a strategic approach in th...\n",
      "\n",
      "[DEBUG] Depth 2: Synthesizing final answer\n",
      "[DEBUG] Final answer: Focusing on brick and ore production is a strategic approach that allows players to build roads quic...\n",
      "[DEBUG] Completed recursive processing for thought 0_0, answer: Focusing on brick and ore production is a strategi...\n",
      "\n",
      "[DEBUG] Depth 1: Synthesizing final answer\n",
      "[DEBUG] Final answer: Focusing on brick and ore production is a strategic move in the development card game, as it enables...\n",
      "[DEBUG] Completed recursive processing for thought 0_1, answer: Focusing on brick and ore production is a strategi...\n",
      "[DEBUG] Depth 0, Layer 0: Checking complexity of thought 0_2: **Scenario 3: The Balanced Resource Approach**  \n",
      " ...\n",
      "[DEBUG] Complexity check result: 1, Reason: The thought presents a strategic scenario that involves multiple resources and adaptability, indicating a level of complexity that requires further breakdown to fully understand the implications and strategies involved.\n",
      "[DEBUG] Thought 0_2 is complex, starting recursive processing\n",
      "\n",
      "[DEBUG] Depth 1, Layer 0: Generating nested initial thoughts for query: **Scenario 3: The Balanced Resource Approach**  \n",
      "   *Headline: The Versatile Opening for Adaptability*  \n",
      "   *Subheadline: How a Balanced Resource Strategy Can Outmaneuver Opponents*  \n",
      "   In this scenario, the player chooses a settlement location that provides a mix of resources, including wheat, sheep, and brick. This balanced approach allows for flexibility in strategy, enabling the player to adapt to the game’s flow. By having access to multiple resources, the player can pivot between building settlements, cities, or development cards based on the evolving game state, demonstrating the effectiveness of a versatile opening move.\n",
      "[DEBUG] Generated nested thoughts: [\"A balanced resource strategy not only provides immediate access to essential building materials but also allows players to respond to opponents' moves, making it a proactive choice that can lead to long-term advantages in the game.\"]\n",
      "[DEBUG] Added nested thought 0_0: A balanced resource strategy not only provides imm...\n",
      "[DEBUG] Depth 1, Layer 0: Checking complexity of thought 0_0: A balanced resource strategy not only provides imm...\n",
      "[DEBUG] Complexity check result: 1, Reason: The thought discusses multiple aspects of a balanced resource strategy, including immediate access to materials, responsiveness to opponents, and long-term advantages. This complexity suggests that it can be broken down into simpler components for better understanding.\n",
      "[DEBUG] Thought 0_0 is complex, starting recursive processing\n",
      "\n",
      "[DEBUG] Depth 2, Layer 0: Generating nested initial thoughts for query: A balanced resource strategy not only provides immediate access to essential building materials but also allows players to respond to opponents' moves, making it a proactive choice that can lead to long-term advantages in the game.\n",
      "[DEBUG] Generated nested thoughts: ['A balanced resource strategy enables players to maintain flexibility in their gameplay, allowing them to quickly adapt to changing circumstances and opponent strategies while ensuring they have the necessary materials to build and expand their capabilities.']\n",
      "[DEBUG] Added nested thought 0_0: A balanced resource strategy enables players to ma...\n",
      "[DEBUG] Depth 2, Layer 0: Checking complexity of thought 0_0: A balanced resource strategy enables players to ma...\n",
      "[DEBUG] Complexity check result: 1, Reason: The thought discusses multiple interconnected concepts, including resource strategy, flexibility in gameplay, adaptation to changing circumstances, and the necessity of materials for building and expansion. This complexity suggests that it can be broken down into simpler components for better understanding.\n",
      "[DEBUG] Evaluating thought 0_0 directly\n",
      "[DEBUG] Thought 0_0 evaluation result: Your thought highlights a crucial aspect of gamepl...\n",
      "\n",
      "[DEBUG] Depth 2: Synthesizing final answer\n",
      "[DEBUG] Final answer: A balanced resource strategy is essential in gameplay as it ensures immediate access to necessary ma...\n",
      "[DEBUG] Completed recursive processing for thought 0_0, answer: A balanced resource strategy is essential in gamep...\n",
      "\n",
      "[DEBUG] Depth 1: Synthesizing final answer\n",
      "[DEBUG] Final answer: A balanced resource strategy in the game allows players to access a variety of resources, such as wh...\n",
      "[DEBUG] Completed recursive processing for thought 0_2, answer: A balanced resource strategy in the game allows pl...\n",
      "\n",
      "[DEBUG] Depth 0: Synthesizing final answer\n",
      "[DEBUG] Final answer: **The Best Opening Move in Catan: A Strategic Overview**\n",
      "\n",
      "In the game of Catan, the opening move is ...\n"
     ]
    }
   ],
   "execution_count": 103
  },
  {
   "metadata": {
    "ExecuteTime": {
     "end_time": "2025-02-28T13:16:03.023332Z",
     "start_time": "2025-02-28T13:16:03.017644Z"
    }
   },
   "cell_type": "code",
   "source": [
    "markdown_content = result_roadmap_8['answer']\n",
    "\n",
    "display(Markdown(markdown_content))\n",
    "\n",
    "thoughts_rows = [\n",
    "    f\"| {node_id} | {data['data'].layer} | {data['data'].answer[0:100]}... | {data['data'].strategy[0:100]}... |\" for\n",
    "    node_id, data in result_roadmap_8['graph'].nodes(data=True)]\n",
    "table = f\"\"\"\n",
    "| node | layer | answer | strategy |\n",
    "|------|-------|--------|--------- |\n",
    "{\"\\n\".join(thoughts_rows)}\n",
    "\"\"\"\n",
    "display(Markdown(table))\n"
   ],
   "id": "4041b977972a396a",
   "outputs": [
    {
     "data": {
      "text/plain": [
       "<IPython.core.display.Markdown object>"
      ],
      "text/markdown": "**The Best Opening Move in Catan: A Strategic Overview**\n\nIn the game of Catan, the opening move is crucial as it sets the tone for the entire game. Choosing the right combination of resources can lead to a significant advantage. Here, we explore three potential scenarios that showcase the best performance based on different resource strategies.\n\n### Scenario 1: The Wheat and Wood Strategy\n**Maximizing Development Cards and Roads**\n\nThe Wheat and Wood Strategy is a powerful opening move that focuses on securing access to wheat and wood early in the game. By placing settlements on hexes that yield these resources, players can quickly build roads and settlements, allowing them to expand their territory. \n\nIn this scenario, a player places their first settlement on a wheat hex (preferably a 6 or 8 for higher probability) and a wood hex. This combination not only provides the essential resources for building but also positions the player to compete for the longest road. As the game progresses, the ability to purchase development cards becomes crucial, as they can lead to victory points and additional resources. This strategy excels in games where expansion is key, and players can leverage their early lead to control critical areas of the board.\n\n### Scenario 2: The Brick and Ore Power Play\n**Building Cities and Dominating Resource Control**\n\nFocusing on brick and ore production is a strategic move that can lead to a powerful mid-game. By placing settlements on high-yield brick and ore hexes, players can quickly build cities, which significantly increase their resource output. \n\nIn this scenario, a player might place their first settlement on a brick hex (ideally a 5 or 9) and an ore hex. This combination allows for rapid city development, which can outpace opponents who are still building settlements. The key to this strategy is to maintain control over brick production, as it is essential for building roads and settlements. As cities are built, the player can also start purchasing development cards, which can provide additional victory points and resources. This strategy shines in games where resource scarcity is a factor, allowing the player to dominate the board with fewer but more powerful settlements.\n\n### Scenario 3: The Balanced Resource Approach\n**Flexibility and Adaptability in Resource Management**\n\nA balanced resource strategy in the game allows players to adapt to changing circumstances and opponents' moves. By securing access to a variety of resources, players can pivot their strategy based on the flow of the game.\n\nIn this scenario, a player places their first settlement on a combination of wheat, brick, and ore hexes. This diverse resource base enables the player to build settlements, cities, and roads while also allowing for the purchase of development cards. The flexibility of this approach means that if one resource becomes scarce, the player can still rely on others to maintain their momentum. This strategy is particularly effective in games with multiple players, where resource competition can lead to unexpected shortages. By being adaptable, players can seize opportunities as they arise, making this a well-rounded opening move.\n\nIn conclusion, the best opening move in Catan can vary based on the player's strategy and the dynamics of the game. Whether focusing on wheat and wood, brick and ore, or a balanced approach, each scenario offers unique advantages that can lead to victory."
     },
     "metadata": {},
     "output_type": "display_data"
    },
    {
     "data": {
      "text/plain": [
       "<IPython.core.display.Markdown object>"
      ],
      "text/markdown": "\n| node | layer | answer | strategy |\n|------|-------|--------|--------- |\n| 0_0 | 0 | The Wheat and Wood Strategy is a powerful opening move in resource management games, particularly in... | To explore the best opening move in Catan, focus on identifying key resource combinations that facil... |\n| 0_1 | 0 | Focusing on brick and ore production is a strategic move in the development card game, as it enables... | To explore the best opening move in Catan, focus on identifying key resource combinations that facil... |\n| 0_2 | 0 | A balanced resource strategy in the game allows players to access a variety of resources, such as wh... | To explore the best opening move in Catan, focus on identifying key resource combinations that facil... |\n"
     },
     "metadata": {},
     "output_type": "display_data"
    }
   ],
   "execution_count": 104
  },
  {
   "metadata": {
    "ExecuteTime": {
     "end_time": "2025-03-02T12:29:28.764297Z",
     "start_time": "2025-03-02T12:29:28.714891Z"
    }
   },
   "cell_type": "code",
   "source": [
    "from src.reasoning import AdaptiveGraphOfThoughts as Reasoning\n",
    "query = \"What's the best opening move in Catan? Explain in high detail 3 potential scenarios where it showcases the best performance. Write a small article one section per scenario, headline and subheadline per section.\"\n",
    "\n",
    "lm = dspy.LM('gpt-4o-mini', api_key=os.getenv(\"OPENAI_API_KEY\"))\n",
    "dspy.configure(lm=lm)\n",
    "agot = Reasoning(max_depth=2, max_layers=1, max_nodes=1, token_budget=1_000)\n",
    "# Run on a complex query\n",
    "result_roadmap_9 = agot(query=query)"
   ],
   "id": "fe9c21f82af43787",
   "outputs": [
    {
     "ename": "TypeError",
     "evalue": "AdaptiveGraphOfThoughts.__init__() got an unexpected keyword argument 'token_budget'",
     "output_type": "error",
     "traceback": [
      "\u001B[0;31m---------------------------------------------------------------------------\u001B[0m",
      "\u001B[0;31mTypeError\u001B[0m                                 Traceback (most recent call last)",
      "Cell \u001B[0;32mIn[110], line 6\u001B[0m\n\u001B[1;32m      4\u001B[0m lm \u001B[38;5;241m=\u001B[39m dspy\u001B[38;5;241m.\u001B[39mLM(\u001B[38;5;124m'\u001B[39m\u001B[38;5;124mgpt-4o-mini\u001B[39m\u001B[38;5;124m'\u001B[39m, api_key\u001B[38;5;241m=\u001B[39mos\u001B[38;5;241m.\u001B[39mgetenv(\u001B[38;5;124m\"\u001B[39m\u001B[38;5;124mOPENAI_API_KEY\u001B[39m\u001B[38;5;124m\"\u001B[39m))\n\u001B[1;32m      5\u001B[0m dspy\u001B[38;5;241m.\u001B[39mconfigure(lm\u001B[38;5;241m=\u001B[39mlm)\n\u001B[0;32m----> 6\u001B[0m agot \u001B[38;5;241m=\u001B[39m \u001B[43mReasoning\u001B[49m\u001B[43m(\u001B[49m\u001B[43mmax_depth\u001B[49m\u001B[38;5;241;43m=\u001B[39;49m\u001B[38;5;241;43m2\u001B[39;49m\u001B[43m,\u001B[49m\u001B[43m \u001B[49m\u001B[43mmax_layers\u001B[49m\u001B[38;5;241;43m=\u001B[39;49m\u001B[38;5;241;43m1\u001B[39;49m\u001B[43m,\u001B[49m\u001B[43m \u001B[49m\u001B[43mmax_nodes\u001B[49m\u001B[38;5;241;43m=\u001B[39;49m\u001B[38;5;241;43m1\u001B[39;49m\u001B[43m,\u001B[49m\u001B[43m \u001B[49m\u001B[43mtoken_budget\u001B[49m\u001B[38;5;241;43m=\u001B[39;49m\u001B[38;5;241;43m1_000\u001B[39;49m\u001B[43m)\u001B[49m\n\u001B[1;32m      7\u001B[0m \u001B[38;5;66;03m# Run on a complex query\u001B[39;00m\n\u001B[1;32m      8\u001B[0m result_roadmap_9 \u001B[38;5;241m=\u001B[39m agot(query\u001B[38;5;241m=\u001B[39mquery)\n",
      "\u001B[0;31mTypeError\u001B[0m: AdaptiveGraphOfThoughts.__init__() got an unexpected keyword argument 'token_budget'"
     ]
    }
   ],
   "execution_count": 110
  },
  {
   "metadata": {},
   "cell_type": "code",
   "outputs": [],
   "execution_count": null,
   "source": [
    "markdown_content = result_roadmap_9['answer']\n",
    "\n",
    "display(Markdown(markdown_content))\n",
    "\n",
    "thoughts_rows = [\n",
    "    f\"| {node_id} | {data['data'].layer} | {data['data'].answer[0:100]}... | {data['data'].strategy[0:100]}... |\" for\n",
    "    node_id, data in result_roadmap_9['graph'].nodes(data=True)]\n",
    "table = f\"\"\"\n",
    "| node | layer | answer | strategy |\n",
    "|------|-------|--------|--------- |\n",
    "{\"\\n\".join(thoughts_rows)}\n",
    "\"\"\"\n",
    "display(Markdown(table))\n"
   ],
   "id": "98f29f94137a6621"
  }
 ],
 "metadata": {
  "kernelspec": {
   "display_name": "Python 3",
   "language": "python",
   "name": "python3"
  },
  "language_info": {
   "codemirror_mode": {
    "name": "ipython",
    "version": 2
   },
   "file_extension": ".py",
   "mimetype": "text/x-python",
   "name": "python",
   "nbconvert_exporter": "python",
   "pygments_lexer": "ipython2",
   "version": "2.7.6"
  }
 },
 "nbformat": 4,
 "nbformat_minor": 5
}
